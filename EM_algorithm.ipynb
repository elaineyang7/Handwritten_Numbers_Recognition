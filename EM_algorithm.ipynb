{
 "cells": [
  {
   "cell_type": "markdown",
   "metadata": {},
   "source": [
    "EM algorithm for detecting outliers in data. Discover unusual instances of the one digit in MNIST data.\n"
   ]
  },
  {
   "cell_type": "code",
   "execution_count": 1,
   "metadata": {},
   "outputs": [],
   "source": [
    "# import packages\n",
    "import struct\n",
    "import numpy as np\n",
    "from array import array\n",
    "import matplotlib.pyplot as plt\n",
    "import matplotlib.mlab as mlab\n",
    "import numpy.linalg as LA\n",
    "from pandas import DataFrame, ExcelWriter\n",
    "from sklearn.decomposition import PCA\n",
    "from sklearn.mixture import GaussianMixture\n",
    "from matplotlib.colors import LogNorm # Needed for showing good contour colors\n",
    "import pickle\n",
    "from scipy.stats import norm, multivariate_normal\n",
    "from sklearn.ensemble import IsolationForest\n",
    "from sklearn.neighbors import KernelDensity"
   ]
  },
  {
   "cell_type": "code",
   "execution_count": 2,
   "metadata": {},
   "outputs": [],
   "source": [
    "def load_mnist(dataset = \"training\", selecteddigits = range(10), path = r'/Users/elaineyang//Downloads'):\n",
    "\n",
    "    #Check training/testing specification. Must be \"training\" (default) or \"testing\"\n",
    "    if dataset == \"training\":\n",
    "        fname_digits = path + '/' + 'train-images-idx3-ubyte'\n",
    "        fname_labels = path + '/' + 'train-labels-idx1-ubyte'\n",
    "    elif dataset == \"testing\":\n",
    "        fname_digits = path + '/' + 't10k-images-idx3-ubyte'\n",
    "        fname_labels = path + '/' + 't10k-labels-idx1-ubyte'\n",
    "    else:\n",
    "        raise ValueError(\"dataset must be 'testing' or 'training'\")\n",
    "        \n",
    "        \n",
    "    #Import digits data\n",
    "    digitsfileobject = open(fname_digits, 'rb')\n",
    "    magic_nr, size, rows, cols = struct.unpack(\">IIII\", digitsfileobject.read(16))\n",
    "    digitsdata = array(\"B\", digitsfileobject.read())\n",
    "    digitsfileobject.close()\n",
    "    print('magic_nr, size, rows, cols', magic_nr, size, rows, cols)\n",
    "\n",
    "    #Import label data\n",
    "    labelsfileobject = open(fname_labels, 'rb')\n",
    "    magic_nr, size = struct.unpack(\">II\", labelsfileobject.read(8))\n",
    "    labelsdata = array(\"B\",labelsfileobject.read())\n",
    "    labelsfileobject.close()\n",
    "    \n",
    "    #Find indices of selected digits\n",
    "    indices = [k for k in range(size) if labelsdata[k] in selecteddigits]\n",
    "    N = len(indices)\n",
    "    print('N', N)\n",
    "    \n",
    "    #Create empty arrays for X and T\n",
    "    X = np.zeros((N, rows * cols), dtype = np.uint8)\n",
    "    T = np.zeros((N, 1), dtype = np.uint8)\n",
    "    \n",
    "    #Fill X from digitsdata\n",
    "    #Fill T from labelsdata\n",
    "    for i in range(N):\n",
    "        X[i] = digitsdata[indices[i] * rows * cols:(indices[i] + 1) * rows * cols]\n",
    "        T[i] = labelsdata[indices[i]]\n",
    "    \n",
    "    return X,T"
   ]
  },
  {
   "cell_type": "code",
   "execution_count": 3,
   "metadata": {},
   "outputs": [],
   "source": [
    "def vectortoimg(v, width, show = True):\n",
    "    \n",
    "    plt.imshow(v.reshape(width, width), interpolation = 'None', cmap = 'gray')\n",
    "    plt.axis('off')\n",
    "    if show:\n",
    "        plt.show()"
   ]
  },
  {
   "cell_type": "code",
   "execution_count": 4,
   "metadata": {},
   "outputs": [],
   "source": [
    "def pdf(x, mu, sigma):\n",
    "    \n",
    "    d = np.alen(mu)\n",
    "    dfact1 = (2 * np.pi) **d\n",
    "    dfact2 = np.linalg.det(sigma)\n",
    "    \n",
    "    fact = 1 / np.sqrt(dfact1 * dfact2)\n",
    "    \n",
    "    xc = x - mu\n",
    "    isigma = np.linalg.inv(sigma)\n",
    "    \n",
    "    return fact * np.exp(-0.5 * np.einsum('ij,jk,ik->i', xc, isigma, xc))"
   ]
  },
  {
   "cell_type": "code",
   "execution_count": 5,
   "metadata": {},
   "outputs": [],
   "source": [
    "def detect_outlier(data_1):\n",
    "    \n",
    "    threshold=3\n",
    "    mean_1 = np.mean(data_1)\n",
    "    std_1 =np.std(data_1)\n",
    "    outliers = []\n",
    "    '''\n",
    "    z_score = [(y - mean_1) / std_1 for y in data_1]\n",
    "    if np.where(np.abs(z_score) >= threshold):\n",
    "        outliers.append(y)\n",
    "    \n",
    "    '''\n",
    "    for y in data_1:\n",
    "        z_score= (y - mean_1)/std_1\n",
    "        #print(z_score.shape)\n",
    "        #print(np.abs(z_score))\n",
    "        if np.where(np.abs(z_score) >= threshold):\n",
    "            outliers.append(y)\n",
    "            #print(y)\n",
    "            \n",
    "    return outliers"
   ]
  },
  {
   "cell_type": "markdown",
   "metadata": {},
   "source": [
    "# EM Algorithm"
   ]
  },
  {
   "cell_type": "code",
   "execution_count": 6,
   "metadata": {},
   "outputs": [],
   "source": [
    "class EM:\n",
    "    \"\"\"\n",
    "    Full covariance Gaussian Mixture Model,\n",
    "    trained using Expectation Maximization\n",
    "    \"\"\"\n",
    "    \n",
    "    def __init__(self, n_components, n_iter, tol, seed):\n",
    "        self.n_components = n_components\n",
    "        self.n_iter = n_iter\n",
    "        self.tol = tol\n",
    "        self.seed = seed\n",
    "\n",
    "    def fit(self, X):\n",
    "        \n",
    "        # data's dimensionality and responsibility vector\n",
    "        self.n_row, self.n_col = X.shape     \n",
    "        self.resp = np.zeros((self.n_row, self.n_components))\n",
    "        \n",
    "        # initialize parameters\n",
    "        np.random.seed(self.seed)\n",
    "        chosen = np.random.choice(self.n_row, self.n_components, replace = False)\n",
    "        self.means = X[chosen]\n",
    "        self.weights = np.full(self.n_components, 1 / self.n_components)\n",
    "        \n",
    "        # for np.cov, rowvar = False, \n",
    "        # indicates that the rows represents obervation\n",
    "        shape = self.n_components, self.n_col, self.n_col\n",
    "        self.covs = np.full(shape, np.cov(X, rowvar = False))\n",
    "        \n",
    "        log_likelihood = 0\n",
    "        self.converged = False\n",
    "        self.log_likelihood_trace = []      \n",
    "        \n",
    "        for i in range(self.n_iter):\n",
    "            self._do_estep(X)\n",
    "            self._do_mstep(X)\n",
    "            log_likelihood_new = self._compute_log_likelihood(X)\n",
    "           \n",
    "            if (log_likelihood - log_likelihood_new) <= self.tol:\n",
    "                self.converged = True\n",
    "                break\n",
    "                \n",
    "            log_likelihood = log_likelihood_new\n",
    "            self.log_likelihood_trace.append(log_likelihood)\n",
    "            \n",
    "        return self\n",
    "      \n",
    "    def _do_estep(self, X):\n",
    "        \"\"\"\n",
    "        E-step: compute responsibilities,\n",
    "        update resp matrix so that resp[j, k] is the responsibility of cluster k for data point j,\n",
    "        to compute likelihood of seeing data point j given cluster k, use multivariate_normal.pdf\n",
    "        \"\"\"\n",
    "        for k in range(self.n_components):\n",
    "            prior = self.weights[k]\n",
    "            likelihood = multivariate_normal(self.means[k], self.covs[k]).pdf(X)\n",
    "            self.resp[:, k] = prior * likelihood\n",
    "        \n",
    "        # normalize over all possible cluster assignments\n",
    "        self.resp = self.resp / self.resp.sum(axis = 1, keepdims = 1)\n",
    "        return self\n",
    " \n",
    "    def _do_mstep(self, X):\n",
    "        \"\"\"M-step, update parameters\"\"\"\n",
    "        \n",
    "        # total responsibility assigned to each cluster, N^{soft}\n",
    "        resp_weights = self.resp.sum(axis = 0)\n",
    "        \n",
    "        # weights\n",
    "        self.weights = resp_weights / self.n_row\n",
    "        \n",
    "        # means\n",
    "        weighted_sum = np.dot(self.resp.T, X)\n",
    "        self.means = weighted_sum / resp_weights.reshape(-1, 1)\n",
    "        \n",
    "        # covariance\n",
    "        for k in range(self.n_components):\n",
    "            diff = (X - self.means[k]).T\n",
    "            weighted_sum = np.dot(self.resp[:, k] * diff, diff.T)\n",
    "            self.covs[k] = weighted_sum / resp_weights[k]\n",
    "            \n",
    "        return self\n",
    "    \n",
    "    \n",
    "    def _compute_log_likelihood(self, X):\n",
    "        \"\"\"manually compute the log likelihood of the current parameter\"\"\"\n",
    "        log_likelihood = 0\n",
    "        for k in range(self.n_components):\n",
    "            \n",
    "            weight = self.weights[k]\n",
    "            mean = self.means[k]\n",
    "            cov = self.covs[k]\n",
    "            cov_inverse = np.linalg.inv(cov)\n",
    "            term_other = np.log(2 * np.pi) + np.log(np.linalg.det(cov))\n",
    "            \n",
    "            for x in X:\n",
    "                # compute (x-mu)^T * Sigma^{-1} * (x-mu)\n",
    "                diff = x - mean\n",
    "                term_exponent = np.dot(diff.T, np.dot(cov_inverse, diff))\n",
    "            \n",
    "                # compute loglikelihood contribution for this data point and this cluster             \n",
    "                log_likelihood += -1 / 2 * (term_other + term_exponent) + np.log(weight)\n",
    "            \n",
    "        return log_likelihood"
   ]
  },
  {
   "cell_type": "code",
   "execution_count": 7,
   "metadata": {},
   "outputs": [],
   "source": [
    "def plot_contours(data, means, covs, title):\n",
    "    \"\"\"visualize the gaussian components over the data\"\"\"\n",
    "    plt.figure()\n",
    "    plt.plot(data[:, 0], data[:, 1], 'ko')\n",
    "\n",
    "    delta = 0.025\n",
    "    k = means.shape[0]\n",
    "    x = np.arange(-2.0, 7.0, delta)\n",
    "    y = np.arange(-2.0, 7.0, delta)\n",
    "    X, Y = np.meshgrid(x, y)\n",
    "    col = ['green', 'red', 'indigo']\n",
    "    for i in range(k):\n",
    "        mean = means[i]\n",
    "        cov = covs[i]\n",
    "        sigmax = np.sqrt(cov[0][0])\n",
    "        sigmay = np.sqrt(cov[1][1])\n",
    "        sigmaxy = cov[0][1] / (sigmax * sigmay)\n",
    "        Z = mlab.bivariate_normal(X, Y, sigmax, sigmay, mean[0], mean[1], sigmaxy)\n",
    "        plt.contour(X, Y, Z, colors = col[i])\n",
    "    \n",
    "    plt.title(title)\n",
    "    plt.tight_layout()"
   ]
  },
  {
   "cell_type": "code",
   "execution_count": 8,
   "metadata": {},
   "outputs": [],
   "source": [
    "def estimateGaussian(X):\n",
    "    \"\"\"\n",
    "     This function estimates the parameters of a Gaussian distribution using the data in X\n",
    "    \"\"\"\n",
    "    \n",
    "    m = X.shape[0]\n",
    "    \n",
    "    #compute mean\n",
    "    sum_ = np.sum(X, axis = 0)\n",
    "    mu = 1/m * sum_\n",
    "    \n",
    "    # compute variance\n",
    "    var = 1/m * np.sum((X - mu)**2, axis = 0)\n",
    "    \n",
    "    return mu,var"
   ]
  },
  {
   "cell_type": "code",
   "execution_count": 9,
   "metadata": {},
   "outputs": [],
   "source": [
    "def multivariateGaussian(X, mu, sigma2):\n",
    "    \"\"\"\n",
    "    Computes the probability density function of the multivariate gaussian distribution.\n",
    "    \"\"\"\n",
    "    k = len(mu)\n",
    "    \n",
    "    sigma2 = np.diag(sigma2)\n",
    "    X = X - mu.T\n",
    "    p = 1/((2*np.pi)**(k/2)*(np.linalg.det(sigma2)**0.5))* np.exp(-0.5* np.sum(X @ np.linalg.pinv(sigma2) * X,axis=1))\n",
    "    return p"
   ]
  },
  {
   "cell_type": "code",
   "execution_count": 10,
   "metadata": {},
   "outputs": [],
   "source": [
    "digit = 7"
   ]
  },
  {
   "cell_type": "code",
   "execution_count": 11,
   "metadata": {},
   "outputs": [
    {
     "name": "stdout",
     "output_type": "stream",
     "text": [
      "magic_nr, size, rows, cols 2051 60000 28 28\n",
      "N 6265\n"
     ]
    }
   ],
   "source": [
    "X, T = load_mnist(dataset = \"training\", selecteddigits = [digit])"
   ]
  },
  {
   "cell_type": "code",
   "execution_count": 12,
   "metadata": {},
   "outputs": [
    {
     "name": "stdout",
     "output_type": "stream",
     "text": [
      "Checking shape of matrix: (6265, 784)\n",
      "Checking min/max values: (0, 255)\n",
      "Checking unique labels in T: [7]\n",
      "Checking one training vector by plotting image:\n"
     ]
    },
    {
     "data": {
      "image/png": "[encoded data removed]",
      "text/plain": [
       "<Figure size 432x288 with 1 Axes>"
      ]
     },
     "metadata": {
      "needs_background": "light"
     },
     "output_type": "display_data"
    }
   ],
   "source": [
    "print(\"Checking shape of matrix:\", X.shape)\n",
    "print(\"Checking min/max values:\", (np.amin(X),np.amax(X)))\n",
    "print(\"Checking unique labels in T:\", list(np.unique(T)))\n",
    "\n",
    "print(\"Checking one training vector by plotting image:\")\n",
    "vectortoimg(X[-20], 28)"
   ]
  },
  {
   "cell_type": "code",
   "execution_count": 25,
   "metadata": {},
   "outputs": [
    {
     "name": "stdout",
     "output_type": "stream",
     "text": [
      "Checking multiple training vectors by plotting images.\n",
      "Be patient:\n"
     ]
    },
    {
     "data": {
      "image/png": "[encoded data removed]",
      "text/plain": [
       "<Figure size 432x288 with 100 Axes>"
      ]
     },
     "metadata": {
      "needs_background": "light"
     },
     "output_type": "display_data"
    }
   ],
   "source": [
    "print(\"Checking multiple training vectors by plotting images.\\nBe patient:\")\n",
    "plt.close('all')\n",
    "fig = plt.figure()\n",
    "\n",
    "nrows = 10\n",
    "ncols = 10\n",
    "for row in range(nrows):\n",
    "    for col in range(ncols):\n",
    "        plt.subplot(nrows, ncols, row * ncols + col + 1)\n",
    "        vectortoimg(X[np.random.randint(len(T))], 28, show = False)\n",
    "plt.show()"
   ]
  },
  {
   "cell_type": "code",
   "execution_count": null,
   "metadata": {},
   "outputs": [],
   "source": []
  },
  {
   "cell_type": "markdown",
   "metadata": {},
   "source": [
    "# XZCVPR"
   ]
  },
  {
   "cell_type": "code",
   "execution_count": 14,
   "metadata": {},
   "outputs": [
    {
     "name": "stdout",
     "output_type": "stream",
     "text": [
      "X\n",
      "  [[0. 0. 0. ... 0. 0. 0.]\n",
      " [0. 0. 0. ... 0. 0. 0.]\n",
      " [0. 0. 0. ... 0. 0. 0.]\n",
      " ...\n",
      " [0. 0. 0. ... 0. 0. 0.]\n",
      " [0. 0. 0. ... 0. 0. 0.]\n",
      " [0. 0. 0. ... 0. 0. 0.]]\n",
      "mu\n",
      "  [0.00000000e+00 0.00000000e+00 0.00000000e+00 0.00000000e+00\n",
      " 0.00000000e+00 0.00000000e+00 0.00000000e+00 0.00000000e+00\n",
      " 0.00000000e+00 0.00000000e+00 0.00000000e+00 0.00000000e+00\n",
      " 0.00000000e+00 0.00000000e+00 0.00000000e+00 0.00000000e+00\n",
      " 0.00000000e+00 0.00000000e+00 0.00000000e+00 0.00000000e+00\n",
      " 0.00000000e+00 0.00000000e+00 0.00000000e+00 0.00000000e+00\n",
      " 0.00000000e+00 0.00000000e+00 0.00000000e+00 0.00000000e+00\n",
      " 0.00000000e+00 0.00000000e+00 0.00000000e+00 0.00000000e+00\n",
      " 0.00000000e+00 0.00000000e+00 0.00000000e+00 0.00000000e+00\n",
      " 0.00000000e+00 0.00000000e+00 0.00000000e+00 0.00000000e+00\n",
      " 0.00000000e+00 0.00000000e+00 0.00000000e+00 0.00000000e+00\n",
      " 0.00000000e+00 0.00000000e+00 0.00000000e+00 0.00000000e+00\n",
      " 0.00000000e+00 0.00000000e+00 0.00000000e+00 0.00000000e+00\n",
      " 0.00000000e+00 0.00000000e+00 0.00000000e+00 0.00000000e+00\n",
      " 0.00000000e+00 0.00000000e+00 0.00000000e+00 0.00000000e+00\n",
      " 0.00000000e+00 0.00000000e+00 0.00000000e+00 0.00000000e+00\n",
      " 0.00000000e+00 0.00000000e+00 0.00000000e+00 0.00000000e+00\n",
      " 0.00000000e+00 0.00000000e+00 0.00000000e+00 0.00000000e+00\n",
      " 0.00000000e+00 0.00000000e+00 0.00000000e+00 0.00000000e+00\n",
      " 0.00000000e+00 0.00000000e+00 0.00000000e+00 0.00000000e+00\n",
      " 0.00000000e+00 0.00000000e+00 0.00000000e+00 0.00000000e+00\n",
      " 0.00000000e+00 0.00000000e+00 0.00000000e+00 0.00000000e+00\n",
      " 0.00000000e+00 0.00000000e+00 0.00000000e+00 0.00000000e+00\n",
      " 0.00000000e+00 0.00000000e+00 0.00000000e+00 0.00000000e+00\n",
      " 0.00000000e+00 0.00000000e+00 0.00000000e+00 0.00000000e+00\n",
      " 0.00000000e+00 0.00000000e+00 0.00000000e+00 0.00000000e+00\n",
      " 0.00000000e+00 0.00000000e+00 0.00000000e+00 0.00000000e+00\n",
      " 0.00000000e+00 0.00000000e+00 0.00000000e+00 0.00000000e+00\n",
      " 0.00000000e+00 0.00000000e+00 0.00000000e+00 1.61213089e-02\n",
      " 3.06464485e-02 2.13886672e-02 4.15003990e-03 8.14046289e-03\n",
      " 1.02154828e-02 6.06544294e-03 0.00000000e+00 5.85794094e-02\n",
      " 9.25778132e-02 9.75259377e-02 8.60335196e-02 5.57063049e-02\n",
      " 3.08060654e-02 3.19233839e-04 0.00000000e+00 0.00000000e+00\n",
      " 0.00000000e+00 4.05426975e-02 7.98084597e-03 0.00000000e+00\n",
      " 0.00000000e+00 0.00000000e+00 0.00000000e+00 0.00000000e+00\n",
      " 0.00000000e+00 0.00000000e+00 0.00000000e+00 2.36233041e-02\n",
      " 8.71508380e-02 3.02154828e-01 6.20430966e-01 1.03272147e+00\n",
      " 1.59106145e+00 2.12130886e+00 2.25123703e+00 2.42777334e+00\n",
      " 2.61500399e+00 2.44261772e+00 2.24229848e+00 2.08172386e+00\n",
      " 1.76983240e+00 1.25889864e+00 8.92737430e-01 3.87230646e-01\n",
      " 1.75897845e-01 1.36791700e-01 7.53391860e-02 3.19233839e-04\n",
      " 0.00000000e+00 0.00000000e+00 0.00000000e+00 0.00000000e+00\n",
      " 0.00000000e+00 0.00000000e+00 1.30726257e-01 2.91620112e-01\n",
      " 1.15051875e+00 3.17573823e+00 6.04006385e+00 9.44054270e+00\n",
      " 1.38569832e+01 1.82043097e+01 2.26588986e+01 2.53203512e+01\n",
      " 2.73391860e+01 2.79104549e+01 2.81193935e+01 2.77366321e+01\n",
      " 2.69222666e+01 2.45254589e+01 2.01650439e+01 1.48295291e+01\n",
      " 9.48747007e+00 5.83032721e+00 2.81899441e+00 8.51875499e-01\n",
      " 1.16201117e-01 2.71348763e-03 0.00000000e+00 0.00000000e+00\n",
      " 7.50199521e-03 1.08060654e-01 8.32083001e-01 2.65251397e+00\n",
      " 7.23192338e+00 1.52469274e+01 2.67085395e+01 4.00379888e+01\n",
      " 5.47977654e+01 6.95904230e+01 8.26145251e+01 9.28355946e+01\n",
      " 1.00112849e+02 1.05362809e+02 1.08270551e+02 1.10594413e+02\n",
      " 1.11578292e+02 1.07683001e+02 9.56303272e+01 7.73631285e+01\n",
      " 5.36300080e+01 3.09596169e+01 1.48311253e+01 5.93407821e+00\n",
      " 1.21260974e+00 1.86113328e-01 0.00000000e+00 0.00000000e+00\n",
      " 3.04868316e-02 4.44373504e-01 2.91061453e+00 8.54253791e+00\n",
      " 1.80164405e+01 3.38202713e+01 5.40242618e+01 7.93265762e+01\n",
      " 1.04902793e+02 1.29784358e+02 1.50710136e+02 1.65690662e+02\n",
      " 1.75223623e+02 1.79630168e+02 1.82744134e+02 1.85024421e+02\n",
      " 1.86321628e+02 1.82184677e+02 1.65617398e+02 1.34566321e+02\n",
      " 9.34932163e+01 5.53816441e+01 2.69217877e+01 1.02949721e+01\n",
      " 2.35833998e+00 2.90183559e-01 0.00000000e+00 0.00000000e+00\n",
      " 4.66081405e-02 7.14445331e-01 4.64197925e+00 1.28533121e+01\n",
      " 2.59369513e+01 4.58316042e+01 7.09115722e+01 1.00911891e+02\n",
      " 1.30297686e+02 1.56150040e+02 1.73858101e+02 1.83141580e+02\n",
      " 1.83680287e+02 1.79697207e+02 1.77808460e+02 1.80363767e+02\n",
      " 1.88720192e+02 1.95888907e+02 1.88788986e+02 1.59090343e+02\n",
      " 1.11371109e+02 6.55599362e+01 3.12359138e+01 1.08812450e+01\n",
      " 2.18132482e+00 3.25458899e-01 2.49002394e-02 3.25618516e-02\n",
      " 6.38467678e-02 9.05985634e-01 4.79840383e+00 1.28062251e+01\n",
      " 2.58814046e+01 4.41104549e+01 6.75118915e+01 9.37538707e+01\n",
      " 1.18506784e+02 1.36637031e+02 1.44464326e+02 1.39848045e+02\n",
      " 1.27968396e+02 1.17484437e+02 1.12092099e+02 1.19482682e+02\n",
      " 1.43433360e+02 1.73104070e+02 1.83961852e+02 1.60246289e+02\n",
      " 1.10512051e+02 6.22648045e+01 2.76857143e+01 8.28252195e+00\n",
      " 1.43958500e+00 2.46767757e-01 2.20271349e-02 8.77893057e-03\n",
      " 5.68236233e-02 7.02154828e-01 3.80399042e+00 9.48906624e+00\n",
      " 1.96006385e+01 3.31399840e+01 5.16285714e+01 7.24004789e+01\n",
      " 9.13640862e+01 1.01145730e+02 9.68665603e+01 8.15569034e+01\n",
      " 6.40292099e+01 5.31358340e+01 5.10015962e+01 6.61146049e+01\n",
      " 1.07375738e+02 1.57066241e+02 1.78402713e+02 1.50910615e+02\n",
      " 9.89695132e+01 5.01589785e+01 2.01331205e+01 5.08459697e+00\n",
      " 6.47086991e-01 5.61851556e-02 1.43655227e-03 2.87310455e-03\n",
      " 3.63926576e-02 3.93296089e-01 2.12960894e+00 5.63112530e+00\n",
      " 1.24545890e+01 2.25533919e+01 3.59163607e+01 5.32317638e+01\n",
      " 6.69063049e+01 6.87063049e+01 5.75426975e+01 3.96142059e+01\n",
      " 2.42820431e+01 1.80999202e+01 2.30786911e+01 4.97406225e+01\n",
      " 1.07416281e+02 1.63924022e+02 1.74912051e+02 1.36486193e+02\n",
      " 7.95221069e+01 3.51275339e+01 1.24001596e+01 2.98643256e+00\n",
      " 3.75418994e-01 9.28970471e-02 2.53790902e-02 1.06943336e-02\n",
      " 0.00000000e+00 1.24341580e-01 1.04118117e+00 3.18100559e+00\n",
      " 8.14269753e+00 1.55173184e+01 2.55106145e+01 3.79059856e+01\n",
      " 4.63280128e+01 4.40866720e+01 3.21540303e+01 1.73897845e+01\n",
      " 9.13679170e+00 8.30391061e+00 2.05289705e+01 6.21418994e+01\n",
      " 1.30966480e+02 1.77775579e+02 1.67341261e+02 1.16114924e+02\n",
      " 5.94459697e+01 2.35426975e+01 7.88539505e+00 2.39888268e+00\n",
      " 7.30885874e-01 1.55945730e-01 1.46847566e-02 0.00000000e+00\n",
      " 0.00000000e+00 3.41580208e-02 4.25698324e-01 1.71667997e+00\n",
      " 5.20079808e+00 1.09634477e+01 1.82416600e+01 2.63058260e+01\n",
      " 3.04012769e+01 2.64039904e+01 1.81201915e+01 1.10513966e+01\n",
      " 8.43160415e+00 1.20435754e+01 3.42295291e+01 9.35621708e+01\n",
      " 1.61751636e+02 1.86272466e+02 1.53804789e+02 9.41632881e+01\n",
      " 4.40740623e+01 1.78598563e+01 7.46528332e+00 3.13328013e+00\n",
      " 1.04437350e+00 2.76775738e-01 0.00000000e+00 0.00000000e+00\n",
      " 1.11731844e-03 0.00000000e+00 1.44932163e-01 9.51157223e-01\n",
      " 3.12881085e+00 7.45139665e+00 1.30646449e+01 1.76146848e+01\n",
      " 1.92181963e+01 1.81152434e+01 1.53778132e+01 1.42726257e+01\n",
      " 1.57918595e+01 2.59743017e+01 6.35517957e+01 1.32615004e+02\n",
      " 1.83465922e+02 1.81792498e+02 1.31578611e+02 7.34534717e+01\n",
      " 3.41730247e+01 1.56111732e+01 7.52817239e+00 3.36919393e+00\n",
      " 1.24150040e+00 2.44373504e-01 0.00000000e+00 0.00000000e+00\n",
      " 6.38467678e-03 0.00000000e+00 3.36791700e-02 5.57541899e-01\n",
      " 1.99648843e+00 4.80271349e+00 8.46225060e+00 1.14217079e+01\n",
      " 1.33412610e+01 1.51984038e+01 1.66584198e+01 1.90646449e+01\n",
      " 2.60892259e+01 4.74729449e+01 1.01166161e+02 1.64053152e+02\n",
      " 1.88617239e+02 1.60026816e+02 1.02454110e+02 5.35918595e+01\n",
      " 2.45305666e+01 1.23829210e+01 6.46017558e+00 2.98675180e+00\n",
      " 9.71428571e-01 9.40143655e-02 0.00000000e+00 0.00000000e+00\n",
      " 0.00000000e+00 1.02154828e-02 1.35674381e-02 2.91300878e-01\n",
      " 1.20015962e+00 2.79600958e+00 4.50055866e+00 6.65379090e+00\n",
      " 9.31667997e+00 1.21707901e+01 1.50557063e+01 2.09347167e+01\n",
      " 3.52274541e+01 7.33243416e+01 1.34197765e+02 1.78210215e+02\n",
      " 1.74664804e+02 1.27858739e+02 7.38086193e+01 3.53998404e+01\n",
      " 1.60667199e+01 7.98515563e+00 4.04596967e+00 1.82122905e+00\n",
      " 7.83878691e-01 1.42378292e-01 2.53790902e-02 0.00000000e+00\n",
      " 9.57701516e-03 6.70391061e-03 4.56504389e-02 1.75738228e-01\n",
      " 6.76935355e-01 1.28332003e+00 2.02138867e+00 3.36185156e+00\n",
      " 5.35418994e+00 7.97749401e+00 1.23102953e+01 2.31693536e+01\n",
      " 4.98098962e+01 1.00675339e+02 1.53271987e+02 1.74042777e+02\n",
      " 1.46645810e+02 9.59315243e+01 5.06529928e+01 2.24129290e+01\n",
      " 9.86336792e+00 4.47661612e+00 2.08715084e+00 8.16759777e-01\n",
      " 3.69034318e-01 5.20351157e-02 2.02713488e-02 0.00000000e+00\n",
      " 0.00000000e+00 3.16041500e-02 4.93216281e-02 8.76296887e-02\n",
      " 3.71428571e-01 5.58978452e-01 8.93695132e-01 1.63304070e+00\n",
      " 3.07581804e+00 6.07741421e+00 1.39160415e+01 3.31728651e+01\n",
      " 7.22812450e+01 1.22243256e+02 1.58862889e+02 1.55126895e+02\n",
      " 1.15455547e+02 6.93849960e+01 3.43826018e+01 1.47003990e+01\n",
      " 5.97877095e+00 2.22889066e+00 8.96568236e-01 2.67517957e-01\n",
      " 1.92019154e-01 4.26177175e-02 0.00000000e+00 0.00000000e+00\n",
      " 0.00000000e+00 7.02314445e-03 1.27693536e-03 1.80367119e-02\n",
      " 9.08220271e-02 2.72944932e-01 4.87789306e-01 1.28826816e+00\n",
      " 3.52992817e+00 9.33455706e+00 2.39549880e+01 5.25284916e+01\n",
      " 9.50711891e+01 1.35460974e+02 1.50601596e+02 1.30117159e+02\n",
      " 9.01688747e+01 5.20759777e+01 2.49963288e+01 1.02009577e+01\n",
      " 3.83910615e+00 1.32801277e+00 5.22426177e-01 1.41899441e-01\n",
      " 1.36632083e-01 6.01755786e-02 0.00000000e+00 0.00000000e+00\n",
      " 0.00000000e+00 0.00000000e+00 0.00000000e+00 0.00000000e+00\n",
      " 1.15562650e-01 4.36073424e-01 1.08300080e+00 2.72274541e+00\n",
      " 7.39824421e+00 1.90130886e+01 4.04194733e+01 7.46534717e+01\n",
      " 1.11631125e+02 1.35042937e+02 1.33401915e+02 1.07198563e+02\n",
      " 7.25351955e+01 4.13924980e+01 1.97141261e+01 8.06592179e+00\n",
      " 3.14349561e+00 1.15578611e+00 4.30167598e-01 7.96488428e-02\n",
      " 9.16201117e-02 6.08140463e-02 0.00000000e+00 0.00000000e+00\n",
      " 0.00000000e+00 0.00000000e+00 0.00000000e+00 1.64405427e-02\n",
      " 2.79010375e-01 1.07326417e+00 2.45490822e+00 6.22154828e+00\n",
      " 1.55527534e+01 3.27779729e+01 5.92794892e+01 9.10691141e+01\n",
      " 1.17087789e+02 1.26005906e+02 1.15760734e+02 8.99704709e+01\n",
      " 6.03706305e+01 3.46893855e+01 1.66988029e+01 7.14477255e+00\n",
      " 2.89545092e+00 1.07374302e+00 3.73503591e-01 4.56504389e-02\n",
      " 6.27294493e-02 3.86272945e-02 0.00000000e+00 0.00000000e+00\n",
      " 0.00000000e+00 0.00000000e+00 0.00000000e+00 2.36233041e-02\n",
      " 6.96089385e-01 2.04724661e+00 5.02745411e+00 1.22012769e+01\n",
      " 2.53543496e+01 4.61195531e+01 7.29867518e+01 9.87158819e+01\n",
      " 1.13702314e+02 1.13740782e+02 9.96542698e+01 7.65190742e+01\n",
      " 5.14505986e+01 3.06786911e+01 1.50509178e+01 6.62090982e+00\n",
      " 2.74269753e+00 9.49880287e-01 3.69992019e-01 7.72545890e-02\n",
      " 7.13487630e-02 2.31444533e-02 0.00000000e+00 0.00000000e+00\n",
      " 0.00000000e+00 0.00000000e+00 1.67597765e-02 1.14604948e-01\n",
      " 9.75578611e-01 2.90742219e+00 7.63671189e+00 1.76718276e+01\n",
      " 3.33355148e+01 5.44418196e+01 7.84754988e+01 9.60228252e+01\n",
      " 1.03345571e+02 9.89548284e+01 8.45173184e+01 6.53288109e+01\n",
      " 4.46831604e+01 2.70325619e+01 1.35304070e+01 6.41660016e+00\n",
      " 2.64453312e+00 1.02106943e+00 2.98004789e-01 1.88347965e-02\n",
      " 4.16600160e-02 7.02314445e-03 0.00000000e+00 0.00000000e+00\n",
      " 0.00000000e+00 0.00000000e+00 0.00000000e+00 9.86432562e-02\n",
      " 6.66560255e-01 2.64022346e+00 7.94908220e+00 1.81146049e+01\n",
      " 3.35224262e+01 5.09851556e+01 6.84135674e+01 8.00791700e+01\n",
      " 8.32743815e+01 7.82748603e+01 6.65910615e+01 5.17158819e+01\n",
      " 3.56110136e+01 2.20236233e+01 1.18031923e+01 5.83415802e+00\n",
      " 2.39457302e+00 1.04916201e+00 4.03990423e-01 3.04868316e-02\n",
      " 4.02234637e-02 0.00000000e+00 0.00000000e+00 0.00000000e+00\n",
      " 0.00000000e+00 0.00000000e+00 0.00000000e+00 0.00000000e+00\n",
      " 1.74142059e-01 1.14269753e+00 4.24309657e+00 9.95530726e+00\n",
      " 1.86408619e+01 2.71174781e+01 3.63203512e+01 4.32033520e+01\n",
      " 4.50004789e+01 4.31007183e+01 3.75980846e+01 2.91677574e+01\n",
      " 2.08330407e+01 1.34857143e+01 7.65347167e+00 3.69289705e+00\n",
      " 1.28778931e+00 6.61133280e-01 2.89066241e-01 4.85235435e-02\n",
      " 0.00000000e+00 9.41739824e-03 0.00000000e+00 0.00000000e+00\n",
      " 0.00000000e+00 0.00000000e+00 0.00000000e+00 0.00000000e+00\n",
      " 2.42617717e-02 1.49241820e-01 3.92178771e-01 8.17079010e-01\n",
      " 1.19090184e+00 1.82266560e+00 3.05826018e+00 3.92545890e+00\n",
      " 4.77509976e+00 5.48683160e+00 6.21739824e+00 5.46927374e+00\n",
      " 4.43048683e+00 3.15291301e+00 1.76568236e+00 6.72785315e-01\n",
      " 2.58100559e-01 1.05187550e-01 1.12210694e-01 1.91540303e-02\n",
      " 0.00000000e+00 0.00000000e+00 0.00000000e+00 0.00000000e+00]\n",
      "mu.shape\n",
      "  (784,)\n",
      "Z\n",
      "  [[0. 0. 0. ... 0. 0. 0.]\n",
      " [0. 0. 0. ... 0. 0. 0.]\n",
      " [0. 0. 0. ... 0. 0. 0.]\n",
      " ...\n",
      " [0. 0. 0. ... 0. 0. 0.]\n",
      " [0. 0. 0. ... 0. 0. 0.]\n",
      " [0. 0. 0. ... 0. 0. 0.]]\n",
      "C\n",
      "  [[0. 0. 0. ... 0. 0. 0.]\n",
      " [0. 0. 0. ... 0. 0. 0.]\n",
      " [0. 0. 0. ... 0. 0. 0.]\n",
      " ...\n",
      " [0. 0. 0. ... 0. 0. 0.]\n",
      " [0. 0. 0. ... 0. 0. 0.]\n",
      " [0. 0. 0. ... 0. 0. 0.]]\n",
      "V\n",
      "  [[0. 0. 0. ... 0. 0. 0.]\n",
      " [0. 0. 0. ... 0. 0. 0.]\n",
      " [0. 0. 0. ... 0. 0. 0.]\n",
      " ...\n",
      " [0. 0. 0. ... 0. 0. 0.]\n",
      " [0. 0. 0. ... 0. 0. 0.]\n",
      " [0. 0. 0. ... 0. 0. 0.]]\n",
      "V.shape\n",
      "  (50, 784)\n"
     ]
    }
   ],
   "source": [
    "X = np.array(X, np.float64)\n",
    "mu = np.mean(X, axis = 0)\n",
    "Z = X - mu\n",
    "C = np.cov(Z, rowvar = False)\n",
    "[λorig, Vorig] = LA.eigh(C)\n",
    "λF = np.flipud(λorig)\n",
    "VTF = np.flipud(Vorig.T)\n",
    "λ = λF[:50]\n",
    "V = VTF[:50] # reduce the problem dimension to from 784 to 50\n",
    "\n",
    "print('X\\n ', X)\n",
    "print('mu\\n ', mu)\n",
    "print('mu.shape\\n ', mu.shape )\n",
    "print('Z\\n ', Z)\n",
    "print('C\\n ', C)\n",
    "print('V\\n ', V)\n",
    "print('V.shape\\n ', V.shape)"
   ]
  },
  {
   "cell_type": "code",
   "execution_count": 15,
   "metadata": {},
   "outputs": [
    {
     "name": "stdout",
     "output_type": "stream",
     "text": [
      "P [[-602.63295225 -896.05407054  139.38578923 ...   18.01582833\n",
      "    33.09746981   86.18323545]\n",
      " [-344.5047332   -28.27723896  928.23374036 ...  -20.54985981\n",
      "    -8.43702955  -23.25358997]\n",
      " [ 184.22375484  813.40192494  141.44988423 ...  154.67797982\n",
      "   164.79358029  -31.74177104]\n",
      " ...\n",
      " [-728.51959474 -429.82771487  536.04894279 ...  -89.9660374\n",
      "    68.34448093   30.16041504]\n",
      " [-728.65260395  182.67074173   52.03375064 ...   -6.88864018\n",
      "   -11.5247131    99.97617768]\n",
      " [-240.47412065 -837.68155584  887.60971671 ...  -95.75669842\n",
      "   108.67183843 -102.94472054]]\n",
      "P.shape (6265, 50)\n"
     ]
    }
   ],
   "source": [
    "P = np.dot(Z, V.T)\n",
    "R = np.dot(P, V)\n",
    "Xrec = R + mu\n",
    "\n",
    "print('P', P)\n",
    "print('P.shape', P.shape)"
   ]
  },
  {
   "cell_type": "code",
   "execution_count": 16,
   "metadata": {},
   "outputs": [
    {
     "name": "stdout",
     "output_type": "stream",
     "text": [
      "[1.69033777e-134 6.28913799e-140 4.73766386e-145 ... 1.45385378e-139\n",
      " 6.55577456e-136 6.60728087e-146]\n"
     ]
    }
   ],
   "source": [
    "mu_P, sigma_P = estimateGaussian(P)\n",
    "PP = multivariateGaussian(P, mu_P, sigma_P)\n",
    "print(PP)"
   ]
  },
  {
   "cell_type": "code",
   "execution_count": 17,
   "metadata": {},
   "outputs": [
    {
     "name": "stdout",
     "output_type": "stream",
     "text": [
      "[1.68738655e-134 6.29069795e-140 4.74777004e-145 ... 1.45401989e-139\n",
      " 6.54772414e-136 6.62345757e-146]\n"
     ]
    }
   ],
   "source": [
    "pdf = multivariate_normal.pdf(P, mean=np.mean(P, axis = 0), cov=np.cov((P-np.mean(P, axis = 0)), rowvar = False))\n",
    "print(pdf)"
   ]
  },
  {
   "cell_type": "code",
   "execution_count": 18,
   "metadata": {},
   "outputs": [
    {
     "data": {
      "text/plain": [
       "GaussianMixture(covariance_type='full', init_params='kmeans', max_iter=100,\n",
       "                means_init=None, n_components=11, n_init=1,\n",
       "                precisions_init=None, random_state=None, reg_covar=1e-06,\n",
       "                tol=0.001, verbose=0, verbose_interval=10, warm_start=False,\n",
       "                weights_init=None)"
      ]
     },
     "execution_count": 18,
     "metadata": {},
     "output_type": "execute_result"
    }
   ],
   "source": [
    "gmm = GaussianMixture(n_components = 11)\n",
    "gmm.fit(P)"
   ]
  },
  {
   "cell_type": "code",
   "execution_count": 19,
   "metadata": {},
   "outputs": [
    {
     "data": {
      "text/plain": [
       "GaussianMixture(covariance_type='full', init_params='kmeans', max_iter=100,\n",
       "                means_init=None, n_components=11, n_init=1,\n",
       "                precisions_init=None, random_state=None, reg_covar=1e-06,\n",
       "                tol=0.001, verbose=0, verbose_interval=10, warm_start=False,\n",
       "                weights_init=None)"
      ]
     },
     "execution_count": 19,
     "metadata": {},
     "output_type": "execute_result"
    }
   ],
   "source": [
    "estimator = GaussianMixture(n_components = 11, covariance_type = 'full', max_iter = 100, init_params = 'kmeans')\n",
    "estimator.fit(P)"
   ]
  },
  {
   "cell_type": "code",
   "execution_count": 20,
   "metadata": {},
   "outputs": [
    {
     "name": "stdout",
     "output_type": "stream",
     "text": [
      "GaussianMixture(covariance_type='full', init_params='kmeans', max_iter=100,\n",
      "                means_init=None, n_components=11, n_init=1,\n",
      "                precisions_init=None, random_state=None, reg_covar=1e-06,\n",
      "                tol=0.001, verbose=0, verbose_interval=10, warm_start=False,\n",
      "                weights_init=None)\n",
      "GaussianMixture(covariance_type='full', init_params='kmeans', max_iter=100,\n",
      "                means_init=None, n_components=11, n_init=1,\n",
      "                precisions_init=None, random_state=None, reg_covar=1e-06,\n",
      "                tol=0.001, verbose=0, verbose_interval=10, warm_start=False,\n",
      "                weights_init=None)\n",
      "gmm.means_.shape = \n",
      "  (11, 50)\n",
      "gmm.means_ =  [[ 6.58246987e+02  3.26478862e+02  2.06729830e+02 -4.61941358e+01\n",
      "   5.16888318e+01 -3.25695517e+02 -1.18212005e+01  1.54064847e+02\n",
      "  -1.10048562e+02 -7.59228809e+01  5.39529428e+01  6.39396955e+01\n",
      "  -1.17798630e+00  5.41922376e+00 -2.92652154e+00  2.59413283e+01\n",
      "   8.53253776e+01 -4.12266665e+00  2.93044208e+01  7.97009487e-01\n",
      "   2.58651153e+01  1.12276512e+01 -1.02407248e+01  7.35875564e-01\n",
      "  -3.00827803e+01  1.10466278e+01 -1.37131589e+01  8.91664775e+00\n",
      "   2.58713594e+01  1.34090882e+01  2.59508339e+01  2.31652719e+00\n",
      "  -1.39587611e+01 -6.63099905e-01 -3.31462551e+00  1.34154950e+01\n",
      "  -1.08634440e+00  3.91031699e+00  8.35115694e+00  1.01918494e+00\n",
      "   2.48410571e+00 -2.25807500e+00 -9.90381276e-01  7.29256399e+00\n",
      "  -9.60826424e+00  1.30583685e+01 -1.41068544e+01 -1.25951320e+00\n",
      "  -2.68709938e-01  3.38119453e+00]\n",
      " [-8.17067154e+02  5.27916474e+01  3.04977996e+02 -2.58824923e+02\n",
      "  -7.57081430e+01 -1.46650449e+02 -3.00710852e+01 -8.10067769e+00\n",
      "  -4.79813501e+00  8.40756027e+01 -4.69191089e+00 -1.31218035e+01\n",
      "   8.88526321e+01  5.34643793e+01 -5.57451228e+01 -1.99738376e+01\n",
      "   1.87175681e+00  7.58658798e+00 -1.06866890e+01  9.54241649e+00\n",
      "  -1.02141196e+01 -2.19123990e+00  5.73540335e+01 -2.82666966e+01\n",
      "   3.10446313e+01 -6.78236402e+00 -8.75503970e+00 -9.90161505e+00\n",
      "  -2.43548397e+01 -1.65268761e+01  1.38466151e-01 -1.87095669e+01\n",
      "   2.18502732e+01 -2.25787075e+00 -5.84346720e+00 -2.12107097e+01\n",
      "   9.04364043e+00  6.27464681e+00 -1.64961689e+01  6.72439350e+00\n",
      "  -7.17756971e+00  1.45675392e+00  5.01408576e+00 -3.22326972e-01\n",
      "   5.66677756e+00  1.49337262e+01 -1.57218046e+00  8.31748428e+00\n",
      "  -4.46610419e+00  1.69730233e-01]\n",
      " [-4.18237182e+02 -2.09887780e+02 -8.96030846e+01  4.41085084e+02\n",
      "  -4.59277040e+01 -1.31157320e+02  2.82438085e+01  1.58106091e+02\n",
      "   3.34954855e+01 -3.51106336e+01 -7.25990586e+01  5.19540155e+01\n",
      "   6.49111293e+00 -5.41148852e+01  7.18254763e+01  4.54953636e+00\n",
      "  -1.08050998e+01 -1.11300814e+01 -2.50077558e-01 -4.35908485e+01\n",
      "  -4.86312012e+01 -1.95049715e+01 -1.00884613e+01 -1.32697162e+00\n",
      "   4.75465193e+00 -1.07806029e+00  1.89884538e+01  9.83131668e+00\n",
      "   2.81112931e+01 -1.13129302e+01 -6.40054036e+00 -6.60164307e+00\n",
      "  -7.74704981e+00  5.17132966e+00 -1.16054848e+01  1.06160348e+01\n",
      "   1.29132714e+01  6.25476080e+00 -8.50249163e-01 -1.90492881e+00\n",
      "   4.43661760e-02  5.82885548e+00  3.26021326e+00 -4.43443437e-01\n",
      "   4.27769285e+00 -6.57950286e+00  1.37506522e+00 -5.13508060e+00\n",
      "   4.40182210e+00  1.79786306e+00]\n",
      " [ 4.95492649e+02 -7.30573188e+01 -4.57520645e+02  4.70145495e+01\n",
      "   2.49322483e+02 -1.20782328e+02 -2.32460447e+02  3.92783488e+01\n",
      "   1.02476397e+02  8.52815537e+01 -3.45327080e+00 -5.77701638e+01\n",
      "   5.33798135e+01  1.18898806e+01 -2.69588211e+01 -1.43868867e+00\n",
      "  -6.08526713e+01 -4.97085685e+01 -2.74872322e+01  5.81351472e+00\n",
      "   1.33643431e+01  1.26175158e+01 -1.81496817e+00 -1.41996214e+01\n",
      "  -2.53176501e+01 -1.64352960e+01 -5.07828202e+00 -6.69723062e+00\n",
      "   1.23995285e+01  5.84806129e+00  3.08160252e+00 -2.91975789e+00\n",
      "  -1.81463939e+00 -1.80238983e+01 -1.01546162e+01  1.33007406e+00\n",
      "   1.25269017e+01  1.31420047e+00  6.19635664e+00  1.52103713e+01\n",
      "  -3.30907327e+00 -1.15787903e+01  9.12572909e+00  6.38343547e+00\n",
      "   2.16772620e+00  4.16779124e+00  7.34842125e+00  3.49495407e+00\n",
      "  -6.06423008e+00 -3.83053932e+00]\n",
      " [ 4.70098939e+02 -4.65385636e+02 -2.81970132e+02  8.25274012e+01\n",
      "  -1.83100031e+02  2.56603328e+02  1.37837026e+01 -1.33177864e+02\n",
      "   4.63474268e+01 -2.21644803e+00 -7.57118969e+00  4.48285776e+00\n",
      "   5.14394532e+01 -9.32312747e-01 -6.03925860e+01  1.37799007e+01\n",
      "   8.34300098e+01  1.69968945e+01  3.27092614e+01  1.36948139e+00\n",
      "  -2.71654207e+01  1.59499424e+01  1.02077421e+01 -7.24942423e+00\n",
      "   5.57338857e+00 -5.41209853e+00  1.15712870e+01  4.29890357e+00\n",
      "  -2.63783551e+01 -2.07505601e+01 -5.38252503e+00 -1.67849011e+01\n",
      "  -3.70963993e+00  9.85381919e+00  8.99418630e-01 -1.04361373e+01\n",
      "  -1.04748571e+00 -4.24856598e+00  1.18314339e+00 -2.71971483e+00\n",
      "  -2.22389611e+00 -7.05123146e+00  2.63088692e+00  6.60401541e+00\n",
      "  -1.36839658e+00  7.08669117e+00  3.37797356e+00  5.90506836e+00\n",
      "  -4.65870359e+00  1.12411095e+01]\n",
      " [-5.60311370e+02  6.04806514e+02  1.78130080e+01  1.41039824e+02\n",
      "  -5.28099386e+01  3.27515861e+02  8.11987525e+01  2.83250217e+01\n",
      "   7.48291176e+01  1.49865286e+01  1.67120956e+01  5.56988373e+01\n",
      "   4.29940384e+01  7.01212651e+01 -5.84880372e+01  1.08268323e+02\n",
      "  -3.48154596e+01 -2.04278374e+01  5.71783101e+00  5.60101408e+00\n",
      "   6.61401110e+01  5.67913023e+01 -1.12497445e+01 -4.16089696e+00\n",
      "  -4.87155498e+00 -2.62939656e+00 -3.33706879e+01  2.00648489e+00\n",
      "   2.61387837e+01  1.35193416e+01  2.43281220e+01  2.59849532e+01\n",
      "   7.77000490e+00  2.38243872e+01  6.09697031e+00 -1.74669846e+00\n",
      "  -8.94081482e+00  1.52609120e+00  4.84950296e+00  1.85472797e+01\n",
      "  -3.09043880e+00 -2.22618324e+00 -6.36902827e+00 -7.73137639e+00\n",
      "  -1.80680599e+01  1.17859429e+01 -4.02685593e+00 -8.39122761e+00\n",
      "   2.05977805e+01  2.80272113e+00]\n",
      " [ 9.19645621e+02 -1.98978877e+02  6.78229246e+02 -6.34722513e+01\n",
      "  -6.18248363e+01  7.42295789e+01  2.03012361e+02  9.94308434e+01\n",
      "   1.68954029e+02  6.62305472e+01 -4.94216757e+01 -1.19229845e+02\n",
      "   1.39977109e+01 -1.80043258e+01  2.58486291e+01 -6.12841582e+00\n",
      "  -1.09595516e+02 -2.82019080e+01 -2.33274537e+01 -6.55675695e-01\n",
      "  -1.08145812e+01 -2.21108209e+01  4.37796582e+01 -6.97263389e+00\n",
      "   4.38615726e+01  5.19285226e+00 -1.31959220e+00  4.97413827e+00\n",
      "  -1.60342250e+01  1.52451017e+01  8.09722047e-01 -6.50278716e+00\n",
      "   6.92123310e+00  6.23360998e+00  1.71132028e+01  1.50275651e+01\n",
      "  -2.89442087e+01  1.57985795e+00 -3.37029089e+00  8.70421887e+00\n",
      "  -2.67901892e+00  8.25770933e-01 -1.15330360e+01 -1.02068378e+01\n",
      "   4.23203604e+00 -6.97775890e+00 -4.98801878e+00  1.68384250e+00\n",
      "   8.67623650e+00 -7.03062403e+00]\n",
      " [-4.08467787e+02 -1.53570092e+02 -1.16555978e+02 -3.36307433e+02\n",
      "   5.32781690e+01  2.39666491e+02  2.67109666e+01  3.11919945e+00\n",
      "   2.69265345e+01  5.30168374e+01 -6.56063894e+01  7.39182320e+01\n",
      "  -6.97247397e+01  1.30057206e+01 -3.79134509e+01 -6.81235445e+01\n",
      "   1.81932757e+01  4.48966701e+01  3.23653491e+00 -2.16639593e+01\n",
      "  -1.53274056e+01  3.12191723e+00  7.37689895e-01 -6.88968902e+00\n",
      "  -1.18480216e+01  6.75570729e+00  9.37225513e+00 -1.11671517e+01\n",
      "   5.30629479e+00  1.57452823e+01  3.69687582e-01 -1.14453437e+00\n",
      "  -4.68769593e+00 -7.05279017e+00  2.17028664e+01  2.39751628e+01\n",
      "  -1.39391585e+00  7.32492212e+00  1.59016560e+01 -1.20016446e+01\n",
      "   1.04588002e+01  6.27700955e-01  2.30742235e+00  2.11696213e+01\n",
      "   2.55680493e+00  8.43170763e+00 -3.55851110e-01  4.21167861e+00\n",
      "   3.67762874e+00 -2.49299278e+00]\n",
      " [-5.01642144e+02 -6.93830185e+02  2.56742957e+02 -1.16597214e+02\n",
      "   8.18812936e+01 -5.12948188e+01 -1.03501077e+02 -9.31249286e+01\n",
      "  -1.44998777e+02 -9.33837124e+01  1.12434682e+02 -4.21529747e+01\n",
      "  -1.92759397e+01  1.39771190e+01  4.99377107e+01 -4.63868204e+00\n",
      "   4.21275655e+00 -5.47522900e+00  8.13913911e+00  1.23045716e+01\n",
      "   3.27612140e+01  8.32800234e-01 -3.58477472e+01  2.75337917e+01\n",
      "  -2.06993085e+01  1.89320244e-01 -3.12479120e+00  1.48203542e+01\n",
      "   4.09974970e+00  1.01289564e+01 -1.40138920e+01  2.14997308e+01\n",
      "  -9.11175018e+00 -5.00730955e+00  1.53788953e+00 -7.10682551e+00\n",
      "  -2.94429884e+00 -2.03009362e+00 -5.84203318e-01 -8.58080892e-01\n",
      "  -6.84061514e+00 -4.47304624e+00 -1.86550808e+00 -1.29614255e+01\n",
      "  -4.64704504e+00 -1.62870869e+01  3.87886435e+00 -1.13311474e+01\n",
      "  -1.63440800e+00 -4.07287104e+00]\n",
      " [ 5.61653442e+01  3.35227350e+02 -4.08597089e+02  6.49931440e+01\n",
      "  -1.42458646e+02 -1.57470955e+02  1.05475170e+02 -1.54384749e+02\n",
      "  -4.61463278e+01  2.31257663e+01 -3.93018713e+01 -7.49750193e+01\n",
      "   5.82883792e+00  2.29321802e+01  3.98763297e+01 -3.34029915e+01\n",
      "   3.32329614e+00  1.68284616e+01  1.49954510e+01  4.16969256e+01\n",
      "   3.68664994e+01 -1.40121088e+01 -9.85744052e+00 -6.10721479e-01\n",
      "   9.51073924e+00  9.60772152e+00 -4.47099402e+00 -2.59071831e+00\n",
      "  -6.92767509e+00  1.42066721e+00 -1.25307890e+01  1.93111044e+00\n",
      "   1.24441505e+01 -4.12139708e+00  8.20346507e+00  9.64055851e+00\n",
      "   2.00494846e+00  2.96772447e-02 -3.60655502e+00  3.97025351e+00\n",
      "   8.01894402e+00  1.28771993e+01 -1.64785257e+00  1.38905107e-01\n",
      "   1.58381540e+01 -5.38669884e+00 -6.66260175e+00  9.68666562e+00\n",
      "  -2.93192043e-01 -4.34707801e+00]\n",
      " [ 1.34566821e+02  6.36218664e+02  2.31521047e+00 -7.99245528e+01\n",
      "   2.54578460e+02  2.26622901e+02 -1.12990852e+02 -1.84102290e+01\n",
      "  -3.14462247e+01 -4.96072316e+01  5.10690877e+01  6.24683465e+01\n",
      "  -1.65325639e+02 -9.31338502e+01  4.58707645e+00  3.59260885e+00\n",
      "  -4.67896847e+01  1.10009025e+01 -5.68807561e+01 -1.89479887e+01\n",
      "  -4.88166476e+01 -2.13344690e+01 -2.00944717e+01  3.17048762e+01\n",
      "  -4.66445932e+00 -6.99506594e+00  1.76986399e+01 -2.18680746e+01\n",
      "  -2.06297155e+01 -1.27335921e+01 -2.83488081e+00  7.04369881e+00\n",
      "  -5.08819415e+00 -7.26698073e+00 -1.91283597e+01 -3.04615636e+01\n",
      "   1.20392423e+00 -2.00724617e+01 -5.61355833e+00 -2.80851500e+01\n",
      "   2.35360525e+00 -1.05995514e+00 -8.84572865e-01 -8.29508683e+00\n",
      "  -8.62740450e+00 -1.66633695e+01  1.80874178e+01 -9.14133317e+00\n",
      "  -1.32476983e+01 -3.82655700e-01]]\n",
      "gmm.weights_ =  [0.10075461 0.09076266 0.10902843 0.06457005 0.10728889 0.06437549\n",
      " 0.07557332 0.0735606  0.1024566  0.12063334 0.09099602]\n",
      "estimator.means_.shape =  (11, 50)\n",
      "estimator.means_ =  [[ 6.97560357e+02  3.14550926e+02  1.90568286e+02 -1.28727128e+02\n",
      "   4.08278070e+01 -3.49764738e+02  2.91656544e+01  1.21762693e+02\n",
      "  -1.05314101e+02 -4.92383618e+01  7.26722128e+01  7.16775766e+01\n",
      "   1.37823780e+01 -1.15960880e+01 -3.30172651e+01  4.10371870e+01\n",
      "   7.03418008e+01 -3.00743243e+00  4.39148270e+01 -1.67306375e+00\n",
      "   4.57097553e+01 -5.16849681e+00 -1.26170682e+01  1.72387881e+01\n",
      "  -1.28522730e+01  8.48100366e+00 -7.90585719e+00  8.48305832e+00\n",
      "   3.40115465e+01  1.37782274e+01  1.22988338e+01  3.28419372e+00\n",
      "  -6.51347084e+00 -1.36277253e-01 -1.53446635e+00  1.33854366e+01\n",
      "  -1.19391444e+01  1.41777416e+00  1.00133348e+01  1.15290776e+01\n",
      "   5.86887331e+00  1.96798420e+00 -3.14566765e+00  1.23783099e+01\n",
      "  -8.10011223e+00  1.03067425e+01 -1.22592718e+01  1.58496448e+00\n",
      "   5.10917148e+00  5.70010100e+00]\n",
      " [-4.08385535e+02 -4.42252640e+02 -1.49344485e+02 -3.57700190e+02\n",
      "  -1.58576456e+02  2.85091785e+01  1.20570416e+02 -6.23277990e+01\n",
      "  -1.21558983e+02 -1.59250234e+01  9.99664741e+01  2.72446528e+01\n",
      "  -4.27140292e+00 -1.61389877e+01  4.12439894e+00 -7.16665652e+00\n",
      "   1.99220592e+01  4.56118154e-01 -2.20071720e+01  1.72388262e+01\n",
      "   1.86323983e+01 -1.51670145e+01  4.05497610e+01  1.37855404e+01\n",
      "  -2.86921889e+01  1.26560612e+01  4.53836548e-01 -1.60192500e+01\n",
      "  -2.51129857e+01  1.19848548e+01 -1.34526452e+01 -1.32238717e+01\n",
      "  -2.44082086e+00 -1.41366342e+01  1.51822484e+00  1.01834611e+01\n",
      "  -7.24910735e+00 -2.52751904e+00 -1.20332976e+01  2.66822326e+00\n",
      "   3.31071844e+00  1.11944295e+01  8.98131557e+00 -7.24480619e+00\n",
      "  -1.00404270e+01 -2.14991759e-01 -7.69619620e+00 -6.50465669e+00\n",
      "  -4.79066063e+00 -2.82213305e+00]\n",
      " [ 1.40104546e+02  3.34181975e+02 -3.83546244e+02  2.50620384e+02\n",
      "   4.45087622e+00 -1.72256461e+02 -7.55854424e+01 -1.27182313e+02\n",
      "   1.43806192e+00  7.06096107e+00 -9.75502297e-01 -7.13548089e+01\n",
      "   1.74370277e+01  7.04068444e+01  7.99405758e+01 -6.15460797e+01\n",
      "  -4.85186094e+00  3.06369050e+01 -1.80101781e+01  2.75765012e+01\n",
      "   7.15411203e+00  1.96103966e+01 -2.00901784e+00  2.54538628e+00\n",
      "  -1.89415924e+01 -2.59589794e+00 -6.67788360e-01  8.18295865e+00\n",
      "   7.74618723e+00 -2.74654829e+00 -7.41697696e-01  6.40794908e+00\n",
      "  -3.38872780e+00 -3.82456802e+00  3.99918474e+00  6.12244336e+00\n",
      "   2.03755928e+01  1.59555389e+01 -1.28992519e+00 -9.38219252e+00\n",
      "   8.34429275e-01 -4.26764705e-01  9.38878362e+00 -1.28140093e+01\n",
      "   9.16393287e+00  2.07736762e+00 -3.97540061e-01 -2.89341520e+00\n",
      "   5.86152168e+00 -7.99626292e+00]\n",
      " [-3.87605374e+02 -4.83849290e+02 -6.07620266e+01  3.52813301e+02\n",
      "  -8.02092725e+01 -4.35639638e+01 -3.84264971e+01  1.75619739e+02\n",
      "  -1.81190011e+00 -8.11824098e+01 -1.40792559e+01  3.38051761e+01\n",
      "  -3.48225038e+01 -8.10144886e+01  2.18252805e+01  1.94985826e+01\n",
      "  -2.88408455e+00 -2.28783053e+01  9.14983852e+00 -3.04921843e+01\n",
      "  -1.46691163e+01  5.30304317e+00 -9.37036503e+00  2.46359540e+01\n",
      "   3.27459828e+01  4.12177196e+00  1.28758466e+01  1.81977061e+01\n",
      "   3.25149342e+01  7.53414517e+00 -7.72728204e+00 -3.77777052e+00\n",
      "  -4.95801858e+00  3.83808516e+00 -1.15637180e+00  1.99136999e+00\n",
      "   9.06541340e+00  9.39843143e-01 -6.15137381e+00 -6.16140379e+00\n",
      "  -4.70425445e+00 -3.04281705e+00 -8.38992828e+00  5.51714578e+00\n",
      "   1.01624396e+01 -5.13573152e+00 -5.56809594e+00 -9.12914122e+00\n",
      "  -1.12301238e+00 -5.82832879e+00]\n",
      " [-5.69682226e+02  3.63286307e+02 -8.49997012e+01  1.30051066e+02\n",
      "  -1.71922322e+02  7.35129862e+00  1.99888772e+02  9.04367284e+01\n",
      "   1.65497905e+01  1.66759939e+01  2.12704648e+01 -3.10609306e+01\n",
      "   7.32356105e+01  3.95445682e+01 -3.08086388e+01  2.76299660e+01\n",
      "  -1.90494499e-02  3.43525885e+01  1.22747941e+01 -1.76835996e+01\n",
      "   3.34310078e+01 -1.25820579e+01  3.52487822e+00 -3.31961267e+01\n",
      "   1.56560138e+01  5.60638015e+00 -2.33349477e+01 -5.39579235e+00\n",
      "  -1.72463379e+01 -5.03387991e+00  5.34666905e+00  4.80500042e+00\n",
      "   2.11278602e+01 -1.95661647e+00 -3.08841296e-01 -1.71175296e+01\n",
      "  -7.30656773e+00 -1.13325138e+00 -3.49562099e+00  1.17261307e+01\n",
      "  -4.00953194e+00  1.11652450e+01 -6.33694622e+00  2.01261722e+00\n",
      "   7.30024049e+00  1.31988144e+01 -1.38796489e+00  1.32745468e+01\n",
      "   8.11119771e+00 -9.32821104e+00]\n",
      " [-7.52973565e+02 -2.44820023e+02  5.16325150e+02 -1.49733732e+02\n",
      "   1.08855583e+02 -2.51933174e+02 -1.85840698e+02 -1.61164301e+02\n",
      "  -3.68853181e+01  5.11569525e+01 -7.69072931e+01 -3.40227623e+01\n",
      "   5.43060971e+01  6.11224677e+01  3.01747693e+01  1.55706667e+01\n",
      "   2.78648262e+01 -2.17059014e+01 -1.53713950e+01 -8.11248189e-01\n",
      "  -6.01419811e+01  2.23052529e+00 -4.83701015e+00 -1.13930647e+01\n",
      "  -3.73131568e+00  3.48369138e+00  1.90775365e+01  1.16083359e+01\n",
      "  -9.92664009e+00 -1.80502744e+01 -3.55135147e+01 -2.29555702e+00\n",
      "   7.95910993e+00  9.95172357e+00 -5.66559785e+00 -1.83622352e+01\n",
      "  -9.65074280e-01 -4.54749558e+00  5.53477731e+00  1.70404296e+01\n",
      "  -5.61182831e+00 -1.11538391e+01  6.82922189e+00 -5.09512834e+00\n",
      "  -8.11469669e+00 -4.45032499e-01  8.91458323e+00 -1.40683859e-01\n",
      "   5.41729970e+00  1.03541746e+01]\n",
      " [ 8.82868782e+02 -1.72794873e+02  7.44422346e+02 -3.15045079e+01\n",
      "  -7.27374303e+01  1.00590782e+02  2.38447798e+02  1.33428099e+02\n",
      "   1.70836804e+02  4.68296492e+01 -6.90248378e+01 -1.58513348e+02\n",
      "  -2.10819291e+01 -5.81001490e+00  5.16144397e+01 -2.97291504e+01\n",
      "  -9.47628450e+01 -3.60664863e+01 -3.68472460e+01  6.89625699e+00\n",
      "  -1.38585798e+01 -9.63234986e+00  4.80617289e+01 -7.04202678e+00\n",
      "   3.54827420e+01  1.24343760e+01 -6.02141642e+00  1.22186553e+01\n",
      "  -1.97473753e+01  2.03036132e+01  7.59992371e+00 -9.32283018e+00\n",
      "   7.29070614e+00 -4.33590854e-01  1.30039029e+01  1.61022309e+01\n",
      "  -2.53567165e+01  2.60291048e+00 -2.10911516e+00  7.97797084e+00\n",
      "  -2.55550274e+00  1.63271190e+00 -1.34717447e+01 -1.51644224e+01\n",
      "   1.73480579e+00 -8.71878715e+00 -1.00864700e+01  3.18429464e-01\n",
      "   3.61240482e+00 -1.02293738e+01]\n",
      " [-2.20504438e+02 -3.16110037e+02 -7.54063049e+01 -1.59867068e+02\n",
      "   1.72729872e+02  2.60418706e+02 -7.87033292e+01  1.02803813e+01\n",
      "   4.17235409e+01  2.29470414e+01 -4.14501249e+01  7.16054147e+00\n",
      "  -5.79360883e+01  2.24311462e+01 -2.64380973e+01 -6.45511489e+01\n",
      "   1.62414796e+01  3.46634203e+01  3.78188341e+01 -1.67372279e+01\n",
      "  -3.27233702e+00  4.89828292e+00 -2.35106023e+01 -1.69735476e+01\n",
      "   6.51901140e+00 -2.11029042e+00  1.31992901e+01 -2.94007023e+01\n",
      "   1.73185160e+01  2.30612513e+01  5.33856494e+00  1.00616931e+01\n",
      "  -8.37744364e+00 -7.76816829e+00  1.32037372e+01  1.69290455e+01\n",
      "  -4.70516658e+00  4.48313631e-01  2.52204300e+01 -4.07338961e+00\n",
      "   3.85721824e+00 -9.66108285e+00  8.71135255e+00  1.60266013e+01\n",
      "   4.50416348e+00  1.33968448e+01 -1.93755644e+00  6.87533551e+00\n",
      "   3.86815224e+00  8.74438802e+00]\n",
      " [ 6.86840122e+02 -3.22874142e+02 -2.96395841e+02  1.97825435e+01\n",
      "  -6.16874571e+01  1.21467293e+02 -6.35669443e+01 -1.64105604e+02\n",
      "   5.34754071e+01  7.51028787e+01 -3.12132173e+01 -7.88266729e+00\n",
      "   1.01446334e+02  1.27851013e+01 -5.01031257e+01  1.86546252e+01\n",
      "   1.64423731e+01 -1.20949509e+01  1.81246616e+01  1.24018633e+01\n",
      "  -1.15239889e+01  9.40017681e+00 -7.91262610e+00 -1.78671633e+01\n",
      "   4.91559270e+00 -2.12864321e+01 -1.41257874e+00  8.99481110e+00\n",
      "  -2.22414936e+01 -2.67298398e+01  2.79067852e+00 -2.05029155e+01\n",
      "  -3.27489134e-01  1.33643295e+01  3.78970631e+00  2.68380039e-01\n",
      "   2.67552470e+00  7.00062793e-01 -5.73870788e+00  8.81779764e+00\n",
      "  -1.92086805e+00 -3.00014608e+00  1.16249426e+00  9.60938836e+00\n",
      "   5.83284388e+00 -3.18324815e+00  9.18073793e+00  7.69835668e+00\n",
      "  -8.50107595e+00  9.82040935e+00]\n",
      " [ 2.83041285e+02  5.08410341e+02  1.06642980e+01 -1.07852480e+02\n",
      "   2.58578391e+02  1.23768139e+02 -1.31162753e+02  6.52761329e+01\n",
      "  -2.22415656e+01 -2.81987227e+01  1.64477774e+01  5.21839796e+01\n",
      "  -1.65027148e+02 -9.10032587e+01  9.56425809e+00 -7.94599597e+00\n",
      "  -2.57901997e+01  1.59868984e+01 -4.19363216e+01 -3.97364277e+01\n",
      "  -5.06441850e+01 -1.29838109e+01 -2.66237685e+01  2.23425857e+01\n",
      "  -2.34713168e+01 -7.21560510e+00  1.69793792e+01 -4.06710718e+01\n",
      "  -2.53499591e+01 -2.23224515e+01  3.00382413e+00  5.14772581e+00\n",
      "  -8.30087751e+00 -2.31143844e+01 -1.50953321e+01 -1.48195810e+01\n",
      "   6.38535530e+00 -2.42827546e+01 -6.57561752e+00 -3.64945973e+01\n",
      "  -4.84184950e+00 -1.17309316e+01  4.05987862e+00 -9.69157679e+00\n",
      "  -5.96881410e+00 -1.47168424e+01  1.80709808e+01 -3.15055111e+00\n",
      "  -1.31753877e+01 -5.59849921e+00]\n",
      " [-4.19887205e+02  6.66527781e+02  6.92932187e+01  3.34953006e+01\n",
      "   1.12293066e+02  4.04512678e+02 -1.70047811e+01 -7.27357746e+01\n",
      "   8.52295213e+01 -4.27542338e+01 -3.27862788e+01  1.24482525e+02\n",
      "  -5.09698101e+01 -1.49352376e+01 -7.01752710e+01  5.40857842e+01\n",
      "  -8.72288559e+01 -5.49750950e+01 -6.57272909e+00  5.82681800e+01\n",
      "   3.65492472e+01  1.22050070e+01  3.40952485e+00  7.57908756e+00\n",
      "  -1.67142214e+00 -1.41083084e+01 -2.51987625e+01  2.60933018e+01\n",
      "   3.36933109e+01  8.89175763e+00  3.01276807e+01  3.53074721e+01\n",
      "  -3.03611859e+00  3.43175902e+01 -1.67982268e+01 -2.14353142e+01\n",
      "   1.28740961e+01  7.07293707e+00  4.51373372e+00 -7.78572070e+00\n",
      "   1.46100078e+01  1.21528661e+01 -1.52893256e+01 -3.72515221e-01\n",
      "  -1.93365103e+01 -1.74587992e+01  6.80232086e+00 -1.39169162e+01\n",
      "  -6.49608624e+00  1.37073796e+01]]\n",
      "estimator.weights_ =  [0.09872822 0.09999671 0.11263073 0.10651786 0.10724855 0.07728761\n",
      " 0.06622773 0.08036605 0.11157169 0.08241198 0.05701286]\n",
      "mu_P =  [ 8.50564453e-14  6.70507367e-14 -6.08265411e-14  8.71931772e-15\n",
      " -7.92995181e-15 -3.13659536e-14 -3.62926856e-14 -2.05960991e-14\n",
      " -4.63457595e-14 -2.42571238e-14  2.35660033e-14  1.25119034e-14\n",
      " -1.42176596e-14 -1.01846349e-14  2.44773608e-14 -2.50147336e-14\n",
      "  2.03964893e-14 -2.64120020e-14  3.37669415e-14  2.58131727e-15\n",
      "  7.03170784e-16  1.95980502e-15 -7.60331764e-15 -5.73197604e-15\n",
      " -2.56158312e-14  2.11246113e-14 -3.02873803e-14 -1.07494398e-14\n",
      " -2.71922947e-14 -2.04373186e-15 -5.71609799e-15 -6.66424440e-15\n",
      " -6.89561027e-16  1.66141110e-14  9.39073241e-15 -1.02980495e-15\n",
      "  1.68602208e-14  1.63543915e-15  9.65038105e-15 -1.16181960e-14\n",
      " -1.25504643e-14 -1.23440497e-14 -6.79580538e-15 -2.25241480e-15\n",
      "  1.65766842e-14 -9.23422020e-15 -5.34069552e-15  8.79190309e-15\n",
      " -2.97826851e-15 -1.36664644e-14]\n"
     ]
    }
   ],
   "source": [
    "print(gmm.fit(P))\n",
    "print(estimator.fit(P))\n",
    "\n",
    "print(\"gmm.means_.shape = \\n \", gmm.means_.shape)\n",
    "print(\"gmm.means_ = \", gmm.means_)\n",
    "print(\"gmm.weights_ = \", gmm.weights_)\n",
    "\n",
    "print(\"estimator.means_.shape = \", estimator.means_.shape)\n",
    "print(\"estimator.means_ = \", estimator.means_)\n",
    "print(\"estimator.weights_ = \", estimator.weights_)\n",
    "\n",
    "print(\"mu_P = \", mu_P)"
   ]
  },
  {
   "attachments": {},
   "cell_type": "markdown",
   "metadata": {},
   "source": [
    "# Find 10 outliers"
   ]
  },
  {
   "cell_type": "code",
   "execution_count": 21,
   "metadata": {},
   "outputs": [],
   "source": [
    "threshold=0.115\n",
    "outliers=[]\n",
    "outliers_index=[]\n",
    "for index, y in enumerate(P):\n",
    "    z_score= (y - mu_P)/sigma_P\n",
    "    if np.linalg.norm(z_score) > threshold:\n",
    "        outliers.append(y)\n",
    "        outliers_index.append(index)"
   ]
  },
  {
   "cell_type": "code",
   "execution_count": 22,
   "metadata": {},
   "outputs": [
    {
     "name": "stdout",
     "output_type": "stream",
     "text": [
      "outliers_index: \n",
      " [238, 253, 295, 530, 890, 1228, 1579, 1641, 2114, 2790, 2816, 4164, 4231, 4329, 5263]\n"
     ]
    }
   ],
   "source": [
    "print(\"outliers_index: \\n\", outliers_index)"
   ]
  },
  {
   "cell_type": "code",
   "execution_count": 23,
   "metadata": {},
   "outputs": [],
   "source": [
    "Xrec1 = X[outliers_index[0]]\n",
    "Xrec2 = X[outliers_index[1]]\n",
    "Xrec3 = X[outliers_index[2]]\n",
    "Xrec4 = X[outliers_index[3]]\n",
    "Xrec5 = X[outliers_index[4]]\n",
    "Xrec6 = X[outliers_index[5]]\n",
    "Xrec7 = X[outliers_index[6]]\n",
    "Xrec8 = X[outliers_index[7]]\n",
    "Xrec9 = X[outliers_index[8]]\n",
    "Xrec10 = X[outliers_index[9]]"
   ]
  },
  {
   "cell_type": "markdown",
   "metadata": {},
   "source": [
    "Plot 10 Outliers"
   ]
  },
  {
   "cell_type": "code",
   "execution_count": 24,
   "metadata": {},
   "outputs": [
    {
     "data": {
      "image/png": "[encoded data removed]",
      "text/plain": [
       "<Figure size 432x288 with 1 Axes>"
      ]
     },
     "metadata": {
      "needs_background": "light"
     },
     "output_type": "display_data"
    },
    {
     "data": {
      "image/png": "[encoded data removed]",
      "text/plain": [
       "<Figure size 432x288 with 1 Axes>"
      ]
     },
     "metadata": {
      "needs_background": "light"
     },
     "output_type": "display_data"
    },
    {
     "data": {
      "image/png": "[encoded data removed]",
      "text/plain": [
       "<Figure size 432x288 with 1 Axes>"
      ]
     },
     "metadata": {
      "needs_background": "light"
     },
     "output_type": "display_data"
    },
    {
     "data": {
      "image/png": "[encoded data removed]",
      "text/plain": [
       "<Figure size 432x288 with 1 Axes>"
      ]
     },
     "metadata": {
      "needs_background": "light"
     },
     "output_type": "display_data"
    },
    {
     "data": {
      "image/png": "[encoded data removed]",
      "text/plain": [
       "<Figure size 432x288 with 1 Axes>"
      ]
     },
     "metadata": {
      "needs_background": "light"
     },
     "output_type": "display_data"
    },
    {
     "data": {
      "image/png": "[encoded data removed]",
      "text/plain": [
       "<Figure size 432x288 with 1 Axes>"
      ]
     },
     "metadata": {
      "needs_background": "light"
     },
     "output_type": "display_data"
    },
    {
     "data": {
      "image/png": "[encoded data removed]",
      "text/plain": [
       "<Figure size 432x288 with 1 Axes>"
      ]
     },
     "metadata": {
      "needs_background": "light"
     },
     "output_type": "display_data"
    },
    {
     "data": {
      "image/png": "[encoded data removed]",
      "text/plain": [
       "<Figure size 432x288 with 1 Axes>"
      ]
     },
     "metadata": {
      "needs_background": "light"
     },
     "output_type": "display_data"
    },
    {
     "data": {
      "image/png": "[encoded data removed]",
      "text/plain": [
       "<Figure size 432x288 with 1 Axes>"
      ]
     },
     "metadata": {
      "needs_background": "light"
     },
     "output_type": "display_data"
    },
    {
     "data": {
      "image/png": "[encoded data removed]",
      "text/plain": [
       "<Figure size 432x288 with 1 Axes>"
      ]
     },
     "metadata": {
      "needs_background": "light"
     },
     "output_type": "display_data"
    }
   ],
   "source": [
    "vectortoimg(Xrec1, 28)\n",
    "vectortoimg(Xrec2, 28)\n",
    "vectortoimg(Xrec3, 28)\n",
    "vectortoimg(Xrec4, 28)\n",
    "vectortoimg(Xrec5, 28)\n",
    "vectortoimg(Xrec6, 28)\n",
    "vectortoimg(Xrec7, 28)\n",
    "vectortoimg(Xrec8, 28)\n",
    "vectortoimg(Xrec9, 28)\n",
    "vectortoimg(Xrec10, 28)"
   ]
  },
  {
   "cell_type": "code",
   "execution_count": null,
   "metadata": {},
   "outputs": [],
   "source": []
  },
  {
   "cell_type": "code",
   "execution_count": null,
   "metadata": {},
   "outputs": [],
   "source": []
  }
 ],
 "metadata": {
  "kernelspec": {
   "display_name": "Python 3",
   "language": "python",
   "name": "python3"
  },
  "language_info": {
   "codemirror_mode": {
    "name": "ipython",
    "version": 3
   },
   "file_extension": ".py",
   "mimetype": "text/x-python",
   "name": "python",
   "nbconvert_exporter": "python",
   "pygments_lexer": "ipython3",
   "version": "3.7.4"
  }
 },
 "nbformat": 4,
 "nbformat_minor": 2
}
