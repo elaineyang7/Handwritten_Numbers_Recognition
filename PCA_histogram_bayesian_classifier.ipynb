{
 "cells": [
  {
   "cell_type": "markdown",
   "metadata": {},
   "source": [
    "YU-WEN YANG (Elaine)"
   ]
  },
  {
   "cell_type": "markdown",
   "metadata": {},
   "source": [
    "Using principal component analysis and histogram/Bayesian concepts for classifier design and evaluation."
   ]
  },
  {
   "cell_type": "code",
   "execution_count": 68,
   "metadata": {},
   "outputs": [],
   "source": [
    "# import packages\n",
    "import struct\n",
    "import numpy as np\n",
    "from array import array\n",
    "import matplotlib.pyplot as plt\n",
    "import numpy.linalg as LA\n",
    "from pandas import DataFrame, ExcelWriter"
   ]
  },
  {
   "cell_type": "code",
   "execution_count": 69,
   "metadata": {},
   "outputs": [],
   "source": [
    "def load_mnist(dataset = \"training\", selecteddigits = range(10), path = r'/Users/elaineyang//Downloads'):\n",
    "\n",
    "    #Check training/testing specification. Must be \"training\" (default) or \"testing\"\n",
    "    if dataset == \"training\":\n",
    "        fname_digits = path + '/' + 'train-images-idx3-ubyte'\n",
    "        fname_labels = path + '/' + 'train-labels-idx1-ubyte'\n",
    "    elif dataset == \"testing\":\n",
    "        fname_digits = path + '/' + 't10k-images-idx3-ubyte'\n",
    "        fname_labels = path + '/' + 't10k-labels-idx1-ubyte'\n",
    "    else:\n",
    "        raise ValueError(\"dataset must be 'testing' or 'training'\")\n",
    "        \n",
    "        \n",
    "    #Import digits data\n",
    "    digitsfileobject = open(fname_digits, 'rb')\n",
    "    magic_nr, size, rows, cols = struct.unpack(\">IIII\", digitsfileobject.read(16))\n",
    "    digitsdata = array(\"B\", digitsfileobject.read())\n",
    "    digitsfileobject.close()\n",
    "    print('magic_nr, size, rows, cols', magic_nr, size, rows, cols)\n",
    "\n",
    "    #Import label data\n",
    "    labelsfileobject = open(fname_labels, 'rb')\n",
    "    magic_nr, size = struct.unpack(\">II\", labelsfileobject.read(8))\n",
    "    labelsdata = array(\"B\",labelsfileobject.read())\n",
    "    labelsfileobject.close()\n",
    "    \n",
    "    #Find indices of selected digits\n",
    "    indices = [k for k in range(size) if labelsdata[k] in selecteddigits]\n",
    "    N = len(indices)\n",
    "    print('N', N)\n",
    "    \n",
    "    #Create empty arrays for X and T\n",
    "    X = np.zeros((N, rows * cols), dtype = np.uint8)\n",
    "    T = np.zeros((N, 1), dtype = np.uint8)\n",
    "    \n",
    "    #Fill X from digitsdata\n",
    "    #Fill T from labelsdata\n",
    "    for i in range(N):\n",
    "        X[i] = digitsdata[indices[i] * rows * cols:(indices[i] + 1) * rows * cols]\n",
    "        T[i] = labelsdata[indices[i]]\n",
    "    \n",
    "    return X,T"
   ]
  },
  {
   "cell_type": "code",
   "execution_count": 70,
   "metadata": {},
   "outputs": [],
   "source": [
    "def vectortoimg(v, width, show = True):\n",
    "    \n",
    "    plt.imshow(v.reshape(width, width), interpolation = 'None', cmap = 'gray')\n",
    "    plt.axis('off')\n",
    "    if show:\n",
    "        plt.show()"
   ]
  },
  {
   "cell_type": "code",
   "execution_count": 71,
   "metadata": {},
   "outputs": [],
   "source": [
    "def readExcelSheet1(excelfile):\n",
    "    \n",
    "    from pandas import read_excel\n",
    "    \n",
    "    return (read_excel(excelfile)).values"
   ]
  },
  {
   "cell_type": "code",
   "execution_count": 72,
   "metadata": {},
   "outputs": [],
   "source": [
    "def readExcelRange(excelfile,sheetname = \"Sheet1\", startrow = 1, endrow = 1, startcol = 1, endcol = 1):\n",
    "    \n",
    "    from pandas import read_excel\n",
    "    values = (read_excel(excelfile, sheetname, header = None)).values;\n",
    "    \n",
    "    return values[startrow-1 : endrow, startcol - 1 : endcol]"
   ]
  },
  {
   "cell_type": "code",
   "execution_count": 73,
   "metadata": {},
   "outputs": [],
   "source": [
    "def readExcel(excelfile, **args):\n",
    "    \n",
    "    if args:\n",
    "        data = readExcelRange(excelfile, **args)\n",
    "    else:\n",
    "        data = readExcelSheet1(excelfile)\n",
    "    if data.shape == (1, 1):\n",
    "        return data[0, 0]\n",
    "    elif (data.shape)[0] == 1:\n",
    "        return data[0]\n",
    "    else:\n",
    "        return data"
   ]
  },
  {
   "cell_type": "code",
   "execution_count": 74,
   "metadata": {},
   "outputs": [],
   "source": [
    "def writeExcelData(x,excelfile,sheetname,startrow,startcol):\n",
    "    \n",
    "    from pandas import DataFrame, ExcelWriter\n",
    "    from openpyxl import load_workbook\n",
    "    df = DataFrame(x)\n",
    "    book = load_workbook(excelfile)\n",
    "    writer = ExcelWriter(excelfile, engine = 'openpyxl') \n",
    "    writer.book = book\n",
    "    writer.sheets = dict((ws.title, ws) for ws in book.worksheets)\n",
    "    df.to_excel(writer, sheet_name = sheetname, startrow = startrow - 1, startcol = startcol - 1, header = False, index = False)\n",
    "    writer.save()\n",
    "    writer.close()"
   ]
  },
  {
   "cell_type": "code",
   "execution_count": 75,
   "metadata": {},
   "outputs": [],
   "source": [
    "def getSheetNames(excelfile):\n",
    "    \n",
    "    from pandas import ExcelFile\n",
    "    \n",
    "    return (ExcelFile(excelfile)).sheet_names"
   ]
  },
  {
   "cell_type": "code",
   "execution_count": 76,
   "metadata": {},
   "outputs": [],
   "source": [
    "def accuracy(truth, result):\n",
    "    \"\"\"\n",
    "    Computes accuracy.\n",
    "    truth = array containing ground truth class labels\n",
    "    result = array containing classification result class labels\n",
    "    \"\"\"\n",
    "    return (list((truth == result)).count(True)) / np.alen(truth)"
   ]
  },
  {
   "cell_type": "markdown",
   "metadata": {},
   "source": [
    "# Set file & check sheets"
   ]
  },
  {
   "cell_type": "code",
   "execution_count": 77,
   "metadata": {},
   "outputs": [],
   "source": [
    "excelfile = r\"Assignment_3_ Submission_Template.xlsx\"\n",
    "sheets = getSheetNames(excelfile)"
   ]
  },
  {
   "cell_type": "code",
   "execution_count": 78,
   "metadata": {},
   "outputs": [],
   "source": [
    "# Set two numbers\n",
    "[label_n, label_p] = [4, 6]"
   ]
  },
  {
   "cell_type": "markdown",
   "metadata": {},
   "source": [
    "# Check Data Set"
   ]
  },
  {
   "cell_type": "code",
   "execution_count": 79,
   "metadata": {},
   "outputs": [
    {
     "name": "stdout",
     "output_type": "stream",
     "text": [
      "magic_nr, size, rows, cols 2051 60000 28 28\n",
      "N 11760\n"
     ]
    }
   ],
   "source": [
    "X, T = load_mnist(dataset = \"training\", selecteddigits = [label_n, label_p])"
   ]
  },
  {
   "cell_type": "code",
   "execution_count": 80,
   "metadata": {},
   "outputs": [
    {
     "name": "stdout",
     "output_type": "stream",
     "text": [
      "Checking shape of matrix:  (11760, 784)\n",
      "Checking min/max values:  (0, 255)\n",
      "Checking unique labels in T:  [4, 6]\n"
     ]
    }
   ],
   "source": [
    "print(\"Checking shape of matrix: \", X.shape)\n",
    "print(\"Checking min/max values: \",(np.amin(X),np.amax(X)))\n",
    "print(\"Checking unique labels in T: \",list(np.unique(T)))\n"
   ]
  },
  {
   "cell_type": "code",
   "execution_count": 81,
   "metadata": {},
   "outputs": [
    {
     "name": "stdout",
     "output_type": "stream",
     "text": [
      "Checking one training vector by plotting image: \n"
     ]
    },
    {
     "data": {
      "image/png": "[encoded data removed]",
      "text/plain": [
       "<Figure size 432x288 with 1 Axes>"
      ]
     },
     "metadata": {
      "needs_background": "light"
     },
     "output_type": "display_data"
    }
   ],
   "source": [
    "print(\"Checking one training vector by plotting image: \")\n",
    "vectortoimg(X[-20], 28)"
   ]
  },
  {
   "cell_type": "code",
   "execution_count": 82,
   "metadata": {},
   "outputs": [
    {
     "name": "stdout",
     "output_type": "stream",
     "text": [
      "Checking multiple training vectors by plotting images.\n",
      "Be patient:\n"
     ]
    },
    {
     "data": {
      "image/png": "[encoded data removed]",
      "text/plain": [
       "<Figure size 432x288 with 100 Axes>"
      ]
     },
     "metadata": {
      "needs_background": "light"
     },
     "output_type": "display_data"
    }
   ],
   "source": [
    "print(\"Checking multiple training vectors by plotting images.\\nBe patient:\")\n",
    "plt.close('all')\n",
    "\n",
    "fig = plt.figure()\n",
    "\n",
    "nrows = 10\n",
    "ncols = 10\n",
    "for row in range(nrows):\n",
    "    for col in range(ncols):\n",
    "        plt.subplot(nrows, ncols, row * ncols + col + 1)\n",
    "        vectortoimg(X[np.random.randint(len(T))], 28, show = False)\n",
    "plt.show()"
   ]
  },
  {
   "cell_type": "code",
   "execution_count": null,
   "metadata": {},
   "outputs": [],
   "source": []
  },
  {
   "cell_type": "markdown",
   "metadata": {},
   "source": [
    "# XZCVPR Process"
   ]
  },
  {
   "cell_type": "code",
   "execution_count": 83,
   "metadata": {},
   "outputs": [
    {
     "name": "stdout",
     "output_type": "stream",
     "text": [
      "X:\n",
      " [[0. 0. 0. ... 0. 0. 0.]\n",
      " [0. 0. 0. ... 0. 0. 0.]\n",
      " [0. 0. 0. ... 0. 0. 0.]\n",
      " ...\n",
      " [0. 0. 0. ... 0. 0. 0.]\n",
      " [0. 0. 0. ... 0. 0. 0.]\n",
      " [0. 0. 0. ... 0. 0. 0.]]\n",
      "mu:\n",
      " [0.00000000e+00 0.00000000e+00 0.00000000e+00 0.00000000e+00\n",
      " 0.00000000e+00 0.00000000e+00 0.00000000e+00 0.00000000e+00\n",
      " 0.00000000e+00 0.00000000e+00 0.00000000e+00 0.00000000e+00\n",
      " 9.86394558e-03 2.15986395e-02 0.00000000e+00 0.00000000e+00\n",
      " 0.00000000e+00 0.00000000e+00 0.00000000e+00 0.00000000e+00\n",
      " 0.00000000e+00 0.00000000e+00 0.00000000e+00 0.00000000e+00\n",
      " 0.00000000e+00 0.00000000e+00 0.00000000e+00 0.00000000e+00\n",
      " 0.00000000e+00 0.00000000e+00 0.00000000e+00 0.00000000e+00\n",
      " 1.36054422e-03 4.67687075e-03 4.73639456e-02 1.22534014e-01\n",
      " 1.99319728e-01 2.96768707e-01 5.61224490e-01 7.48384354e-01\n",
      " 8.33673469e-01 8.48724490e-01 8.46598639e-01 7.43027211e-01\n",
      " 7.56292517e-01 7.01615646e-01 5.04676871e-01 3.63435374e-01\n",
      " 2.74574830e-01 1.09013605e-01 5.14455782e-02 1.80272109e-02\n",
      " 0.00000000e+00 0.00000000e+00 0.00000000e+00 0.00000000e+00\n",
      " 0.00000000e+00 0.00000000e+00 5.44217687e-03 1.10544218e-03\n",
      " 3.46088435e-02 2.41496599e-02 1.94217687e-01 5.58673469e-01\n",
      " 1.03571429e+00 1.96113946e+00 3.48103741e+00 5.23750000e+00\n",
      " 7.83290816e+00 1.09228741e+01 1.40630952e+01 1.61448129e+01\n",
      " 1.71301020e+01 1.60876701e+01 1.36053571e+01 1.00626701e+01\n",
      " 6.00051020e+00 3.18010204e+00 1.48835034e+00 4.54506803e-01\n",
      " 1.50085034e-01 3.00170068e-02 0.00000000e+00 0.00000000e+00\n",
      " 0.00000000e+00 0.00000000e+00 1.19897959e-02 2.02380952e-02\n",
      " 3.64795918e-02 1.21343537e-01 4.20918367e-01 1.16981293e+00\n",
      " 2.28256803e+00 4.40204082e+00 7.63528912e+00 1.16494048e+01\n",
      " 1.66415816e+01 2.36204082e+01 3.21113946e+01 3.86628401e+01\n",
      " 4.10784864e+01 3.95562075e+01 3.40347789e+01 2.52613946e+01\n",
      " 1.56620748e+01 8.56615646e+00 4.02976190e+00 1.57517007e+00\n",
      " 6.11479592e-01 8.92857143e-02 1.02891156e-02 0.00000000e+00\n",
      " 0.00000000e+00 0.00000000e+00 1.87074830e-03 1.50510204e-02\n",
      " 8.49489796e-02 4.10884354e-01 9.01190476e-01 2.12772109e+00\n",
      " 4.32882653e+00 7.90705782e+00 1.27303571e+01 1.87264456e+01\n",
      " 2.70449830e+01 3.72750000e+01 4.73790816e+01 5.45215986e+01\n",
      " 5.72536565e+01 5.36158163e+01 4.51791667e+01 3.39154762e+01\n",
      " 2.29981293e+01 1.43580782e+01 8.22023810e+00 4.13137755e+00\n",
      " 1.57108844e+00 2.84353741e-01 2.08333333e-02 5.35714286e-03\n",
      " 0.00000000e+00 0.00000000e+00 2.68707483e-02 2.51700680e-02\n",
      " 3.20578231e-01 1.12440476e+00 2.51522109e+00 4.91530612e+00\n",
      " 9.29991497e+00 1.60844388e+01 2.35649660e+01 3.22583333e+01\n",
      " 4.39504252e+01 5.45585884e+01 6.29857993e+01 6.70047619e+01\n",
      " 6.70015306e+01 6.15092687e+01 5.25636054e+01 4.14865646e+01\n",
      " 3.13198129e+01 2.24931973e+01 1.56319728e+01 9.78486395e+00\n",
      " 4.18401361e+00 8.48214286e-01 5.20408163e-02 7.90816327e-03\n",
      " 0.00000000e+00 0.00000000e+00 1.19897959e-02 8.48639456e-02\n",
      " 7.16156463e-01 2.09600340e+00 4.60255102e+00 9.41615646e+00\n",
      " 1.67233844e+01 2.79482143e+01 3.98586735e+01 5.25801871e+01\n",
      " 6.51494898e+01 7.26799320e+01 7.46368197e+01 7.21685374e+01\n",
      " 6.67905612e+01 6.08657313e+01 5.46460034e+01 4.67073129e+01\n",
      " 3.75761905e+01 2.89488946e+01 2.08968537e+01 1.31523810e+01\n",
      " 5.72857143e+00 1.28061224e+00 1.63350340e-01 1.35204082e-02\n",
      " 0.00000000e+00 0.00000000e+00 0.00000000e+00 1.77721088e-01\n",
      " 1.05110544e+00 3.13732993e+00 6.85484694e+00 1.44868197e+01\n",
      " 2.61795918e+01 4.19640306e+01 5.83919218e+01 7.40037415e+01\n",
      " 8.44533163e+01 8.72130102e+01 8.07113946e+01 6.93153912e+01\n",
      " 5.99764456e+01 5.67903912e+01 5.55331633e+01 5.11618197e+01\n",
      " 4.23844388e+01 3.24068027e+01 2.23621599e+01 1.29763605e+01\n",
      " 5.20314626e+00 1.29302721e+00 2.11479592e-01 8.75850340e-03\n",
      " 0.00000000e+00 0.00000000e+00 1.15646259e-02 2.67431973e-01\n",
      " 1.46488095e+00 3.98511905e+00 9.30025510e+00 2.02134354e+01\n",
      " 3.63962585e+01 5.73581633e+01 7.77107993e+01 9.42226190e+01\n",
      " 1.00878571e+02 9.55215136e+01 7.80972789e+01 5.84060374e+01\n",
      " 5.02311224e+01 5.39710884e+01 5.97031463e+01 5.71202381e+01\n",
      " 4.67011905e+01 3.32267007e+01 2.04781463e+01 9.99668367e+00\n",
      " 3.49812925e+00 8.18792517e-01 1.43197279e-01 0.00000000e+00\n",
      " 0.00000000e+00 0.00000000e+00 1.25850340e-02 2.63095238e-01\n",
      " 1.60586735e+00 4.86122449e+00 1.21768707e+01 2.67395408e+01\n",
      " 4.81260204e+01 7.40575680e+01 9.78062075e+01 1.12191071e+02\n",
      " 1.12200425e+02 9.43628401e+01 6.51895408e+01 4.42757653e+01\n",
      " 4.34561224e+01 5.77072279e+01 6.87341837e+01 6.49357143e+01\n",
      " 4.96681973e+01 3.19101190e+01 1.71521259e+01 6.84005102e+00\n",
      " 1.90416667e+00 4.63350340e-01 8.17176871e-02 0.00000000e+00\n",
      " 0.00000000e+00 0.00000000e+00 2.58503401e-02 3.48809524e-01\n",
      " 1.86113946e+00 6.08214286e+00 1.60649660e+01 3.47941327e+01\n",
      " 6.21231293e+01 9.30022959e+01 1.17355527e+02 1.25132398e+02\n",
      " 1.12509609e+02 8.08903061e+01 4.69497449e+01 3.36539966e+01\n",
      " 4.56039966e+01 7.08761054e+01 8.30643707e+01 7.42752551e+01\n",
      " 5.26541667e+01 3.10289966e+01 1.50703231e+01 5.40110544e+00\n",
      " 1.59727891e+00 3.53146259e-01 4.58333333e-02 0.00000000e+00\n",
      " 0.00000000e+00 1.10544218e-03 5.11054422e-02 4.52976190e-01\n",
      " 2.12857143e+00 7.77372449e+00 2.10416667e+01 4.50511905e+01\n",
      " 7.89274660e+01 1.14074575e+02 1.34285204e+02 1.29857143e+02\n",
      " 1.01131803e+02 6.18289966e+01 3.45414966e+01 3.50655612e+01\n",
      " 6.33776361e+01 9.53418367e+01 1.03839881e+02 8.67003401e+01\n",
      " 5.78581633e+01 3.35107993e+01 1.69005102e+01 7.27627551e+00\n",
      " 2.23775510e+00 3.82823129e-01 4.18367347e-02 1.11394558e-02\n",
      " 0.00000000e+00 1.08843537e-02 5.08503401e-02 5.09183673e-01\n",
      " 2.47593537e+00 9.83690476e+00 2.78630952e+01 5.84678571e+01\n",
      " 9.88170918e+01 1.34418112e+02 1.45567857e+02 1.26633248e+02\n",
      " 8.70148810e+01 5.17040816e+01 3.94514456e+01 5.80140306e+01\n",
      " 9.89107143e+01 1.30099745e+02 1.28534354e+02 1.01937160e+02\n",
      " 6.88446429e+01 4.22639456e+01 2.33723639e+01 1.14159864e+01\n",
      " 4.58690476e+00 7.41156463e-01 6.18197279e-02 1.29251701e-02\n",
      " 0.00000000e+00 2.15136054e-02 2.55102041e-02 4.91836735e-01\n",
      " 3.09676871e+00 1.29577381e+01 3.66750000e+01 7.43977041e+01\n",
      " 1.19238605e+02 1.51917432e+02 1.54221854e+02 1.25374405e+02\n",
      " 8.62929422e+01 6.47215136e+01 7.15350340e+01 1.03408759e+02\n",
      " 1.43939541e+02 1.63720748e+02 1.49182993e+02 1.16650765e+02\n",
      " 8.24806973e+01 5.47677721e+01 3.28668367e+01 1.75474490e+01\n",
      " 7.56054422e+00 1.30952381e+00 8.89455782e-02 3.48639456e-03\n",
      " 0.00000000e+00 1.02891156e-02 2.40646259e-02 6.29676871e-01\n",
      " 4.07142857e+00 1.69869898e+01 4.63428571e+01 8.90175170e+01\n",
      " 1.35804592e+02 1.66921173e+02 1.64940986e+02 1.36941156e+02\n",
      " 1.09329167e+02 1.04162330e+02 1.22332058e+02 1.52796003e+02\n",
      " 1.77430697e+02 1.79107228e+02 1.56789966e+02 1.26465136e+02\n",
      " 9.57336735e+01 6.65754252e+01 4.21236395e+01 2.31501701e+01\n",
      " 9.79940476e+00 2.01768707e+00 4.94047619e-02 0.00000000e+00\n",
      " 0.00000000e+00 5.10204082e-04 3.55442177e-02 8.70493197e-01\n",
      " 4.54336735e+00 1.99215986e+01 5.13698980e+01 9.44513605e+01\n",
      " 1.41196088e+02 1.72156633e+02 1.73270493e+02 1.54151190e+02\n",
      " 1.38764116e+02 1.43705527e+02 1.61267177e+02 1.75959269e+02\n",
      " 1.79545833e+02 1.69522959e+02 1.48213010e+02 1.24806633e+02\n",
      " 1.00040391e+02 7.24730442e+01 4.61115646e+01 2.47978741e+01\n",
      " 1.02502551e+01 2.53715986e+00 9.48129252e-02 5.10204082e-04\n",
      " 0.00000000e+00 0.00000000e+00 1.13945578e-02 6.58588435e-01\n",
      " 4.06573129e+00 1.90528061e+01 4.74915816e+01 8.61401361e+01\n",
      " 1.29073810e+02 1.59073214e+02 1.63510204e+02 1.51257058e+02\n",
      " 1.43195663e+02 1.49573554e+02 1.60526956e+02 1.63947279e+02\n",
      " 1.57609694e+02 1.45454762e+02 1.31727636e+02 1.15727126e+02\n",
      " 9.52454082e+01 6.79480442e+01 4.21401361e+01 2.13896259e+01\n",
      " 8.89651361e+00 2.25705782e+00 1.06717687e-01 9.35374150e-04\n",
      " 0.00000000e+00 0.00000000e+00 2.86564626e-02 3.62585034e-01\n",
      " 2.95918367e+00 1.41669218e+01 3.54067177e+01 6.68346088e+01\n",
      " 1.02369813e+02 1.29857738e+02 1.37756888e+02 1.30149915e+02\n",
      " 1.22805017e+02 1.27215986e+02 1.35804677e+02 1.38534949e+02\n",
      " 1.35085884e+02 1.28774235e+02 1.21625170e+02 1.07773980e+02\n",
      " 8.48457483e+01 5.68950680e+01 3.24822279e+01 1.54843537e+01\n",
      " 5.78256803e+00 1.40484694e+00 6.23299320e-02 9.35374150e-04\n",
      " 0.00000000e+00 0.00000000e+00 2.67857143e-02 2.44557823e-01\n",
      " 1.78137755e+00 8.27542517e+00 2.19237245e+01 4.55153061e+01\n",
      " 7.46984694e+01 1.02110289e+02 1.16124235e+02 1.14808418e+02\n",
      " 1.09620833e+02 1.13505017e+02 1.22775935e+02 1.30204082e+02\n",
      " 1.34509439e+02 1.32573299e+02 1.21683929e+02 9.92906463e+01\n",
      " 7.02003401e+01 4.29058673e+01 2.20852041e+01 9.53426871e+00\n",
      " 2.97006803e+00 6.66411565e-01 2.90816327e-02 3.40136054e-04\n",
      " 0.00000000e+00 0.00000000e+00 1.87074830e-02 1.69472789e-01\n",
      " 9.97278912e-01 4.18154762e+00 1.18588435e+01 2.78469388e+01\n",
      " 5.26992347e+01 8.15667517e+01 1.05802891e+02 1.16188095e+02\n",
      " 1.19955867e+02 1.26182653e+02 1.35595578e+02 1.44797959e+02\n",
      " 1.48389626e+02 1.39427551e+02 1.14961565e+02 8.25125850e+01\n",
      " 5.19477041e+01 2.81501701e+01 1.27939626e+01 4.65510204e+00\n",
      " 1.19175170e+00 2.06207483e-01 1.94727891e-02 0.00000000e+00\n",
      " 0.00000000e+00 0.00000000e+00 1.16496599e-02 6.68367347e-02\n",
      " 4.41581633e-01 1.67925170e+00 5.58835034e+00 1.52761905e+01\n",
      " 3.35074830e+01 6.07562925e+01 9.16631803e+01 1.17106888e+02\n",
      " 1.34500595e+02 1.46172704e+02 1.53461990e+02 1.55280442e+02\n",
      " 1.46815561e+02 1.24123214e+02 9.12419218e+01 5.76081633e+01\n",
      " 3.15996599e+01 1.50302721e+01 5.98052721e+00 2.03801020e+00\n",
      " 5.00765306e-01 9.42176871e-02 2.14285714e-02 0.00000000e+00\n",
      " 0.00000000e+00 0.00000000e+00 2.38095238e-03 9.60884354e-03\n",
      " 9.44727891e-02 5.64965986e-01 1.98613946e+00 6.58801020e+00\n",
      " 1.68973639e+01 3.56276361e+01 6.27887755e+01 9.33543367e+01\n",
      " 1.19199065e+02 1.34409694e+02 1.36979762e+02 1.29377041e+02\n",
      " 1.11176361e+02 8.51579082e+01 5.65118197e+01 3.33096939e+01\n",
      " 1.69738946e+01 7.75527211e+00 3.26479592e+00 1.18784014e+00\n",
      " 3.44897959e-01 5.73129252e-02 2.14285714e-02 0.00000000e+00\n",
      " 0.00000000e+00 0.00000000e+00 0.00000000e+00 0.00000000e+00\n",
      " 0.00000000e+00 8.52891156e-02 4.97108844e-01 2.23588435e+00\n",
      " 6.34557823e+00 1.42580782e+01 2.86060374e+01 4.60846939e+01\n",
      " 6.32324830e+01 7.30581633e+01 7.53788265e+01 7.13335034e+01\n",
      " 6.04281463e+01 4.66942177e+01 3.18136905e+01 2.00244898e+01\n",
      " 1.12107993e+01 5.59379252e+00 2.49719388e+00 9.69727891e-01\n",
      " 2.74829932e-01 5.02551020e-02 1.46258503e-02 0.00000000e+00\n",
      " 0.00000000e+00 0.00000000e+00 0.00000000e+00 0.00000000e+00\n",
      " 0.00000000e+00 4.10714286e-02 4.05952381e-01 1.49413265e+00\n",
      " 3.77185374e+00 8.08112245e+00 1.47366497e+01 2.28920918e+01\n",
      " 3.00266156e+01 3.45034014e+01 3.72454082e+01 3.80528912e+01\n",
      " 3.48306122e+01 2.96130102e+01 2.22972789e+01 1.52591837e+01\n",
      " 9.39251701e+00 4.65722789e+00 2.03852041e+00 8.14795918e-01\n",
      " 2.14710884e-01 2.86564626e-02 5.44217687e-03 0.00000000e+00\n",
      " 0.00000000e+00 0.00000000e+00 0.00000000e+00 0.00000000e+00\n",
      " 0.00000000e+00 7.02380952e-02 4.20323129e-01 1.16658163e+00\n",
      " 2.85093537e+00 5.66615646e+00 9.64897959e+00 1.43210884e+01\n",
      " 1.76109694e+01 1.96610544e+01 2.16835884e+01 2.22153061e+01\n",
      " 2.03630102e+01 1.73206633e+01 1.32380952e+01 9.02712585e+00\n",
      " 5.34141156e+00 2.65986395e+00 1.16581633e+00 4.36649660e-01\n",
      " 6.47959184e-02 1.20748299e-02 0.00000000e+00 0.00000000e+00\n",
      " 0.00000000e+00 0.00000000e+00 0.00000000e+00 0.00000000e+00\n",
      " 5.69727891e-03 2.55952381e-02 1.34693878e-01 3.33843537e-01\n",
      " 8.77295918e-01 1.86207483e+00 3.02542517e+00 3.60603741e+00\n",
      " 4.24336735e+00 5.28443878e+00 6.08460884e+00 5.86683673e+00\n",
      " 5.15544218e+00 3.87678571e+00 2.76615646e+00 1.67295918e+00\n",
      " 7.92517007e-01 3.34948980e-01 2.14455782e-01 1.03146259e-01\n",
      " 7.31292517e-03 0.00000000e+00 0.00000000e+00 0.00000000e+00\n",
      " 0.00000000e+00 0.00000000e+00 0.00000000e+00 0.00000000e+00\n",
      " 5.78231293e-03 2.15136054e-02 2.07482993e-02 6.03741497e-03\n",
      " 4.21768707e-02 8.55442177e-02 1.65646259e-01 1.66581633e-01\n",
      " 1.91836735e-01 1.70323129e-01 1.84778912e-01 1.61734694e-01\n",
      " 9.71938776e-02 1.12840136e-01 8.88605442e-02 3.74149660e-02\n",
      " 8.41836735e-03 0.00000000e+00 4.33673469e-03 9.52380952e-03\n",
      " 2.55102041e-04 0.00000000e+00 0.00000000e+00 0.00000000e+00\n",
      " 0.00000000e+00 0.00000000e+00 0.00000000e+00 0.00000000e+00\n",
      " 0.00000000e+00 0.00000000e+00 0.00000000e+00 0.00000000e+00\n",
      " 0.00000000e+00 0.00000000e+00 0.00000000e+00 0.00000000e+00\n",
      " 0.00000000e+00 0.00000000e+00 0.00000000e+00 0.00000000e+00\n",
      " 0.00000000e+00 0.00000000e+00 0.00000000e+00 0.00000000e+00\n",
      " 0.00000000e+00 0.00000000e+00 0.00000000e+00 0.00000000e+00\n",
      " 0.00000000e+00 0.00000000e+00 0.00000000e+00 0.00000000e+00]\n",
      "mu.shape:\n",
      " (784,)\n",
      "Z:\n",
      " [[0. 0. 0. ... 0. 0. 0.]\n",
      " [0. 0. 0. ... 0. 0. 0.]\n",
      " [0. 0. 0. ... 0. 0. 0.]\n",
      " ...\n",
      " [0. 0. 0. ... 0. 0. 0.]\n",
      " [0. 0. 0. ... 0. 0. 0.]\n",
      " [0. 0. 0. ... 0. 0. 0.]]\n",
      "C:\n",
      " [[0. 0. 0. ... 0. 0. 0.]\n",
      " [0. 0. 0. ... 0. 0. 0.]\n",
      " [0. 0. 0. ... 0. 0. 0.]\n",
      " ...\n",
      " [0. 0. 0. ... 0. 0. 0.]\n",
      " [0. 0. 0. ... 0. 0. 0.]\n",
      " [0. 0. 0. ... 0. 0. 0.]]\n",
      "[λ, V]:\n",
      " [array([-3.37333223e-11, -2.43539293e-11, -2.03400004e-11, -1.90683499e-11,\n",
      "       -1.33400978e-11, -9.90588453e-12, -8.26178732e-12, -7.25688804e-12,\n",
      "       -4.10810789e-12, -3.10478803e-12, -2.51324721e-12, -1.61408933e-12,\n",
      "       -1.15557090e-12, -1.05747131e-12, -9.60441723e-13, -6.85961864e-13,\n",
      "       -6.39971686e-13, -4.74676539e-13, -2.30564962e-13, -2.11998349e-13,\n",
      "       -1.86843579e-13, -1.61557100e-13, -1.47036016e-13, -1.32899783e-13,\n",
      "       -1.00568812e-13, -9.58049839e-14, -8.42972585e-14, -8.24775784e-14,\n",
      "       -5.77132256e-14, -5.75419345e-14, -4.87856732e-14, -4.48102790e-14,\n",
      "       -3.32466703e-14, -2.84080903e-14, -2.61190520e-14, -2.22917922e-14,\n",
      "       -1.93151429e-14, -1.58814706e-14, -1.13711525e-14, -9.40955440e-15,\n",
      "       -7.18050282e-15, -6.24672876e-15, -4.99432640e-15, -4.30547078e-15,\n",
      "       -3.31894414e-15, -2.85167615e-15, -2.78139629e-15, -2.49096679e-15,\n",
      "       -9.17716692e-16, -6.61326787e-16, -4.33495454e-16, -1.28910394e-16,\n",
      "       -5.27197050e-17, -1.44336902e-17, -6.87612443e-18, -2.25251297e-28,\n",
      "       -1.73879051e-28, -8.78392461e-29, -5.37098500e-30, -2.65310953e-30,\n",
      "       -1.18763024e-30, -9.68796767e-31, -4.82263021e-31, -2.20416350e-33,\n",
      "       -3.99391836e-45, -9.04187368e-47,  0.00000000e+00,  0.00000000e+00,\n",
      "        0.00000000e+00,  0.00000000e+00,  0.00000000e+00,  0.00000000e+00,\n",
      "        0.00000000e+00,  0.00000000e+00,  0.00000000e+00,  0.00000000e+00,\n",
      "        0.00000000e+00,  0.00000000e+00,  0.00000000e+00,  0.00000000e+00,\n",
      "        0.00000000e+00,  0.00000000e+00,  0.00000000e+00,  0.00000000e+00,\n",
      "        0.00000000e+00,  0.00000000e+00,  0.00000000e+00,  0.00000000e+00,\n",
      "        0.00000000e+00,  0.00000000e+00,  0.00000000e+00,  0.00000000e+00,\n",
      "        0.00000000e+00,  0.00000000e+00,  0.00000000e+00,  0.00000000e+00,\n",
      "        0.00000000e+00,  0.00000000e+00,  0.00000000e+00,  0.00000000e+00,\n",
      "        0.00000000e+00,  0.00000000e+00,  0.00000000e+00,  0.00000000e+00,\n",
      "        0.00000000e+00,  0.00000000e+00,  0.00000000e+00,  0.00000000e+00,\n",
      "        0.00000000e+00,  3.05783286e-61,  3.35838474e-45,  6.31673915e-45,\n",
      "        9.96066914e-45,  6.51271020e-33,  1.33754332e-32,  4.80943581e-31,\n",
      "        8.52333566e-31,  1.49696825e-30,  5.23743108e-30,  5.86173644e-30,\n",
      "        8.51262255e-30,  4.12894032e-29,  4.46702659e-29,  1.27249778e-28,\n",
      "        6.79028046e-17,  8.42171140e-17,  1.10388444e-16,  1.97716896e-16,\n",
      "        5.83789359e-16,  7.08613875e-16,  1.15801482e-15,  6.54446079e-15,\n",
      "        7.90035410e-15,  9.52794700e-15,  9.69032852e-15,  1.40589750e-14,\n",
      "        1.76637274e-14,  2.52250533e-14,  3.28132645e-14,  3.34823560e-14,\n",
      "        3.92260822e-14,  6.14910162e-14,  6.19995896e-14,  7.47237115e-14,\n",
      "        7.62924902e-14,  1.26894682e-13,  1.40367207e-13,  1.68479648e-13,\n",
      "        1.83542662e-13,  2.31735032e-13,  2.35144329e-13,  3.03034603e-13,\n",
      "        3.56839797e-13,  4.42899045e-13,  6.29751568e-13,  7.66418158e-13,\n",
      "        8.49888473e-13,  2.12272611e-12,  2.43018760e-12,  3.25698221e-12,\n",
      "        4.52204012e-12,  5.88254593e-12,  7.05556811e-12,  9.58263075e-12,\n",
      "        1.66941281e-11,  5.13843801e-11,  2.48332264e-04,  2.49893393e-03,\n",
      "        5.39929796e-03,  9.70558936e-03,  1.28708874e-02,  2.70029402e-02,\n",
      "        3.87540818e-02,  4.51863951e-02,  5.62894918e-02,  7.73675737e-02,\n",
      "        8.55720532e-02,  9.38671686e-02,  1.02672349e-01,  1.13795839e-01,\n",
      "        1.52980460e-01,  1.66334821e-01,  2.26713759e-01,  2.42014412e-01,\n",
      "        3.45548677e-01,  4.72005794e-01,  4.78803584e-01,  5.59437288e-01,\n",
      "        6.12389229e-01,  6.70191907e-01,  7.40731378e-01,  7.88229688e-01,\n",
      "        8.16064800e-01,  8.77843350e-01,  8.87824211e-01,  9.42493885e-01,\n",
      "        9.63925239e-01,  9.87687915e-01,  1.02695467e+00,  1.05294948e+00,\n",
      "        1.22024966e+00,  1.28900375e+00,  1.35071966e+00,  1.37889437e+00,\n",
      "        1.50807321e+00,  1.52476580e+00,  1.53309200e+00,  1.66583485e+00,\n",
      "        1.75894307e+00,  1.85625496e+00,  1.97880728e+00,  2.09111081e+00,\n",
      "        2.11069664e+00,  2.35538807e+00,  2.45684827e+00,  2.46137156e+00,\n",
      "        2.52201173e+00,  2.54703522e+00,  2.81919890e+00,  2.99285100e+00,\n",
      "        3.17361781e+00,  3.63270281e+00,  3.74076876e+00,  3.89011253e+00,\n",
      "        3.93580400e+00,  3.97030379e+00,  4.02746252e+00,  4.13575514e+00,\n",
      "        4.43845159e+00,  4.54398943e+00,  4.62187639e+00,  4.96602522e+00,\n",
      "        5.01906291e+00,  5.05242815e+00,  5.25737928e+00,  5.48150104e+00,\n",
      "        5.63683329e+00,  5.78166281e+00,  5.84420911e+00,  5.92994817e+00,\n",
      "        6.04173596e+00,  6.05101896e+00,  6.22644425e+00,  6.41725396e+00,\n",
      "        7.00064216e+00,  7.59709250e+00,  7.94554057e+00,  8.12707884e+00,\n",
      "        8.20251235e+00,  8.76088844e+00,  9.01467379e+00,  9.05540689e+00,\n",
      "        9.50490176e+00,  9.65481682e+00,  9.82379013e+00,  9.89182297e+00,\n",
      "        1.06005440e+01,  1.08533559e+01,  1.09084557e+01,  1.11981847e+01,\n",
      "        1.18759232e+01,  1.29202686e+01,  1.30930106e+01,  1.35221118e+01,\n",
      "        1.39644917e+01,  1.46576045e+01,  1.49459554e+01,  1.53610924e+01,\n",
      "        1.55947686e+01,  1.61243294e+01,  1.63559437e+01,  1.67469177e+01,\n",
      "        1.68852173e+01,  1.70603291e+01,  1.76859645e+01,  1.80810761e+01,\n",
      "        1.85264205e+01,  1.93037754e+01,  1.93594100e+01,  2.00992970e+01,\n",
      "        2.02108511e+01,  2.08703188e+01,  2.10360207e+01,  2.13575599e+01,\n",
      "        2.17768018e+01,  2.33890250e+01,  2.38552946e+01,  2.50390855e+01,\n",
      "        2.52899973e+01,  2.57664322e+01,  2.60397859e+01,  2.69940993e+01,\n",
      "        2.74644205e+01,  2.81852706e+01,  2.83692631e+01,  2.86095396e+01,\n",
      "        2.88133377e+01,  2.96062664e+01,  3.07278050e+01,  3.15310227e+01,\n",
      "        3.21201072e+01,  3.27728012e+01,  3.28700937e+01,  3.36756736e+01,\n",
      "        3.41991556e+01,  3.55900873e+01,  3.66778628e+01,  3.71151008e+01,\n",
      "        3.83913800e+01,  3.91514705e+01,  4.07801873e+01,  4.10508978e+01,\n",
      "        4.16909458e+01,  4.21916076e+01,  4.24227854e+01,  4.33370623e+01,\n",
      "        4.40515531e+01,  4.44090749e+01,  4.58347780e+01,  4.66531044e+01,\n",
      "        4.71638597e+01,  4.80668440e+01,  4.90203311e+01,  5.08285739e+01,\n",
      "        5.24813676e+01,  5.30632344e+01,  5.45799039e+01,  5.53460593e+01,\n",
      "        5.72759380e+01,  5.80852700e+01,  5.89428629e+01,  6.06619992e+01,\n",
      "        6.08580502e+01,  6.15263382e+01,  6.38712376e+01,  6.47462169e+01,\n",
      "        6.49734369e+01,  6.69027368e+01,  6.83722990e+01,  6.96971612e+01,\n",
      "        7.16255530e+01,  7.22729856e+01,  7.28580479e+01,  7.43269457e+01,\n",
      "        7.55077708e+01,  7.66107291e+01,  7.78434938e+01,  7.97510854e+01,\n",
      "        8.16974828e+01,  8.27555927e+01,  8.41700598e+01,  8.53328684e+01,\n",
      "        8.62029627e+01,  8.71943546e+01,  8.99006643e+01,  9.21342260e+01,\n",
      "        9.31792927e+01,  9.67397707e+01,  9.71624993e+01,  9.96802217e+01,\n",
      "        1.00069706e+02,  1.03445236e+02,  1.04397936e+02,  1.05366881e+02,\n",
      "        1.06496314e+02,  1.07558102e+02,  1.08767063e+02,  1.09565235e+02,\n",
      "        1.12168080e+02,  1.14649546e+02,  1.15614518e+02,  1.19781573e+02,\n",
      "        1.23323633e+02,  1.23547744e+02,  1.26410843e+02,  1.29589707e+02,\n",
      "        1.30582738e+02,  1.33198635e+02,  1.34359621e+02,  1.34734601e+02,\n",
      "        1.36497287e+02,  1.38891525e+02,  1.39887480e+02,  1.40585049e+02,\n",
      "        1.42495111e+02,  1.44354298e+02,  1.46360025e+02,  1.49886923e+02,\n",
      "        1.52017166e+02,  1.52812026e+02,  1.54827248e+02,  1.58270361e+02,\n",
      "        1.58454417e+02,  1.58971859e+02,  1.60835122e+02,  1.61108266e+02,\n",
      "        1.63747909e+02,  1.66334851e+02,  1.68039374e+02,  1.70660099e+02,\n",
      "        1.74258151e+02,  1.76297577e+02,  1.78439729e+02,  1.81339970e+02,\n",
      "        1.83693103e+02,  1.85942286e+02,  1.86244102e+02,  1.88505807e+02,\n",
      "        1.90132706e+02,  1.91218681e+02,  1.94265474e+02,  1.94727774e+02,\n",
      "        1.96703893e+02,  1.97820586e+02,  1.98454906e+02,  2.01313867e+02,\n",
      "        2.05390232e+02,  2.08232666e+02,  2.10072798e+02,  2.11536739e+02,\n",
      "        2.12703068e+02,  2.13345032e+02,  2.17529168e+02,  2.18661243e+02,\n",
      "        2.20996516e+02,  2.23682653e+02,  2.24655603e+02,  2.27946810e+02,\n",
      "        2.30502746e+02,  2.33052162e+02,  2.34154953e+02,  2.35595105e+02,\n",
      "        2.38407336e+02,  2.39860708e+02,  2.40998026e+02,  2.45119370e+02,\n",
      "        2.48856781e+02,  2.50891922e+02,  2.53721391e+02,  2.56086508e+02,\n",
      "        2.56856248e+02,  2.62621316e+02,  2.65425953e+02,  2.66821476e+02,\n",
      "        2.69077034e+02,  2.69921143e+02,  2.72609795e+02,  2.74781222e+02,\n",
      "        2.75545809e+02,  2.79373663e+02,  2.82685196e+02,  2.83886700e+02,\n",
      "        2.86580253e+02,  2.88582620e+02,  2.90049848e+02,  2.91985611e+02,\n",
      "        2.94642851e+02,  2.98073951e+02,  2.98905927e+02,  3.03068950e+02,\n",
      "        3.04870045e+02,  3.07408379e+02,  3.09419069e+02,  3.10350104e+02,\n",
      "        3.12963463e+02,  3.17755930e+02,  3.20554513e+02,  3.21148252e+02,\n",
      "        3.22137700e+02,  3.23782800e+02,  3.26583011e+02,  3.29078744e+02,\n",
      "        3.31054820e+02,  3.32427997e+02,  3.35276696e+02,  3.39248519e+02,\n",
      "        3.44832483e+02,  3.48661106e+02,  3.49579217e+02,  3.52625823e+02,\n",
      "        3.55184259e+02,  3.57425005e+02,  3.58808085e+02,  3.61935285e+02,\n",
      "        3.62806351e+02,  3.68020367e+02,  3.68992568e+02,  3.72026201e+02,\n",
      "        3.72952203e+02,  3.75243712e+02,  3.81743149e+02,  3.85819389e+02,\n",
      "        3.88185331e+02,  3.89666889e+02,  3.90801463e+02,  3.92598794e+02,\n",
      "        3.97364934e+02,  4.02163369e+02,  4.03611948e+02,  4.04986501e+02,\n",
      "        4.10518950e+02,  4.14704752e+02,  4.16518691e+02,  4.19885472e+02,\n",
      "        4.24737864e+02,  4.27797739e+02,  4.28687594e+02,  4.32925103e+02,\n",
      "        4.38031407e+02,  4.40844041e+02,  4.42141423e+02,  4.46235626e+02,\n",
      "        4.50494559e+02,  4.54488876e+02,  4.58584626e+02,  4.67269177e+02,\n",
      "        4.68210803e+02,  4.75528145e+02,  4.77289272e+02,  4.81013254e+02,\n",
      "        4.82798484e+02,  4.87075556e+02,  4.89623234e+02,  4.91906502e+02,\n",
      "        4.95582435e+02,  5.02289161e+02,  5.06052927e+02,  5.08493501e+02,\n",
      "        5.12966026e+02,  5.18300783e+02,  5.19752247e+02,  5.22961170e+02,\n",
      "        5.24694539e+02,  5.28858732e+02,  5.32390083e+02,  5.38514328e+02,\n",
      "        5.46122352e+02,  5.48987917e+02,  5.51697381e+02,  5.57664145e+02,\n",
      "        5.58848398e+02,  5.64113672e+02,  5.69785061e+02,  5.76786536e+02,\n",
      "        5.78209178e+02,  5.81699831e+02,  5.88520552e+02,  5.93136896e+02,\n",
      "        5.96923241e+02,  6.00877426e+02,  6.08095771e+02,  6.13585306e+02,\n",
      "        6.15987821e+02,  6.21480538e+02,  6.31201562e+02,  6.33856264e+02,\n",
      "        6.40175999e+02,  6.47786786e+02,  6.49862244e+02,  6.55401000e+02,\n",
      "        6.60828360e+02,  6.63177159e+02,  6.65601720e+02,  6.74858522e+02,\n",
      "        6.83313021e+02,  6.84593272e+02,  6.91076851e+02,  7.01117589e+02,\n",
      "        7.06850477e+02,  7.11081137e+02,  7.20320950e+02,  7.29732529e+02,\n",
      "        7.33033622e+02,  7.36647544e+02,  7.43009826e+02,  7.49181232e+02,\n",
      "        7.50600373e+02,  7.61443785e+02,  7.72665256e+02,  7.75770601e+02,\n",
      "        7.80526359e+02,  7.96193415e+02,  7.99974567e+02,  8.07439271e+02,\n",
      "        8.13418194e+02,  8.24726776e+02,  8.27953349e+02,  8.32984048e+02,\n",
      "        8.46306136e+02,  8.47573267e+02,  8.56717980e+02,  8.69094505e+02,\n",
      "        8.71909949e+02,  8.88073875e+02,  8.96384418e+02,  9.02486255e+02,\n",
      "        9.08724317e+02,  9.22558652e+02,  9.28193368e+02,  9.33979637e+02,\n",
      "        9.48572901e+02,  9.53141342e+02,  9.60252638e+02,  9.71045351e+02,\n",
      "        9.74392462e+02,  9.86968644e+02,  9.97826678e+02,  1.00862715e+03,\n",
      "        1.02069960e+03,  1.03676983e+03,  1.04478139e+03,  1.05254277e+03,\n",
      "        1.05428249e+03,  1.05883253e+03,  1.07431186e+03,  1.08872154e+03,\n",
      "        1.09659080e+03,  1.11609130e+03,  1.12853514e+03,  1.13163102e+03,\n",
      "        1.15173109e+03,  1.16116714e+03,  1.17142954e+03,  1.19702898e+03,\n",
      "        1.20385797e+03,  1.21704081e+03,  1.23678593e+03,  1.25323044e+03,\n",
      "        1.25901388e+03,  1.26726259e+03,  1.28222648e+03,  1.28334015e+03,\n",
      "        1.31157623e+03,  1.32753865e+03,  1.33431726e+03,  1.35447467e+03,\n",
      "        1.36283270e+03,  1.37811607e+03,  1.39066438e+03,  1.39581772e+03,\n",
      "        1.42591992e+03,  1.43527905e+03,  1.45672043e+03,  1.48718582e+03,\n",
      "        1.49855461e+03,  1.50501472e+03,  1.53389646e+03,  1.56138526e+03,\n",
      "        1.57661462e+03,  1.58631193e+03,  1.59985298e+03,  1.62524417e+03,\n",
      "        1.64144087e+03,  1.66723211e+03,  1.69271369e+03,  1.70676226e+03,\n",
      "        1.74762934e+03,  1.75684396e+03,  1.77679869e+03,  1.78053605e+03,\n",
      "        1.78835422e+03,  1.84755669e+03,  1.90000632e+03,  1.91623759e+03,\n",
      "        1.94583441e+03,  1.98117350e+03,  2.00452965e+03,  2.01442335e+03,\n",
      "        2.06263579e+03,  2.07709747e+03,  2.09616790e+03,  2.14146749e+03,\n",
      "        2.15405257e+03,  2.22861525e+03,  2.24911998e+03,  2.29403123e+03,\n",
      "        2.31979960e+03,  2.34809053e+03,  2.40330361e+03,  2.42426381e+03,\n",
      "        2.49974815e+03,  2.51940932e+03,  2.55419052e+03,  2.56449690e+03,\n",
      "        2.65153654e+03,  2.70959681e+03,  2.73018948e+03,  2.82677625e+03,\n",
      "        2.85329499e+03,  2.88970345e+03,  2.93070072e+03,  2.99919795e+03,\n",
      "        3.10244574e+03,  3.13234476e+03,  3.17923742e+03,  3.29924613e+03,\n",
      "        3.35031808e+03,  3.39205701e+03,  3.52192954e+03,  3.55025053e+03,\n",
      "        3.56388371e+03,  3.63122239e+03,  3.77349815e+03,  3.88454338e+03,\n",
      "        3.93967028e+03,  4.08550756e+03,  4.11550245e+03,  4.25885441e+03,\n",
      "        4.27288206e+03,  4.44953939e+03,  4.53520152e+03,  4.55061444e+03,\n",
      "        4.60933980e+03,  4.77414758e+03,  4.85516666e+03,  5.15211975e+03,\n",
      "        5.20320140e+03,  5.37877326e+03,  5.42931452e+03,  5.65299214e+03,\n",
      "        5.78485650e+03,  5.90733984e+03,  6.08678141e+03,  6.22306279e+03,\n",
      "        6.43941379e+03,  6.63713892e+03,  6.81529618e+03,  6.99517494e+03,\n",
      "        7.31040966e+03,  7.43399741e+03,  7.79800785e+03,  8.22472941e+03,\n",
      "        8.36238870e+03,  8.52430824e+03,  8.90102018e+03,  9.13534809e+03,\n",
      "        9.40997237e+03,  9.63417570e+03,  9.85170640e+03,  9.91134000e+03,\n",
      "        1.04123472e+04,  1.13769109e+04,  1.16438543e+04,  1.17737940e+04,\n",
      "        1.24625282e+04,  1.28022312e+04,  1.34197016e+04,  1.39782925e+04,\n",
      "        1.42166356e+04,  1.49925721e+04,  1.53095562e+04,  1.71103103e+04,\n",
      "        1.72626058e+04,  1.89402326e+04,  1.91814291e+04,  1.96993035e+04,\n",
      "        2.02189502e+04,  2.12358801e+04,  2.36207740e+04,  2.54345192e+04,\n",
      "        2.59741787e+04,  2.67812783e+04,  2.84940882e+04,  3.01739169e+04,\n",
      "        3.09819136e+04,  3.27074962e+04,  3.37974942e+04,  4.12424237e+04,\n",
      "        4.78308030e+04,  5.03394223e+04,  5.10297356e+04,  5.33017217e+04,\n",
      "        5.94595898e+04,  6.12931380e+04,  6.56921612e+04,  7.94539491e+04,\n",
      "        8.67193607e+04,  1.00499814e+05,  1.15496676e+05,  1.29791466e+05,\n",
      "        1.55593073e+05,  1.78316157e+05,  2.98679742e+05,  3.94053929e+05]), array([[0., 0., 0., ..., 0., 0., 0.],\n",
      "       [0., 0., 0., ..., 0., 0., 0.],\n",
      "       [0., 0., 0., ..., 0., 0., 0.],\n",
      "       ...,\n",
      "       [0., 0., 0., ..., 0., 0., 0.],\n",
      "       [0., 0., 0., ..., 0., 0., 0.],\n",
      "       [0., 0., 0., ..., 0., 0., 0.]])]\n",
      "row:\n",
      " [0. 0. 0. 0. 0. 0. 0. 0. 0. 0. 0. 0. 0. 0. 0. 0. 0. 0. 0. 0. 0. 0. 0. 0.\n",
      " 0. 0. 0. 0. 0. 0. 0. 0. 0. 0. 0. 0. 0. 0. 0. 0. 0. 0. 0. 0. 0. 0. 0. 0.\n",
      " 0. 0. 0. 0. 0. 0. 0. 0. 0. 0. 0. 0. 0. 0. 0. 0. 0. 0. 0. 0. 0. 0. 0. 0.\n",
      " 0. 0. 0. 0. 0. 0. 0. 0. 0. 0. 0. 0. 0. 0. 0. 0. 0. 0. 0. 0. 0. 0. 0. 0.\n",
      " 0. 0. 0. 0. 0. 0. 0. 0. 0. 0. 0. 0. 1. 0. 0. 0. 0. 0. 0. 0. 0. 0. 0. 0.\n",
      " 0. 0. 0. 0. 0. 0. 0. 0. 0. 0. 0. 0. 0. 0. 0. 0. 0. 0. 0. 0. 0. 0. 0. 0.\n",
      " 0. 0. 0. 0. 0. 0. 0. 0. 0. 0. 0. 0. 0. 0. 0. 0. 0. 0. 0. 0. 0. 0. 0. 0.\n",
      " 0. 0. 0. 0. 0. 0. 0. 0. 0. 0. 0. 0. 0. 0. 0. 0. 0. 0. 0. 0. 0. 0. 0. 0.\n",
      " 0. 0. 0. 0. 0. 0. 0. 0. 0. 0. 0. 0. 0. 0. 0. 0. 0. 0. 0. 0. 0. 0. 0. 0.\n",
      " 0. 0. 0. 0. 0. 0. 0. 0. 0. 0. 0. 0. 0. 0. 0. 0. 0. 0. 0. 0. 0. 0. 0. 0.\n",
      " 0. 0. 0. 0. 0. 0. 0. 0. 0. 0. 0. 0. 0. 0. 0. 0. 0. 0. 0. 0. 0. 0. 0. 0.\n",
      " 0. 0. 0. 0. 0. 0. 0. 0. 0. 0. 0. 0. 0. 0. 0. 0. 0. 0. 0. 0. 0. 0. 0. 0.\n",
      " 0. 0. 0. 0. 0. 0. 0. 0. 0. 0. 0. 0. 0. 0. 0. 0. 0. 0. 0. 0. 0. 0. 0. 0.\n",
      " 0. 0. 0. 0. 0. 0. 0. 0. 0. 0. 0. 0. 0. 0. 0. 0. 0. 0. 0. 0. 0. 0. 0. 0.\n",
      " 0. 0. 0. 0. 0. 0. 0. 0. 0. 0. 0. 0. 0. 0. 0. 0. 0. 0. 0. 0. 0. 0. 0. 0.\n",
      " 0. 0. 0. 0. 0. 0. 0. 0. 0. 0. 0. 0. 0. 0. 0. 0. 0. 0. 0. 0. 0. 0. 0. 0.\n",
      " 0. 0. 0. 0. 0. 0. 0. 0. 0. 0. 0. 0. 0. 0. 0. 0. 0. 0. 0. 0. 0. 0. 0. 0.\n",
      " 0. 0. 0. 0. 0. 0. 0. 0. 0. 0. 0. 0. 0. 0. 0. 0. 0. 0. 0. 0. 0. 0. 0. 0.\n",
      " 0. 0. 0. 0. 0. 0. 0. 0. 0. 0. 0. 0. 0. 0. 0. 0. 0. 0. 0. 0. 0. 0. 0. 0.\n",
      " 0. 0. 0. 0. 0. 0. 0. 0. 0. 0. 0. 0. 0. 0. 0. 0. 0. 0. 0. 0. 0. 0. 0. 0.\n",
      " 0. 0. 0. 0. 0. 0. 0. 0. 0. 0. 0. 0. 0. 0. 0. 0. 0. 0. 0. 0. 0. 0. 0. 0.\n",
      " 0. 0. 0. 0. 0. 0. 0. 0. 0. 0. 0. 0. 0. 0. 0. 0. 0. 0. 0. 0. 0. 0. 0. 0.\n",
      " 0. 0. 0. 0. 0. 0. 0. 0. 0. 0. 0. 0. 0. 0. 0. 0. 0. 0. 0. 0. 0. 0. 0. 0.\n",
      " 0. 0. 0. 0. 0. 0. 0. 0. 0. 0. 0. 0. 0. 0. 0. 0. 0. 0. 0. 0. 0. 0. 0. 0.\n",
      " 0. 0. 0. 0. 0. 0. 0. 0. 0. 0. 0. 0. 0. 0. 0. 0. 0. 0. 0. 0. 0. 0. 0. 0.\n",
      " 0. 0. 0. 0. 0. 0. 0. 0. 0. 0. 0. 0. 0. 0. 0. 0. 0. 0. 0. 0. 0. 0. 0. 0.\n",
      " 0. 0. 0. 0. 0. 0. 0. 0. 0. 0. 0. 0. 0. 0. 0. 0. 0. 0. 0. 0. 0. 0. 0. 0.\n",
      " 0. 0. 0. 0. 0. 0. 0. 0. 0. 0. 0. 0. 0. 0. 0. 0. 0. 0. 0. 0. 0. 0. 0. 0.\n",
      " 0. 0. 0. 0. 0. 0. 0. 0. 0. 0. 0. 0. 0. 0. 0. 0. 0. 0. 0. 0. 0. 0. 0. 0.\n",
      " 0. 0. 0. 0. 0. 0. 0. 0. 0. 0. 0. 0. 0. 0. 0. 0. 0. 0. 0. 0. 0. 0. 0. 0.\n",
      " 0. 0. 0. 0. 0. 0. 0. 0. 0. 0. 0. 0. 0. 0. 0. 0. 0. 0. 0. 0. 0. 0. 0. 0.\n",
      " 0. 0. 0. 0. 0. 0. 0. 0. 0. 0. 0. 0. 0. 0. 0. 0. 0. 0. 0. 0. 0. 0. 0. 0.\n",
      " 0. 0. 0. 0. 0. 0. 0. 0. 0. 0. 0. 0. 0. 0. 0. 0.]\n",
      "col:\n",
      " [ 0.00000000e+00  0.00000000e+00  0.00000000e+00  0.00000000e+00\n",
      "  0.00000000e+00  0.00000000e+00  0.00000000e+00  0.00000000e+00\n",
      "  0.00000000e+00  0.00000000e+00  0.00000000e+00  0.00000000e+00\n",
      "  4.07353432e-06  8.91963549e-06 -1.11022302e-16 -1.11022302e-16\n",
      "  0.00000000e+00  5.55111512e-17  0.00000000e+00  1.73472348e-18\n",
      " -2.16840434e-19 -2.71050543e-20  0.00000000e+00  0.00000000e+00\n",
      "  5.29395592e-23  0.00000000e+00 -4.13590306e-25  2.58493941e-26\n",
      "  0.00000000e+00  0.00000000e+00 -6.31088724e-30  7.88860905e-31\n",
      " -8.56757075e-07 -2.03840382e-06  3.31255478e-05  8.22955701e-05\n",
      "  1.62315200e-04  2.07690890e-04  2.58111728e-04  2.68578915e-04\n",
      "  1.45939911e-04 -1.95378836e-04 -3.44930406e-04 -4.97219189e-04\n",
      " -7.83631643e-04 -9.12332003e-04 -7.52446414e-04 -5.61331116e-04\n",
      " -3.89388412e-04 -1.07104470e-04 -3.31306620e-05  2.21988207e-06\n",
      "  0.00000000e+00  0.00000000e+00  0.00000000e+00  0.00000000e+00\n",
      "  0.00000000e+00  0.00000000e+00 -1.23602311e-05 -2.21462192e-06\n",
      " -3.61743119e-05 -2.52598285e-05  4.52701745e-05  2.86063899e-04\n",
      "  6.02225663e-04  1.06143536e-03  1.59355352e-03  1.30288835e-03\n",
      " -6.00016670e-04 -5.40952496e-03 -1.25187984e-02 -2.11052167e-02\n",
      " -2.85641989e-02 -3.09254134e-02 -2.77291976e-02 -2.04745720e-02\n",
      " -1.17614726e-02 -5.69123072e-03 -2.29110708e-03 -6.06083117e-04\n",
      " -1.88417740e-04 -3.72372688e-05  0.00000000e+00  0.00000000e+00\n",
      "  0.00000000e+00  0.00000000e+00 -2.72311342e-05 -3.65419598e-05\n",
      " -4.94304472e-05 -3.96221301e-05  1.76444522e-04  5.83419613e-04\n",
      "  1.31016045e-03  2.47878850e-03  3.47868016e-03  2.39449442e-03\n",
      " -2.96142978e-03 -1.49405331e-02 -3.43884926e-02 -5.63916784e-02\n",
      " -7.20742935e-02 -7.62252379e-02 -6.67833057e-02 -4.70056294e-02\n",
      " -2.63831216e-02 -1.23800328e-02 -4.82956744e-03 -1.33571854e-03\n",
      " -4.29655218e-04 -5.83490844e-05 -1.86792491e-06  0.00000000e+00\n",
      "  0.00000000e+00  0.00000000e+00 -3.61611080e-06 -2.41786760e-05\n",
      "  5.80310845e-05  2.03280988e-04  6.00897009e-04  1.38017810e-03\n",
      "  3.27253042e-03  5.49465543e-03  6.58161590e-03  3.65777141e-03\n",
      " -7.17707322e-03 -2.94211257e-02 -5.87771122e-02 -8.61821247e-02\n",
      " -9.98951232e-02 -9.32583194e-02 -7.23643821e-02 -4.42450667e-02\n",
      " -2.02983298e-02 -7.25478867e-03 -1.18705812e-03  4.96432074e-04\n",
      "  1.44826853e-04  2.70737844e-05  1.20473599e-05  6.30702475e-07\n",
      "  0.00000000e+00  0.00000000e+00 -6.74241553e-05  1.48106323e-05\n",
      "  3.40821899e-04  1.16709563e-03  3.17484683e-03  6.05916551e-03\n",
      "  1.10673674e-02  1.78765360e-02  1.97825463e-02  1.16149870e-02\n",
      " -1.13076951e-02 -4.78013685e-02 -8.47369086e-02 -1.06655495e-01\n",
      " -1.01609707e-01 -7.31318816e-02 -3.70393636e-02 -8.21673858e-03\n",
      "  8.44460068e-03  1.29634689e-02  1.15805505e-02  7.47160757e-03\n",
      "  2.83576283e-03  4.64791619e-04  3.54267655e-05  9.31036986e-07\n",
      "  0.00000000e+00  0.00000000e+00 -2.85927369e-05  1.41924718e-04\n",
      "  1.04513312e-03  2.84847480e-03  6.71051471e-03  1.38579358e-02\n",
      "  2.40856079e-02  3.67042940e-02  3.95388746e-02  2.11524087e-02\n",
      " -1.90219053e-02 -6.96434881e-02 -1.06887240e-01 -1.11693658e-01\n",
      " -8.14686520e-02 -3.31507751e-02  1.05057343e-02  3.43418060e-02\n",
      "  3.74440614e-02  3.11698934e-02  2.18167472e-02  1.28222703e-02\n",
      "  4.87281802e-03  7.44942138e-04  5.59271557e-05 -3.25914719e-06\n",
      "  0.00000000e+00  0.00000000e+00  0.00000000e+00  3.06376420e-04\n",
      "  1.65312393e-03  4.99026779e-03  1.07210126e-02  2.26161841e-02\n",
      "  3.99771655e-02  5.65197123e-02  5.45563016e-02  2.04477915e-02\n",
      " -3.68946621e-02 -9.28023073e-02 -1.17766500e-01 -9.81952695e-02\n",
      " -4.84882459e-02  8.23146618e-03  4.98813819e-02  6.38933220e-02\n",
      "  5.54833779e-02  3.99127499e-02  2.51205456e-02  1.28259478e-02\n",
      "  4.20733647e-03  6.71339152e-04  7.99270655e-06 -2.11127145e-06\n",
      "  0.00000000e+00  0.00000000e+00  2.65063153e-05  4.68727888e-04\n",
      "  2.45875068e-03  6.48807712e-03  1.48128767e-02  3.17237546e-02\n",
      "  5.50997272e-02  7.27042931e-02  5.89160046e-02  5.75653418e-03\n",
      " -6.40884727e-02 -1.11312181e-01 -1.11349642e-01 -7.02355148e-02\n",
      " -1.42095651e-02  4.10085973e-02  7.65336560e-02  8.19914343e-02\n",
      "  6.52037522e-02  4.18351079e-02  2.29754581e-02  9.56426493e-03\n",
      "  2.36100402e-03  2.88232684e-04 -4.21740361e-05  0.00000000e+00\n",
      "  0.00000000e+00  0.00000000e+00  2.88451078e-05  4.74330620e-04\n",
      "  2.73281641e-03  7.97175595e-03  1.93284266e-02  4.18563167e-02\n",
      "  6.93920925e-02  8.17122114e-02  4.89539150e-02 -2.23021852e-02\n",
      " -9.21748422e-02 -1.17026942e-01 -8.92260136e-02 -3.92525026e-02\n",
      "  1.38895067e-02  6.50502281e-02  9.57950014e-02  9.25764550e-02\n",
      "  6.67848727e-02  3.79071316e-02  1.82552006e-02  5.98464192e-03\n",
      "  1.08188222e-03  1.04692332e-04 -4.57585911e-05  0.00000000e+00\n",
      "  0.00000000e+00  0.00000000e+00  4.61578392e-05  6.26639029e-04\n",
      "  3.22742689e-03  1.00990327e-02  2.55047631e-02  5.34635620e-02\n",
      "  8.25869609e-02  8.10622353e-02  2.53280541e-02 -5.82632761e-02\n",
      " -1.12302546e-01 -1.06050671e-01 -6.00573025e-02 -1.37760395e-02\n",
      "  3.26637391e-02  8.17583948e-02  1.06452953e-01  9.39942371e-02\n",
      "  6.02400061e-02  3.03900314e-02  1.22153930e-02  3.37445215e-03\n",
      "  7.98543979e-04  1.23391169e-04 -3.02929496e-05  0.00000000e+00\n",
      "  0.00000000e+00  1.92456128e-06  8.47892113e-05  8.33672666e-04\n",
      "  3.74866064e-03  1.28271078e-02  3.32337631e-02  6.64136952e-02\n",
      "  9.09985294e-02  6.90179180e-02 -8.34340233e-03 -8.92204264e-02\n",
      " -1.15837921e-01 -8.27256077e-02 -3.53228827e-02 -8.06473294e-05\n",
      "  4.08451221e-02  8.63581108e-02  1.01001364e-01  7.91322759e-02\n",
      "  4.33986181e-02  1.93552972e-02  7.35196346e-03  2.90395926e-03\n",
      "  9.38346742e-04  1.61238834e-04 -5.24042859e-06  1.11189610e-06\n",
      "  0.00000000e+00  1.89495264e-05  8.68081431e-05  9.38687467e-04\n",
      "  4.45900372e-03  1.63107515e-02  4.33067115e-02  7.91988385e-02\n",
      "  9.33281990e-02  4.94381513e-02 -4.03615526e-02 -1.04339315e-01\n",
      " -9.93214508e-02 -5.41605978e-02 -2.06582383e-02 -3.78926063e-04\n",
      "  3.55844961e-02  7.05345492e-02  7.23580090e-02  4.46103755e-02\n",
      "  1.46003670e-02  3.56343484e-03  2.20961171e-03  2.92764610e-03\n",
      "  2.07883633e-03  4.02933505e-04  1.82098972e-05  1.29013898e-06\n",
      "  0.00000000e+00  3.74549233e-05  4.66620502e-05  9.47315703e-04\n",
      "  5.78177423e-03  2.13274711e-02  5.39780961e-02  8.80896543e-02\n",
      "  8.71187112e-02  3.00289121e-02 -5.23698564e-02 -8.61857173e-02\n",
      " -6.02489367e-02 -2.43444298e-02 -1.36420424e-02 -6.08633901e-03\n",
      "  2.02434368e-02  4.21805979e-02  3.40686218e-02  7.48124752e-03\n",
      " -1.17111347e-02 -1.10896278e-02 -2.59631298e-03  2.80998096e-03\n",
      "  2.87651958e-03  6.60214313e-04  2.70311727e-05  3.47998015e-07\n",
      "  0.00000000e+00  1.79132242e-05  4.29079882e-05  1.18762193e-03\n",
      "  7.57225696e-03  2.63071257e-02  6.06748834e-02  8.77678645e-02\n",
      "  7.60234505e-02  1.96504325e-02 -3.42298771e-02 -3.81185843e-02\n",
      " -6.41058279e-03  8.00738414e-03  8.45958118e-04  1.00507082e-03\n",
      "  1.71275651e-02  2.84375883e-02  1.53452726e-02 -1.40566076e-02\n",
      " -2.92500555e-02 -2.11440527e-02 -6.43509545e-03  2.84079664e-03\n",
      "  3.34255571e-03  8.59690596e-04  3.68869948e-05  0.00000000e+00\n",
      "  0.00000000e+00  8.88259050e-07  5.52768282e-05  1.52014732e-03\n",
      "  7.88168778e-03  2.74346295e-02  5.66798199e-02  7.21045248e-02\n",
      "  5.56253733e-02  1.19642263e-02 -1.14501883e-02  4.26479844e-03\n",
      "  2.72128773e-02  2.57143759e-02  1.49325436e-02  1.86998342e-02\n",
      "  3.52410323e-02  4.01601186e-02  1.58810976e-02 -2.44947595e-02\n",
      " -4.28604453e-02 -3.12307475e-02 -1.03326995e-02  1.64132440e-03\n",
      "  3.14305073e-03  8.83552301e-04  2.66506125e-05 -1.49823215e-07\n",
      "  0.00000000e+00  0.00000000e+00  8.85268806e-06  1.03443359e-03\n",
      "  6.06420157e-03  2.16104432e-02  3.91017670e-02  3.98324499e-02\n",
      "  1.74630808e-02 -1.48680733e-02 -2.24447277e-02 -3.76511330e-03\n",
      "  9.08549386e-03  7.42478752e-03  1.42262608e-02  3.76600253e-02\n",
      "  6.03995515e-02  5.19118709e-02  6.69843260e-03 -4.41930889e-02\n",
      " -5.87179600e-02 -3.81771757e-02 -1.31052374e-02  2.72247688e-04\n",
      "  2.27597418e-03  7.56238056e-04  2.55624851e-05 -2.74675894e-07\n",
      "  0.00000000e+00  0.00000000e+00  1.87654121e-05  4.15159293e-04\n",
      "  3.37795218e-03  1.12041154e-02  1.49300906e-02  2.70981465e-03\n",
      " -2.93132336e-02 -6.09079317e-02 -6.75323253e-02 -5.33481936e-02\n",
      " -4.01305058e-02 -2.63086074e-02  3.37170965e-03  4.09787184e-02\n",
      "  5.76415005e-02  2.91613131e-02 -2.72657352e-02 -6.89774452e-02\n",
      " -6.58922721e-02 -3.64108644e-02 -1.09906009e-02  5.97538713e-05\n",
      "  1.21416897e-03  5.24259647e-04 -1.37429304e-05 -2.74675894e-07\n",
      "  0.00000000e+00  0.00000000e+00  1.76298362e-05  1.50452452e-04\n",
      "  1.04599946e-03  2.72638470e-03 -2.11832285e-03 -2.15918648e-02\n",
      " -5.76789196e-02 -9.41587069e-02 -1.09377492e-01 -9.95513155e-02\n",
      " -7.73854693e-02 -4.84681927e-02 -1.21560043e-02  1.58859885e-02\n",
      "  1.46748000e-02 -2.06093429e-02 -6.28351257e-02 -7.50607807e-02\n",
      " -5.32747542e-02 -2.32857161e-02 -5.13637125e-03  6.28787442e-04\n",
      "  7.60815775e-04  2.45084682e-04  9.10691895e-06 -9.98821432e-08\n",
      "  0.00000000e+00  0.00000000e+00  6.52622434e-06  1.06185657e-04\n",
      "  1.34077324e-04 -6.04077085e-04 -7.04746597e-03 -2.69053503e-02\n",
      " -6.21196750e-02 -1.02406405e-01 -1.29142727e-01 -1.27319327e-01\n",
      " -1.05291216e-01 -7.37924025e-02 -4.52666599e-02 -3.15993305e-02\n",
      " -3.82683984e-02 -5.50717438e-02 -6.36954917e-02 -4.95211735e-02\n",
      " -2.56306740e-02 -7.43406922e-03 -1.20733368e-04  8.42677654e-04\n",
      "  4.28790727e-04  5.55790524e-05 -2.03572679e-05  0.00000000e+00\n",
      "  0.00000000e+00  0.00000000e+00  2.17760414e-06  4.63323227e-05\n",
      " -1.62881740e-04 -9.12529073e-04 -4.98968930e-03 -1.86785416e-02\n",
      " -4.58872453e-02 -8.55614530e-02 -1.21436778e-01 -1.35514139e-01\n",
      " -1.24872170e-01 -1.01812630e-01 -8.06973655e-02 -6.48169321e-02\n",
      " -5.37202921e-02 -4.21882298e-02 -2.76268864e-02 -1.12701755e-02\n",
      " -1.21543194e-03  2.53028472e-03  2.39571605e-03  1.19363973e-03\n",
      "  3.52176368e-04  3.75433500e-05 -2.58471855e-05  0.00000000e+00\n",
      "  0.00000000e+00  0.00000000e+00 -4.40953891e-06 -8.07739644e-08\n",
      " -5.34239889e-05 -3.43500178e-04 -1.92694487e-03 -7.36118483e-03\n",
      " -2.11359951e-02 -4.62895584e-02 -7.91305522e-02 -1.03412605e-01\n",
      " -1.07720119e-01 -9.51049351e-02 -7.19435446e-02 -4.36787010e-02\n",
      " -1.71196160e-02  4.01516758e-03  1.45815086e-02  1.58548499e-02\n",
      "  1.14745978e-02  6.38645967e-03  3.36314505e-03  1.34196415e-03\n",
      "  4.36292192e-04  5.18478151e-05 -2.58471855e-05  0.00000000e+00\n",
      "  0.00000000e+00  0.00000000e+00  0.00000000e+00  0.00000000e+00\n",
      "  0.00000000e+00  1.80645989e-05 -2.38883512e-05 -8.97503114e-04\n",
      " -3.01768260e-03 -7.45101405e-03 -1.51031261e-02 -2.10859244e-02\n",
      " -2.16513796e-02 -1.43779386e-02  4.27326141e-04  1.97717510e-02\n",
      "  3.41451938e-02  4.00073424e-02  3.55856908e-02  2.65430396e-02\n",
      "  1.63400683e-02  8.25259129e-03  3.78068635e-03  1.55425902e-03\n",
      "  4.68363926e-04  7.19267144e-05 -1.00965735e-07  0.00000000e+00\n",
      "  0.00000000e+00  0.00000000e+00  0.00000000e+00  0.00000000e+00\n",
      "  0.00000000e+00  2.62518667e-05  2.42405201e-04  6.59041451e-04\n",
      "  1.37530083e-03  3.51787916e-03  8.29435022e-03  1.63149593e-02\n",
      "  2.59589992e-02  3.39492701e-02  4.24250211e-02  4.91559792e-02\n",
      "  4.95783197e-02  4.57676222e-02  3.71085406e-02  2.62158338e-02\n",
      "  1.64443362e-02  8.02950869e-03  3.54018370e-03  1.43037951e-03\n",
      "  3.93503364e-04  5.13208185e-05  1.09763995e-05  0.00000000e+00\n",
      "  0.00000000e+00  0.00000000e+00  0.00000000e+00  0.00000000e+00\n",
      "  0.00000000e+00  3.38909539e-05  1.88459569e-04  5.09321436e-04\n",
      "  1.24431962e-03  3.12171084e-03  7.14822418e-03  1.32556727e-02\n",
      "  2.00334444e-02  2.54905698e-02  3.13485644e-02  3.54345019e-02\n",
      "  3.41016926e-02  3.03553202e-02  2.44742215e-02  1.70669446e-02\n",
      "  9.96176531e-03  4.81502211e-03  2.05018952e-03  7.54472792e-04\n",
      "  1.16698768e-04  1.62051101e-05  0.00000000e+00  0.00000000e+00\n",
      "  0.00000000e+00  0.00000000e+00  0.00000000e+00  0.00000000e+00\n",
      "  2.65463728e-06  8.44028498e-06  2.38443459e-05  9.75060336e-05\n",
      "  3.46376315e-04  1.09994683e-03  2.32552966e-03  3.48996251e-03\n",
      "  5.03674102e-03  7.50600966e-03  9.52682738e-03  1.03112275e-02\n",
      "  9.79576230e-03  7.65943849e-03  5.50573152e-03  3.30609340e-03\n",
      "  1.49885874e-03  6.20162611e-04  3.68117253e-04  1.54627309e-04\n",
      "  8.86557630e-06  0.00000000e+00  0.00000000e+00  0.00000000e+00\n",
      "  0.00000000e+00  0.00000000e+00  0.00000000e+00  0.00000000e+00\n",
      "  2.69425873e-06  1.00242273e-05  9.66763428e-06  4.85295814e-06\n",
      "  3.92627720e-05  8.17506258e-05  1.74034333e-04  2.09074836e-04\n",
      "  2.94618117e-04  2.76277898e-04  3.02379144e-04  2.10025775e-04\n",
      "  1.65725008e-04  2.34665463e-04  1.91765616e-04  6.66868632e-05\n",
      "  9.88196504e-06  0.00000000e+00  6.25194129e-06  1.37297534e-05\n",
      "  3.67761252e-07  0.00000000e+00  0.00000000e+00  0.00000000e+00\n",
      "  0.00000000e+00  0.00000000e+00  0.00000000e+00  0.00000000e+00\n",
      "  0.00000000e+00  0.00000000e+00  0.00000000e+00  0.00000000e+00\n",
      "  0.00000000e+00  0.00000000e+00  0.00000000e+00  0.00000000e+00\n",
      "  0.00000000e+00  0.00000000e+00  0.00000000e+00  0.00000000e+00\n",
      "  0.00000000e+00  0.00000000e+00  0.00000000e+00  0.00000000e+00\n",
      "  0.00000000e+00  0.00000000e+00  0.00000000e+00  0.00000000e+00\n",
      "  0.00000000e+00  0.00000000e+00  0.00000000e+00  0.00000000e+00]\n"
     ]
    }
   ],
   "source": [
    "X = np.array(X, np.float64)\n",
    "\n",
    "# Get mean vector 784 features\n",
    "mu = np.mean(X, axis = 0)\n",
    "# Get\n",
    "Z = X - mu\n",
    "# Get covariance matrix\n",
    "C = np.cov(Z, rowvar = False)\n",
    "# λ is vector of eigenvalues, V is matrix of eigenvectors\n",
    "[λ, V] = LA.eigh(C)\n",
    "\n",
    "row = V[-1, :]\n",
    "col = V[:, -1]\n",
    "\n",
    "print('X:\\n', X)\n",
    "print('mu:\\n', mu)\n",
    "print('mu.shape:\\n', mu.shape )\n",
    "print('Z:\\n', Z)\n",
    "print('C:\\n', C)\n",
    "print('[λ, V]:\\n', [λ, V])\n",
    "print('row:\\n', row)\n",
    "print('col:\\n', col)"
   ]
  },
  {
   "cell_type": "code",
   "execution_count": 84,
   "metadata": {},
   "outputs": [
    {
     "data": {
      "text/plain": [
       "array([ 0.00000000e+00,  0.00000000e+00,  0.00000000e+00,  0.00000000e+00,\n",
       "        0.00000000e+00,  0.00000000e+00,  0.00000000e+00,  0.00000000e+00,\n",
       "        0.00000000e+00,  0.00000000e+00,  0.00000000e+00,  0.00000000e+00,\n",
       "       -6.03211435e-03, -1.32082504e-02,  0.00000000e+00,  0.00000000e+00,\n",
       "        0.00000000e+00,  0.00000000e+00,  0.00000000e+00,  0.00000000e+00,\n",
       "        0.00000000e+00,  0.00000000e+00,  0.00000000e+00,  0.00000000e+00,\n",
       "        0.00000000e+00,  0.00000000e+00,  0.00000000e+00,  0.00000000e+00,\n",
       "        0.00000000e+00,  0.00000000e+00,  0.00000000e+00,  0.00000000e+00,\n",
       "       -8.32015773e-04, -2.86005422e-03, -2.89645491e-02, -7.49334205e-02,\n",
       "       -1.21890311e-01, -1.81483440e-01, -3.43206506e-01, -4.57660676e-01,\n",
       "       -5.09817665e-01, -5.19021839e-01, -5.17721814e-01, -4.54384614e-01,\n",
       "       -4.62496768e-01, -4.29060134e-01, -3.08625851e-01, -2.22252213e-01,\n",
       "       -1.67911183e-01, -6.66652638e-02, -3.14605964e-02, -1.10242090e-02,\n",
       "        0.00000000e+00,  0.00000000e+00,  0.00000000e+00,  0.00000000e+00,\n",
       "        0.00000000e+00,  0.00000000e+00, -3.32806309e-03, -6.76012815e-04,\n",
       "       -2.11644012e-02, -1.47682800e-02, -1.18770252e-01, -3.41646477e-01,\n",
       "       -6.33372007e-01, -1.19929874e+00, -2.12876436e+00, -3.20289672e+00,\n",
       "       -4.79007081e+00, -6.65884752e+00, -8.48930333e+00, -9.66122542e+00,\n",
       "       -9.12276246e+00, -7.82136538e+00, -7.00723898e+00, -6.15364065e+00,\n",
       "       -3.03279776e+00,  5.38191056e+00,  1.88624265e+01,  2.51360355e+01,\n",
       "        2.17581205e+01,  5.21805831e+00,  0.00000000e+00,  0.00000000e+00,\n",
       "        0.00000000e+00,  0.00000000e+00, -7.33213900e-03, -1.23762346e-02,\n",
       "       -2.23084229e-02, -6.99533445e-02, -1.82993790e-01, -4.77262075e-01,\n",
       "       -1.38523231e+00, -2.69198703e+00, -4.47787771e+00, -6.88161150e+00,\n",
       "       -1.01768529e+01, -1.43702147e+01, -1.91464443e+01, -2.18602333e+01,\n",
       "       -2.31144992e+01, -2.21452239e+01, -1.87783906e+01, -9.54636349e+00,\n",
       "        1.05168824e+01,  4.54358167e+01,  9.53990120e+01,  1.26763836e+02,\n",
       "       -3.93942215e+05,  1.82653241e+01,  1.78927712e-01,  0.00000000e+00,\n",
       "        0.00000000e+00,  0.00000000e+00, -1.14402169e-03, -9.20417448e-03,\n",
       "       -5.19489848e-02, -1.40715145e-01, -1.32205727e-02, -7.63282792e-01,\n",
       "       -2.33681364e+00, -4.82053345e+00, -7.48524519e+00, -1.07335547e+01,\n",
       "       -1.57717895e+01, -2.21191874e+01, -2.68618059e+01, -3.12318068e+01,\n",
       "       -3.29313754e+01, -2.83776116e+01, -1.22197795e+01,  1.49372235e+01,\n",
       "        5.87381965e+01,  1.03190838e+02,  1.24623205e+02,  1.16068396e+02,\n",
       "        8.39719622e+01,  1.89343662e+01,  1.32823795e-02, -3.27606210e-03,\n",
       "        0.00000000e+00,  0.00000000e+00, -1.64323115e-02, -1.53922918e-02,\n",
       "       -1.96043716e-01, -1.45471098e-01, -1.00025128e+00, -2.46797911e+00,\n",
       "       -5.14930594e+00, -9.67031204e+00, -1.37783545e+01, -1.82658963e+01,\n",
       "       -2.56366619e+01, -3.29188544e+01, -3.71757703e+01, -3.86499058e+01,\n",
       "       -3.53261337e+01, -1.19694831e+01,  1.80480579e+01,  6.77112946e+01,\n",
       "        9.70649056e+01,  1.06138398e+02,  8.44745713e+01,  6.74312478e+01,\n",
       "        3.70651210e+01,  6.24462038e+00, -2.26401488e-02, -4.83609168e-03,\n",
       "        0.00000000e+00,  0.00000000e+00, -7.33213900e-03, -5.18969838e-02,\n",
       "       -4.37952302e-01, -8.82078447e-01, -2.27671948e+00, -5.22039129e+00,\n",
       "       -9.73151262e+00, -1.66903316e+01, -2.31243066e+01, -3.00853070e+01,\n",
       "       -3.74854989e+01, -4.34720121e+01, -4.30379599e+01, -3.48722640e+01,\n",
       "       -1.21351242e+01,  3.22223426e+01,  7.46479794e+01,  8.48281923e+01,\n",
       "        7.54879339e+01,  6.42783825e+01,  4.19670656e+01,  1.79114915e+01,\n",
       "        6.33118705e-01, -2.07660741e-01, -9.98938937e-02, -8.26815674e-03,\n",
       "        0.00000000e+00,  0.00000000e+00,  0.00000000e+00, -1.08682060e-01,\n",
       "       -6.42784185e-01, -1.91007225e+00, -4.09203200e+00, -8.75922448e+00,\n",
       "       -1.59373624e+01, -2.41718126e+01, -3.15665711e+01, -4.09670810e+01,\n",
       "       -4.80612975e+01, -4.92465989e+01, -3.72432722e+01, -1.56475702e+00,\n",
       "        3.97060447e+01,  7.80943360e+01,  7.13927224e+01,  5.49898252e+01,\n",
       "        4.17775747e+01,  2.39623847e+01,  1.18117789e+01, -3.90551991e+00,\n",
       "       -2.92727483e+00, -7.79416504e-01, -1.29326452e-01, -5.35610154e-03,\n",
       "        0.00000000e+00,  0.00000000e+00, -7.07213407e-03, -1.63543100e-01,\n",
       "       -8.95820982e-01, -2.43702620e+00, -5.68739982e+00, -1.23611543e+01,\n",
       "       -2.19766557e+01, -3.10194364e+01, -4.07373380e+01, -5.26517436e+01,\n",
       "       -5.39630757e+01, -4.10171107e+01,  4.98211357e-01,  5.35931784e+01,\n",
       "        8.36441023e+01,  7.33285061e+01,  3.91174143e+01,  1.59570004e+01,\n",
       "        1.61780247e+00, -3.83172077e+00, -3.99407686e+00, -4.94465110e+00,\n",
       "       -2.06752678e+00, -4.89407007e-01, -8.75696601e-02,  0.00000000e+00,\n",
       "        0.00000000e+00,  0.00000000e+00, -7.69614590e-03, -1.60891050e-01,\n",
       "       -9.82038617e-01, -2.97279236e+00, -7.44654116e+00, -1.63520740e+01,\n",
       "       -2.63465612e+01, -3.74853280e+01, -5.33964995e+01, -5.90934599e+01,\n",
       "       -4.21804794e+01,  2.59348725e+00,  5.91334307e+01,  9.26661257e+01,\n",
       "        7.52159217e+01,  3.10849838e+01, -5.32966364e+00, -1.98390783e+01,\n",
       "       -1.24627950e+01, -8.34770525e+00, -5.29670355e+00, -2.91383680e+00,\n",
       "       -1.11743027e+00, -2.72042886e-01, -4.99729473e-02,  0.00000000e+00,\n",
       "        0.00000000e+00,  0.00000000e+00, -1.58082997e-02, -2.13308044e-01,\n",
       "       -1.13814558e+00, -3.71942251e+00, -9.82423424e+00, -2.06846337e+01,\n",
       "       -3.13398607e+01, -4.62891836e+01, -5.57855767e+01, -4.48037311e+01,\n",
       "       -1.98253229e+00,  5.04105629e+01,  9.01800650e+01,  7.50757811e+01,\n",
       "        3.48619492e+01, -1.43196764e+01, -3.55776758e+01, -2.55494821e+01,\n",
       "       -1.42649130e+01, -8.50136190e+00, -3.54874510e+00, -4.43689875e-01,\n",
       "       -9.29758708e-01, -2.04649608e-01, -2.80285313e-02,  0.00000000e+00,\n",
       "        0.00000000e+00, -6.76012815e-04, -3.12525925e-02, -2.77009251e-01,\n",
       "       -1.30168868e+00, -4.75387812e+00, -1.25194000e+01, -2.36220011e+01,\n",
       "       -3.80553965e+01, -4.91871135e+01, -4.50846078e+01, -9.92701031e+00,\n",
       "        4.49432100e+01,  8.06410142e+01,  7.47419932e+01,  3.46530784e+01,\n",
       "       -1.50194388e+01, -4.75022662e+01, -4.44852950e+01, -3.20185514e+01,\n",
       "       -1.84945193e+01, -1.31380354e+01, -5.53776417e+00, -6.83195611e-01,\n",
       "       -7.08282757e-01, -2.22797952e-01, -2.55844850e-02, -6.81212914e-03,\n",
       "        0.00000000e+00, -6.65612618e-03, -3.10965895e-02, -3.11381903e-01,\n",
       "       -1.51411270e+00, -6.01557804e+00, -1.53976119e+01, -2.72126338e+01,\n",
       "       -4.17095593e+01, -4.06839566e+01, -1.61616175e+01,  2.95285578e+01,\n",
       "        6.87132402e+01,  6.53018070e+01,  3.62925125e+01, -2.59281352e+00,\n",
       "       -4.03458582e+01, -5.51128723e+01, -5.16606461e+01, -3.74053165e+01,\n",
       "       -2.52346991e+01, -1.82706891e+01, -9.70768510e+00, -2.54905674e+00,\n",
       "       -1.72441807e+00, -4.41930107e-01, -3.78047167e-02, -7.90414984e-03,\n",
       "        0.00000000e+00, -1.31562494e-02, -1.56002957e-02, -3.00773702e-01,\n",
       "       -1.89377190e+00, -7.04201842e+00, -1.71058700e+01, -2.48952198e+01,\n",
       "       -3.13977219e+01, -2.21132965e+01,  1.07661918e+01,  4.37923000e+01,\n",
       "        4.79297944e+01,  2.23862229e+01, -4.01177222e+00, -3.14834920e+01,\n",
       "       -4.31087030e+01, -3.81806192e+01, -3.74587043e+01, -3.87611747e+01,\n",
       "       -2.83707538e+01, -1.72137979e+01, -1.44424205e+01, -6.31615831e+00,\n",
       "       -3.52664967e+00, -6.01393462e-01, -5.43930311e-02, -2.13204042e-03,\n",
       "        0.00000000e+00, -6.29211928e-03, -1.47162790e-02, -3.85067300e-01,\n",
       "       -2.48980720e+00, -8.12742951e+00, -1.50990293e+01, -1.48944608e+01,\n",
       "       -1.29504907e+01,  5.43429217e+00,  2.08838649e+01,  1.95413848e+01,\n",
       "       -2.85288184e+00, -1.10054694e+01, -1.53637068e+01, -1.22210273e+01,\n",
       "       -1.34289603e+01, -1.62920381e+01, -2.41061013e+01, -3.44636273e+01,\n",
       "       -3.17049788e+01, -1.93343722e+01, -1.73090477e+01, -1.09336570e+01,\n",
       "       -5.57160640e+00, -7.44892232e-01, -3.02125727e-02,  0.00000000e+00,\n",
       "        0.00000000e+00, -3.12005915e-04, -2.17364121e-02, -5.32334091e-01,\n",
       "       -2.77841267e+00, -4.39784130e+00, -2.57669549e-01,  9.98151741e-01,\n",
       "        1.23192387e+01,  1.94716944e+01,  2.03017973e+00, -2.01682295e+01,\n",
       "       -8.08161881e+00,  3.37584436e+00,  3.89342045e+00,  5.00118949e-01,\n",
       "        1.94845756e+00,  2.59064551e+00, -2.72682680e+00, -1.24327320e+01,\n",
       "       -2.17889661e+01, -2.05992568e+01, -1.95863816e+01, -1.30321042e+01,\n",
       "       -5.38103448e+00, -1.50690676e+00, -5.79810991e-02, -3.12005915e-04,\n",
       "        0.00000000e+00,  0.00000000e+00, -6.96813210e-03, -4.02747635e-01,\n",
       "       -2.48632313e+00,  4.60713251e+00,  1.54550588e+01,  2.49319059e+01,\n",
       "        3.66449728e+01,  1.85111418e+01, -6.68457161e+00, -1.28909795e+00,\n",
       "        1.96414649e+01,  1.79097347e+01,  8.25126805e+00,  1.58245747e+00,\n",
       "       -2.61019718e+00,  1.12074217e+00,  1.11639229e+01,  1.01758005e+01,\n",
       "       -8.04096693e+00, -1.66013595e+01, -1.69252248e+01, -9.02234880e+00,\n",
       "       -3.88033245e+00, -1.38026217e+00, -6.52612372e-02, -5.72010844e-04,\n",
       "        0.00000000e+00,  0.00000000e+00, -1.75243322e-02, -2.21732203e-01,\n",
       "       -1.80963431e+00,  9.50460631e+00,  3.76449777e+01,  5.90355751e+01,\n",
       "        5.49695276e+01,  1.34124505e+01,  2.41178843e+00,  1.05754708e+01,\n",
       "        2.61791073e+01,  1.42607230e+01,  8.14546889e+00,  4.90060225e+00,\n",
       "        8.31800371e+00,  7.78293038e+00,  1.49171190e+01,  7.44989478e+00,\n",
       "       -1.20823009e+01, -2.42924938e+01, -1.62513565e+01, -7.95144041e+00,\n",
       "       -2.77051167e+00, -8.59108286e-01, -3.81167226e-02, -5.72010844e-04,\n",
       "        0.00000000e+00,  0.00000000e+00, -1.63803105e-02, -1.49554835e-01,\n",
       "       -1.08936865e+00,  8.62287759e+00,  4.93667401e+01,  8.36299374e+01,\n",
       "        6.61974918e+01,  2.64711209e+01,  7.55129078e+00,  6.04844490e+00,\n",
       "        1.17176280e+01,  1.03821263e+01,  1.20308911e+01,  1.56974614e+01,\n",
       "        1.88498704e+01,  1.58391364e+01,  5.32306060e+00, -2.16158153e+00,\n",
       "       -1.75508671e+01, -2.21749377e+01, -1.21383368e+01, -5.57512767e+00,\n",
       "       -1.07226458e+00, -4.07531726e-01, -1.77843371e-02, -2.08003943e-04,\n",
       "        0.00000000e+00,  0.00000000e+00, -1.14402169e-02, -1.03637965e-01,\n",
       "       -6.09867561e-01,  8.54362540e+00,  5.53431462e+01,  9.25179576e+01,\n",
       "        7.45300454e+01,  3.67027374e+01,  1.43690288e+01,  6.49250847e+00,\n",
       "        6.64727935e+00,  1.53491404e+01,  2.41199249e+01,  3.12057042e+01,\n",
       "        2.55244664e+01,  4.46487632e+00, -5.94596575e+00, -1.43656773e+01,\n",
       "       -2.00381784e+01, -1.59489644e+01, -7.48612849e+00, -2.73125596e+00,\n",
       "       -3.25443191e-01, -1.26102391e-01, -1.19082257e-02,  0.00000000e+00,\n",
       "        0.00000000e+00,  0.00000000e+00, -7.12413505e-03, -4.08727748e-02,\n",
       "       -2.70041119e-01,  9.81329203e+00,  5.04993769e+01,  9.30074763e+01,\n",
       "        8.90550803e+01,  7.61225870e+01,  5.99430284e+01,  5.34358679e+01,\n",
       "        4.45267642e+01,  4.51304605e+01,  3.42683758e+01,  1.17606378e+01,\n",
       "       -4.97794887e+00, -1.35757321e+01, -1.81759214e+01, -2.10348926e+01,\n",
       "       -1.81265545e+01, -9.05669587e+00, -3.65728133e+00, -1.24630763e+00,\n",
       "       -3.06233805e-01, -5.76170922e-02, -1.31042484e-02,  0.00000000e+00,\n",
       "        0.00000000e+00,  0.00000000e+00, -1.45602760e-03, -5.87611139e-03,\n",
       "       -5.77730952e-02,  4.60084442e+00,  2.84256035e+01,  7.02587481e+01,\n",
       "        9.00538359e+01,  9.85768066e+01,  9.28074594e+01,  7.73764746e+01,\n",
       "        5.83242220e+01,  3.10972779e+01,  7.32592330e+00, -9.97306748e+00,\n",
       "       -2.41607457e+01, -2.75955028e+01, -2.51679986e+01, -1.86408716e+01,\n",
       "       -1.03477571e+01, -4.74259391e+00, -1.99652585e+00, -7.26401770e-01,\n",
       "       -2.10915998e-01, -3.50486644e-02, -1.31042484e-02,  0.00000000e+00,\n",
       "        0.00000000e+00,  0.00000000e+00,  0.00000000e+00,  0.00000000e+00,\n",
       "        0.00000000e+00, -5.20719475e-02,  6.30634325e+00,  2.31966796e+01,\n",
       "        4.87299895e+01,  6.22090449e+01,  6.52606501e+01,  4.63108229e+01,\n",
       "        1.97869049e+01,  1.25263611e+00, -1.41875280e+01, -2.49689789e+01,\n",
       "       -2.94658389e+01, -2.50184641e+01, -1.82962198e+01, -1.22087002e+01,\n",
       "       -6.85575796e+00, -3.42078085e+00, -1.52711295e+00, -5.93019242e-01,\n",
       "       -1.68067186e-01, -3.07325826e-02, -8.94416955e-03,  0.00000000e+00,\n",
       "        0.00000000e+00,  0.00000000e+00,  0.00000000e+00,  0.00000000e+00,\n",
       "        0.00000000e+00, -2.51164761e-02, -2.48252706e-01, -9.13709321e-01,\n",
       "       -2.30660773e+00, -4.94186168e+00, -9.01192684e+00, -1.39992374e+01,\n",
       "       -1.83622241e+01, -2.10999200e+01, -2.27767438e+01, -2.32705451e+01,\n",
       "       -2.13000198e+01, -1.81092913e+01, -1.36354905e+01, -9.33147290e+00,\n",
       "       -5.74382089e+00, -2.84804199e+00, -1.24661963e+00, -4.98273446e-01,\n",
       "       -1.31302489e-01, -1.75243322e-02, -3.32806309e-03,  0.00000000e+00,\n",
       "        0.00000000e+00,  0.00000000e+00,  0.00000000e+00,  0.00000000e+00,\n",
       "        0.00000000e+00, -4.29528143e-02, -2.57040873e-01, -7.13401524e-01,\n",
       "       -1.74343705e+00, -3.46503369e+00, -5.90065586e+00, -8.75779802e+00,\n",
       "       -1.07696642e+01, -1.20233559e+01, -1.32601994e+01, -1.35853615e+01,\n",
       "       -1.24526241e+01, -1.05921328e+01, -8.09551347e+00, -5.52037265e+00,\n",
       "       -3.26644192e+00, -1.62659084e+00, -7.12933515e-01, -2.67025062e-01,\n",
       "       -3.96247512e-02, -7.38413998e-03,  0.00000000e+00,  0.00000000e+00,\n",
       "        0.00000000e+00,  0.00000000e+00,  0.00000000e+00,  0.00000000e+00,\n",
       "       -3.48406605e-03, -1.56522967e-02, -8.23695615e-02, -2.04155870e-01,\n",
       "       -5.36494170e-01, -1.13871759e+00, -1.85014307e+00, -2.20520580e+00,\n",
       "       -2.59495319e+00, -3.23160126e+00, -3.72093054e+00, -3.58775601e+00,\n",
       "       -3.15271577e+00, -2.37077694e+00, -1.69159207e+00, -1.02306739e+00,\n",
       "       -4.84649188e-01, -2.04831883e-01, -1.31146486e-01, -6.30771958e-02,\n",
       "       -4.47208478e-03,  0.00000000e+00,  0.00000000e+00,  0.00000000e+00,\n",
       "        0.00000000e+00,  0.00000000e+00,  0.00000000e+00,  0.00000000e+00,\n",
       "       -3.53606703e-03, -1.31562494e-02, -1.26882405e-02, -3.69206999e-03,\n",
       "       -2.57924889e-02, -5.23129917e-02, -1.01297920e-01, -1.01869931e-01,\n",
       "       -1.17314224e-01, -1.04157975e-01, -1.12998142e-01, -9.89058750e-02,\n",
       "       -5.94371268e-02, -6.90053081e-02, -5.43410301e-02, -2.28804337e-02,\n",
       "       -5.14809759e-03,  0.00000000e+00, -2.65205027e-03, -5.82411041e-03,\n",
       "       -1.56002957e-04,  0.00000000e+00,  0.00000000e+00,  0.00000000e+00,\n",
       "        0.00000000e+00,  0.00000000e+00,  0.00000000e+00,  0.00000000e+00,\n",
       "        0.00000000e+00,  0.00000000e+00,  0.00000000e+00,  0.00000000e+00,\n",
       "        0.00000000e+00,  0.00000000e+00,  0.00000000e+00,  0.00000000e+00,\n",
       "        0.00000000e+00,  0.00000000e+00,  0.00000000e+00,  0.00000000e+00,\n",
       "        0.00000000e+00,  0.00000000e+00,  0.00000000e+00,  0.00000000e+00,\n",
       "        0.00000000e+00,  0.00000000e+00,  0.00000000e+00,  0.00000000e+00,\n",
       "        0.00000000e+00,  0.00000000e+00,  0.00000000e+00,  0.00000000e+00])"
      ]
     },
     "execution_count": 84,
     "metadata": {},
     "output_type": "execute_result"
    }
   ],
   "source": [
    "# If the matrix product C.row is the same as λ[-1]*row, this should evaluate to [0,0,0]\n",
    "np.dot(C, row) - (λ[-1] * row) "
   ]
  },
  {
   "cell_type": "code",
   "execution_count": 85,
   "metadata": {},
   "outputs": [
    {
     "data": {
      "text/plain": [
       "array([ 0.00000000e+00,  0.00000000e+00,  0.00000000e+00,  0.00000000e+00,\n",
       "        0.00000000e+00,  0.00000000e+00,  0.00000000e+00,  0.00000000e+00,\n",
       "        0.00000000e+00,  0.00000000e+00,  0.00000000e+00,  0.00000000e+00,\n",
       "       -8.88178420e-16, -2.99094083e-11,  4.37487745e-11,  4.37487745e-11,\n",
       "        0.00000000e+00, -2.18743873e-11,  0.00000000e+00, -6.83574602e-13,\n",
       "        8.54468253e-14,  1.06808532e-14,  0.00000000e+00,  0.00000000e+00,\n",
       "       -2.08610413e-17,  0.00000000e+00,  1.62976885e-19, -1.01860553e-20,\n",
       "        0.00000000e+00,  0.00000000e+00,  2.48682992e-24, -3.10853740e-25,\n",
       "        4.27435864e-15,  9.99200722e-15, -8.17124146e-14, -1.84741111e-13,\n",
       "       -3.19744231e-13, -9.23705556e-13, -1.83320026e-12,  7.95807864e-13,\n",
       "        8.71125394e-12,  6.69331257e-12, -1.70530257e-13, -1.70530257e-12,\n",
       "       -1.13686838e-12, -1.13686838e-12, -8.52651283e-13, -4.83169060e-13,\n",
       "       -3.12638804e-13, -2.84217094e-14, -3.19744231e-14, -7.26085858e-14,\n",
       "        0.00000000e+00,  0.00000000e+00,  0.00000000e+00,  0.00000000e+00,\n",
       "        0.00000000e+00,  0.00000000e+00, -2.93098879e-14,  3.33066907e-16,\n",
       "       -3.19744231e-14, -1.24344979e-14,  3.90798505e-14, -1.27897692e-13,\n",
       "       -4.26325641e-13, -2.27373675e-12, -4.88853402e-12,  9.20863386e-12,\n",
       "        2.00657269e-11,  5.45696821e-12, -4.54747351e-12,  0.00000000e+00,\n",
       "        7.27595761e-12,  1.81898940e-12,  5.45696821e-12,  6.36646291e-12,\n",
       "        4.54747351e-12,  4.09272616e-12,  1.47792889e-12,  3.97903932e-13,\n",
       "        2.55795385e-13,  9.94759830e-14,  0.00000000e+00,  0.00000000e+00,\n",
       "        0.00000000e+00,  0.00000000e+00, -6.75015599e-14, -2.13162821e-14,\n",
       "        6.03961325e-14, -9.23705556e-14, -1.42108547e-14, -2.84217094e-13,\n",
       "       -5.68434189e-13, -3.63797881e-12, -5.68434189e-12,  1.05728759e-11,\n",
       "        1.79625204e-11, -1.81898940e-12,  3.63797881e-12,  1.81898940e-11,\n",
       "        1.81898940e-11, -3.63797881e-12,  7.27595761e-12,  7.27595761e-12,\n",
       "        1.09139364e-11,  6.36646291e-12,  4.32009983e-12,  1.13686838e-12,\n",
       "        5.11590770e-13,  9.59232693e-14, -1.42108547e-14,  0.00000000e+00,\n",
       "        0.00000000e+00,  0.00000000e+00, -2.22044605e-16, -7.10542736e-15,\n",
       "        9.23705556e-14, -1.84741111e-13, -2.55795385e-13, -4.54747351e-13,\n",
       "       -1.81898940e-12, -7.27595761e-12, -2.27373675e-12,  1.22781785e-11,\n",
       "        6.36646291e-12,  1.81898940e-12,  1.09139364e-11,  1.45519152e-11,\n",
       "        0.00000000e+00,  2.18278728e-11,  1.09139364e-11,  1.45519152e-11,\n",
       "        1.09139364e-11,  9.09494702e-12,  3.63797881e-12,  1.05160325e-12,\n",
       "        1.35003120e-13, -6.75015599e-14, -7.99360578e-15, -7.41073869e-15,\n",
       "        0.00000000e+00,  0.00000000e+00,  3.55271368e-14, -4.70734562e-14,\n",
       "       -2.55795385e-13, -1.13686838e-12, -2.04636308e-12,  0.00000000e+00,\n",
       "       -4.54747351e-12, -1.36424205e-11, -9.09494702e-13,  1.09139364e-11,\n",
       "       -2.72848411e-12,  1.09139364e-11,  0.00000000e+00,  7.27595761e-12,\n",
       "        0.00000000e+00,  1.45519152e-11,  2.36468622e-11,  1.72803993e-11,\n",
       "        1.59161573e-11,  6.36646291e-12,  2.72848411e-12,  4.54747351e-13,\n",
       "       -4.54747351e-13, -1.42108547e-13, -3.01980663e-14, -1.43773882e-14,\n",
       "        0.00000000e+00,  0.00000000e+00,  5.32907052e-15, -1.70530257e-13,\n",
       "       -1.13686838e-12, -3.41060513e-12, -3.18323146e-12, -9.09494702e-13,\n",
       "       -3.63797881e-12, -1.27329258e-11, -3.63797881e-12,  9.09494702e-12,\n",
       "        2.72848411e-12,  2.54658516e-11,  7.27595761e-12,  7.27595761e-12,\n",
       "        1.45519152e-11,  3.09228199e-11,  2.09183781e-11,  1.27329258e-11,\n",
       "        1.45519152e-11,  5.45696821e-12,  5.45696821e-12, -9.09494702e-13,\n",
       "        1.36424205e-12, -5.68434189e-14, -6.75015599e-14, -6.21724894e-15,\n",
       "        0.00000000e+00,  0.00000000e+00,  0.00000000e+00, -4.54747351e-13,\n",
       "       -1.81898940e-12, -5.45696821e-12, -7.27595761e-12, -1.81898940e-12,\n",
       "        0.00000000e+00, -1.09139364e-11,  2.91038305e-11,  1.00044417e-11,\n",
       "        1.27329258e-11,  0.00000000e+00,  1.45519152e-11,  0.00000000e+00,\n",
       "        3.27418093e-11,  2.18278728e-11,  1.09139364e-11,  1.45519152e-11,\n",
       "        1.09139364e-11,  7.27595761e-12,  5.45696821e-12,  4.54747351e-12,\n",
       "        1.81898940e-12,  1.70530257e-13, -5.90638649e-14, -4.66293670e-15,\n",
       "        0.00000000e+00,  0.00000000e+00, -5.68434189e-14, -6.82121026e-13,\n",
       "       -3.18323146e-12, -6.36646291e-12, -6.36646291e-12,  7.27595761e-12,\n",
       "        7.27595761e-12,  0.00000000e+00,  1.81898940e-11,  5.45696821e-12,\n",
       "        1.81898940e-11,  1.45519152e-11,  1.45519152e-11,  0.00000000e+00,\n",
       "        2.27373675e-11,  7.27595761e-12,  1.09139364e-11,  3.63797881e-12,\n",
       "        3.63797881e-12,  3.63797881e-12,  3.63797881e-12,  4.09272616e-12,\n",
       "        2.16004992e-12,  2.55795385e-13, -8.88178420e-14,  0.00000000e+00,\n",
       "        0.00000000e+00,  0.00000000e+00, -5.50670620e-14, -7.38964445e-13,\n",
       "       -3.18323146e-12, -9.54969437e-12, -7.27595761e-12,  3.63797881e-12,\n",
       "        0.00000000e+00,  2.54658516e-11,  1.09139364e-11,  1.27329258e-11,\n",
       "        2.18278728e-11,  2.18278728e-11, -7.27595761e-12,  1.09139364e-11,\n",
       "        1.18234311e-11,  3.63797881e-12,  0.00000000e+00,  0.00000000e+00,\n",
       "        3.63797881e-12,  0.00000000e+00,  2.72848411e-12,  3.63797881e-12,\n",
       "        2.04636308e-12,  2.13162821e-13, -4.61852778e-14,  0.00000000e+00,\n",
       "        0.00000000e+00,  0.00000000e+00, -4.61852778e-14, -7.10542736e-13,\n",
       "       -4.54747351e-12, -7.27595761e-12, -1.81898940e-12,  1.45519152e-11,\n",
       "        7.27595761e-12,  2.18278728e-11,  1.09139364e-11,  1.45519152e-11,\n",
       "        2.91038305e-11,  2.18278728e-11,  0.00000000e+00,  3.63797881e-12,\n",
       "        7.27595761e-12, -7.27595761e-12, -1.45519152e-11, -7.27595761e-12,\n",
       "        0.00000000e+00,  0.00000000e+00,  8.18545232e-12,  5.22959454e-12,\n",
       "        2.10320650e-12,  3.69482223e-13,  1.95399252e-14,  0.00000000e+00,\n",
       "        0.00000000e+00, -3.21964677e-15, -7.10542736e-14, -1.02318154e-12,\n",
       "       -4.77484718e-12, -9.09494702e-12,  0.00000000e+00,  7.27595761e-12,\n",
       "        2.18278728e-11,  2.54658516e-11,  1.50066626e-11,  2.18278728e-11,\n",
       "        0.00000000e+00, -7.27595761e-12,  7.27595761e-12,  1.34576794e-11,\n",
       "        1.81898940e-11,  2.91038305e-11,  7.27595761e-12, -2.18278728e-11,\n",
       "       -1.09139364e-11,  6.36646291e-12,  8.64019967e-12,  7.73070497e-12,\n",
       "        3.01270120e-12,  6.11066753e-13,  2.35367281e-14, -6.92224056e-14,\n",
       "        0.00000000e+00, -2.75335310e-14, -9.94759830e-14, -1.13686838e-12,\n",
       "       -5.22959454e-12, -1.09139364e-11,  3.63797881e-12,  2.54658516e-11,\n",
       "        0.00000000e+00,  3.63797881e-11,  1.45519152e-11,  2.18278728e-11,\n",
       "        0.00000000e+00, -3.63797881e-12,  2.72848411e-12,  8.78230821e-12,\n",
       "        1.09139364e-11,  0.00000000e+00,  1.45519152e-11,  0.00000000e+00,\n",
       "       -1.81898940e-11, -2.72848411e-12,  1.28466127e-11,  1.13686838e-11,\n",
       "        5.57065505e-12,  7.38964445e-13, -7.72715225e-14, -8.08242362e-14,\n",
       "        0.00000000e+00, -5.32907052e-14, -8.52651283e-14, -1.08002496e-12,\n",
       "       -4.54747351e-12, -3.63797881e-12,  1.45519152e-11,  1.45519152e-11,\n",
       "        4.36557457e-11,  2.36468622e-11,  0.00000000e+00, -7.27595761e-12,\n",
       "        7.27595761e-12, -1.81898940e-12, -1.81898940e-12, -1.36424205e-12,\n",
       "        3.63797881e-12,  1.45519152e-11,  5.45696821e-12,  8.64019967e-12,\n",
       "       -6.36646291e-12, -1.81898940e-12,  1.53477231e-11,  1.63709046e-11,\n",
       "        8.86757334e-12,  1.25055521e-12, -5.32907052e-15, -2.18991492e-14,\n",
       "        0.00000000e+00, -2.93098879e-14, -6.75015599e-14, -1.30739863e-12,\n",
       "       -4.09272616e-12, -5.45696821e-12,  1.45519152e-11,  1.45519152e-11,\n",
       "        4.00177669e-11,  3.00133252e-11, -7.27595761e-12, -9.09494702e-12,\n",
       "        7.27595761e-12, -5.00222086e-12,  7.16227078e-12,  3.08659764e-11,\n",
       "        4.18367563e-11,  2.18278728e-11,  5.45696821e-12,  1.90993887e-11,\n",
       "        1.81898940e-11,  5.45696821e-12,  1.81898940e-11,  1.79625204e-11,\n",
       "        1.13686838e-11,  1.47792889e-12,  7.10542736e-14,  0.00000000e+00,\n",
       "        0.00000000e+00, -1.44328993e-15, -2.84217094e-14, -7.95807864e-13,\n",
       "       -4.09272616e-12,  3.63797881e-12,  1.81898940e-11,  3.27418093e-11,\n",
       "        1.81898940e-11,  2.18278728e-11,  3.63797881e-12,  9.09494702e-12,\n",
       "        5.45696821e-12,  1.09139364e-11,  3.72892828e-11,  5.36601874e-11,\n",
       "        4.91127139e-11,  3.81987775e-11,  1.54614099e-11,  1.81898940e-11,\n",
       "        2.91038305e-11,  1.27329258e-11,  1.72803993e-11,  1.65982783e-11,\n",
       "        1.04591891e-11,  1.64845915e-12,  4.08562073e-14, -1.80411242e-16,\n",
       "        0.00000000e+00,  0.00000000e+00, -2.57571742e-14, -6.82121026e-13,\n",
       "       -1.36424205e-12,  5.45696821e-12,  3.27418093e-11,  4.18367563e-11,\n",
       "        2.81943358e-11,  2.18278728e-11,  1.81898940e-12,  4.54747351e-13,\n",
       "        1.22781785e-11,  1.54614099e-11,  2.27373675e-11,  3.63797881e-11,\n",
       "        2.54658516e-11,  2.54658516e-11,  6.36646291e-12, -7.27595761e-12,\n",
       "        2.91038305e-11,  1.81898940e-11,  1.90993887e-11,  1.19513288e-11,\n",
       "        6.93489710e-12,  1.81898940e-12,  0.00000000e+00, -4.99600361e-16,\n",
       "        0.00000000e+00,  0.00000000e+00, -3.73034936e-14, -3.69482223e-13,\n",
       "       -4.54747351e-13,  9.09494702e-12,  3.18323146e-11,  3.54702934e-11,\n",
       "        3.81987775e-11,  2.54658516e-11,  1.45519152e-11,  1.09139364e-11,\n",
       "        1.63709046e-11,  1.63709046e-11,  1.72803993e-11,  2.36468622e-11,\n",
       "        3.63797881e-11,  1.09139364e-11, -1.09139364e-11,  0.00000000e+00,\n",
       "        3.63797881e-12,  1.09139364e-11,  1.09139364e-11,  8.69349037e-12,\n",
       "        4.43378667e-12,  6.25277607e-13,  8.88178420e-15, -2.35922393e-16,\n",
       "        0.00000000e+00,  0.00000000e+00, -3.28626015e-14, -2.41584530e-13,\n",
       "       -1.70530257e-13,  3.18323146e-12,  1.62572178e-11,  4.00177669e-11,\n",
       "        4.72937245e-11,  1.45519152e-11, -7.27595761e-12, -1.45519152e-11,\n",
       "        3.63797881e-12,  1.45519152e-11,  2.63753464e-11,  3.63797881e-11,\n",
       "        3.27418093e-11,  1.36424205e-11,  7.27595761e-12, -3.63797881e-12,\n",
       "        3.63797881e-11,  2.00088834e-11,  2.06910045e-11,  1.01749720e-11,\n",
       "        2.21689334e-12,  4.68958206e-13,  6.97220059e-14, -2.42861287e-16,\n",
       "        0.00000000e+00,  0.00000000e+00, -3.55271368e-14, -1.70530257e-13,\n",
       "        2.84217094e-14,  2.75690581e-12,  1.13686838e-11,  2.72848411e-11,\n",
       "        4.36557457e-11,  2.91038305e-11, -2.18278728e-11,  7.27595761e-12,\n",
       "       -7.27595761e-12,  2.54658516e-11,  3.27418093e-11,  4.18367563e-11,\n",
       "        2.36468622e-11,  1.09139364e-11,  1.45519152e-11,  1.45519152e-11,\n",
       "        3.09228199e-11,  4.13820089e-11,  2.87130320e-11,  4.14956958e-12,\n",
       "        1.42108547e-13, -2.02504680e-13,  1.95399252e-14,  0.00000000e+00,\n",
       "        0.00000000e+00,  0.00000000e+00, -1.66533454e-14, -9.23705556e-14,\n",
       "       -1.70530257e-13,  6.82121026e-13,  5.45696821e-12,  1.36424205e-11,\n",
       "        3.27418093e-11,  5.09317033e-11,  2.18278728e-11,  4.36557457e-11,\n",
       "        7.27595761e-12,  7.27595761e-12,  3.63797881e-12,  1.81898940e-11,\n",
       "        0.00000000e+00, -3.63797881e-12, -1.81898940e-12,  2.72848411e-12,\n",
       "        9.94759830e-12,  6.70752343e-12,  2.95585778e-12, -1.13686838e-12,\n",
       "       -6.53699317e-13, -2.71782596e-13,  3.19744231e-14,  0.00000000e+00,\n",
       "        0.00000000e+00,  0.00000000e+00,  4.44089210e-15, -1.56055724e-14,\n",
       "       -7.46069873e-14, -2.84217094e-14,  1.47792889e-12,  5.91171556e-12,\n",
       "        1.45519152e-11,  2.18278728e-11,  2.18278728e-11,  7.27595761e-12,\n",
       "        0.00000000e+00,  3.63797881e-11,  4.00177669e-11,  1.81898940e-11,\n",
       "        1.45519152e-11,  4.77484718e-12,  2.72848411e-12, -3.63797881e-12,\n",
       "       -7.27595761e-12, -6.82121026e-12, -3.86535248e-12, -6.82121026e-13,\n",
       "       -4.83169060e-13, -7.10542736e-14,  3.37507799e-14,  0.00000000e+00,\n",
       "        0.00000000e+00,  0.00000000e+00,  0.00000000e+00,  0.00000000e+00,\n",
       "        0.00000000e+00, -1.50990331e-14, -1.93622895e-13, -5.68434189e-13,\n",
       "       -4.54747351e-13,  9.09494702e-13,  2.72848411e-12,  9.09494702e-12,\n",
       "        1.63709046e-11,  1.36424205e-11,  2.07478479e-11,  2.09183781e-11,\n",
       "        9.09494702e-12,  5.45696821e-12, -5.45696821e-12, -1.63709046e-11,\n",
       "       -1.45519152e-11, -8.64019967e-12, -3.18323146e-12, -1.13686838e-12,\n",
       "       -2.84217094e-13,  3.55271368e-14,  2.19962937e-14,  0.00000000e+00,\n",
       "        0.00000000e+00,  0.00000000e+00,  0.00000000e+00,  0.00000000e+00,\n",
       "        0.00000000e+00, -5.68434189e-14, -4.68958206e-13, -1.13686838e-12,\n",
       "       -1.59161573e-12,  2.27373675e-13,  4.54747351e-12,  2.72848411e-12,\n",
       "        7.27595761e-12,  1.09139364e-11,  1.45519152e-11,  1.09139364e-11,\n",
       "        0.00000000e+00, -3.63797881e-12, -1.45519152e-11, -1.45519152e-11,\n",
       "       -1.45519152e-11, -6.82121026e-12, -2.95585778e-12, -1.02318154e-12,\n",
       "       -2.27373675e-13,  3.90798505e-14,  1.33226763e-14,  0.00000000e+00,\n",
       "        0.00000000e+00,  0.00000000e+00,  0.00000000e+00,  0.00000000e+00,\n",
       "        0.00000000e+00, -6.75015599e-14, -3.83693077e-13, -5.96855898e-13,\n",
       "       -3.97903932e-13,  9.09494702e-13,  3.63797881e-12,  3.63797881e-12,\n",
       "        9.09494702e-12,  1.27329258e-11,  1.27329258e-11,  9.09494702e-12,\n",
       "        3.63797881e-12,  3.63797881e-12, -5.45696821e-12, -1.00044417e-11,\n",
       "       -3.63797881e-12, -4.54747351e-12, -2.38742359e-12, -6.82121026e-13,\n",
       "        0.00000000e+00,  1.06581410e-14,  0.00000000e+00,  0.00000000e+00,\n",
       "        0.00000000e+00,  0.00000000e+00,  0.00000000e+00,  0.00000000e+00,\n",
       "       -1.55431223e-15, -9.32587341e-15,  8.34887715e-14,  9.94759830e-14,\n",
       "        2.27373675e-13,  1.08002496e-12,  1.47792889e-12,  2.27373675e-12,\n",
       "        6.82121026e-13,  3.18323146e-12,  4.54747351e-12,  6.36646291e-12,\n",
       "        3.18323146e-12,  1.36424205e-12,  0.00000000e+00, -9.09494702e-13,\n",
       "       -1.02318154e-12, -5.11590770e-13, -4.26325641e-13, -1.27897692e-13,\n",
       "        3.55271368e-15,  0.00000000e+00,  0.00000000e+00,  0.00000000e+00,\n",
       "        0.00000000e+00,  0.00000000e+00,  0.00000000e+00,  0.00000000e+00,\n",
       "       -8.88178420e-16, -4.88498131e-15, -6.21724894e-15, -1.77635684e-15,\n",
       "        6.57252031e-14,  1.35003120e-13,  5.68434189e-14, -5.68434189e-14,\n",
       "        8.52651283e-14,  1.56319402e-13,  9.94759830e-14, -4.26325641e-14,\n",
       "        7.10542736e-14,  8.52651283e-14,  4.26325641e-14, -1.77635684e-14,\n",
       "       -1.82076576e-14,  0.00000000e+00,  4.44089210e-15,  1.15463195e-14,\n",
       "        3.33066907e-16,  0.00000000e+00,  0.00000000e+00,  0.00000000e+00,\n",
       "        0.00000000e+00,  0.00000000e+00,  0.00000000e+00,  0.00000000e+00,\n",
       "        0.00000000e+00,  0.00000000e+00,  0.00000000e+00,  0.00000000e+00,\n",
       "        0.00000000e+00,  0.00000000e+00,  0.00000000e+00,  0.00000000e+00,\n",
       "        0.00000000e+00,  0.00000000e+00,  0.00000000e+00,  0.00000000e+00,\n",
       "        0.00000000e+00,  0.00000000e+00,  0.00000000e+00,  0.00000000e+00,\n",
       "        0.00000000e+00,  0.00000000e+00,  0.00000000e+00,  0.00000000e+00,\n",
       "        0.00000000e+00,  0.00000000e+00,  0.00000000e+00,  0.00000000e+00])"
      ]
     },
     "execution_count": 85,
     "metadata": {},
     "output_type": "execute_result"
    }
   ],
   "source": [
    "# If the matrix product C.col is the same as λ[-1]*col, this should evaluate to [0,0,0]\n",
    "np.dot(C, col) - (λ[-1] * col) "
   ]
  },
  {
   "cell_type": "code",
   "execution_count": 86,
   "metadata": {},
   "outputs": [],
   "source": [
    "# check if eigenvectors are row or column vector\n",
    "λ = np.flipud(λ)\n",
    "V = np.flipud(V.T)"
   ]
  },
  {
   "cell_type": "code",
   "execution_count": 87,
   "metadata": {},
   "outputs": [],
   "source": [
    "# Check once again\n",
    "row = V[0, :] "
   ]
  },
  {
   "cell_type": "code",
   "execution_count": 88,
   "metadata": {},
   "outputs": [
    {
     "data": {
      "text/plain": [
       "array([ 0.00000000e+00,  0.00000000e+00,  0.00000000e+00,  0.00000000e+00,\n",
       "        0.00000000e+00,  0.00000000e+00,  0.00000000e+00,  0.00000000e+00,\n",
       "        0.00000000e+00,  0.00000000e+00,  0.00000000e+00,  0.00000000e+00,\n",
       "       -8.88178420e-16, -2.99094083e-11,  4.37487745e-11,  4.37487745e-11,\n",
       "        0.00000000e+00, -2.18743873e-11,  0.00000000e+00, -6.83574602e-13,\n",
       "        8.54468253e-14,  1.06808532e-14,  0.00000000e+00,  0.00000000e+00,\n",
       "       -2.08610413e-17,  0.00000000e+00,  1.62976885e-19, -1.01860553e-20,\n",
       "        0.00000000e+00,  0.00000000e+00,  2.48682992e-24, -3.10853740e-25,\n",
       "        4.27435864e-15,  9.99200722e-15, -8.17124146e-14, -1.84741111e-13,\n",
       "       -3.19744231e-13, -9.23705556e-13, -1.83320026e-12,  7.95807864e-13,\n",
       "        8.71125394e-12,  6.69331257e-12, -1.70530257e-13, -1.70530257e-12,\n",
       "       -1.13686838e-12, -1.13686838e-12, -8.52651283e-13, -4.83169060e-13,\n",
       "       -3.12638804e-13, -2.84217094e-14, -3.19744231e-14, -7.26085858e-14,\n",
       "        0.00000000e+00,  0.00000000e+00,  0.00000000e+00,  0.00000000e+00,\n",
       "        0.00000000e+00,  0.00000000e+00, -2.93098879e-14,  3.33066907e-16,\n",
       "       -3.19744231e-14, -1.24344979e-14,  3.90798505e-14, -1.27897692e-13,\n",
       "       -4.26325641e-13, -2.27373675e-12, -4.88853402e-12,  9.20863386e-12,\n",
       "        2.00657269e-11,  5.45696821e-12, -4.54747351e-12,  0.00000000e+00,\n",
       "        7.27595761e-12,  1.81898940e-12,  5.45696821e-12,  6.36646291e-12,\n",
       "        4.54747351e-12,  4.09272616e-12,  1.47792889e-12,  3.97903932e-13,\n",
       "        2.55795385e-13,  9.94759830e-14,  0.00000000e+00,  0.00000000e+00,\n",
       "        0.00000000e+00,  0.00000000e+00, -6.75015599e-14, -2.13162821e-14,\n",
       "        6.03961325e-14, -9.23705556e-14, -1.42108547e-14, -2.84217094e-13,\n",
       "       -5.68434189e-13, -3.63797881e-12, -5.68434189e-12,  1.05728759e-11,\n",
       "        1.79625204e-11, -1.81898940e-12,  3.63797881e-12,  1.81898940e-11,\n",
       "        1.81898940e-11, -3.63797881e-12,  7.27595761e-12,  7.27595761e-12,\n",
       "        1.09139364e-11,  6.36646291e-12,  4.32009983e-12,  1.13686838e-12,\n",
       "        5.11590770e-13,  9.59232693e-14, -1.42108547e-14,  0.00000000e+00,\n",
       "        0.00000000e+00,  0.00000000e+00, -2.22044605e-16, -7.10542736e-15,\n",
       "        9.23705556e-14, -1.84741111e-13, -2.55795385e-13, -4.54747351e-13,\n",
       "       -1.81898940e-12, -7.27595761e-12, -2.27373675e-12,  1.22781785e-11,\n",
       "        6.36646291e-12,  1.81898940e-12,  1.09139364e-11,  1.45519152e-11,\n",
       "        0.00000000e+00,  2.18278728e-11,  1.09139364e-11,  1.45519152e-11,\n",
       "        1.09139364e-11,  9.09494702e-12,  3.63797881e-12,  1.05160325e-12,\n",
       "        1.35003120e-13, -6.75015599e-14, -7.99360578e-15, -7.41073869e-15,\n",
       "        0.00000000e+00,  0.00000000e+00,  3.55271368e-14, -4.70734562e-14,\n",
       "       -2.55795385e-13, -1.13686838e-12, -2.04636308e-12,  0.00000000e+00,\n",
       "       -4.54747351e-12, -1.36424205e-11, -9.09494702e-13,  1.09139364e-11,\n",
       "       -2.72848411e-12,  1.09139364e-11,  0.00000000e+00,  7.27595761e-12,\n",
       "        0.00000000e+00,  1.45519152e-11,  2.36468622e-11,  1.72803993e-11,\n",
       "        1.59161573e-11,  6.36646291e-12,  2.72848411e-12,  4.54747351e-13,\n",
       "       -4.54747351e-13, -1.42108547e-13, -3.01980663e-14, -1.43773882e-14,\n",
       "        0.00000000e+00,  0.00000000e+00,  5.32907052e-15, -1.70530257e-13,\n",
       "       -1.13686838e-12, -3.41060513e-12, -3.18323146e-12, -9.09494702e-13,\n",
       "       -3.63797881e-12, -1.27329258e-11, -3.63797881e-12,  9.09494702e-12,\n",
       "        2.72848411e-12,  2.54658516e-11,  7.27595761e-12,  7.27595761e-12,\n",
       "        1.45519152e-11,  3.09228199e-11,  2.09183781e-11,  1.27329258e-11,\n",
       "        1.45519152e-11,  5.45696821e-12,  5.45696821e-12, -9.09494702e-13,\n",
       "        1.36424205e-12, -5.68434189e-14, -6.75015599e-14, -6.21724894e-15,\n",
       "        0.00000000e+00,  0.00000000e+00,  0.00000000e+00, -4.54747351e-13,\n",
       "       -1.81898940e-12, -5.45696821e-12, -7.27595761e-12, -1.81898940e-12,\n",
       "        0.00000000e+00, -1.09139364e-11,  2.91038305e-11,  1.00044417e-11,\n",
       "        1.27329258e-11,  0.00000000e+00,  1.45519152e-11,  0.00000000e+00,\n",
       "        3.27418093e-11,  2.18278728e-11,  1.09139364e-11,  1.45519152e-11,\n",
       "        1.09139364e-11,  7.27595761e-12,  5.45696821e-12,  4.54747351e-12,\n",
       "        1.81898940e-12,  1.70530257e-13, -5.90638649e-14, -4.66293670e-15,\n",
       "        0.00000000e+00,  0.00000000e+00, -5.68434189e-14, -6.82121026e-13,\n",
       "       -3.18323146e-12, -6.36646291e-12, -6.36646291e-12,  7.27595761e-12,\n",
       "        7.27595761e-12,  0.00000000e+00,  1.81898940e-11,  5.45696821e-12,\n",
       "        1.81898940e-11,  1.45519152e-11,  1.45519152e-11,  0.00000000e+00,\n",
       "        2.27373675e-11,  7.27595761e-12,  1.09139364e-11,  3.63797881e-12,\n",
       "        3.63797881e-12,  3.63797881e-12,  3.63797881e-12,  4.09272616e-12,\n",
       "        2.16004992e-12,  2.55795385e-13, -8.88178420e-14,  0.00000000e+00,\n",
       "        0.00000000e+00,  0.00000000e+00, -5.50670620e-14, -7.38964445e-13,\n",
       "       -3.18323146e-12, -9.54969437e-12, -7.27595761e-12,  3.63797881e-12,\n",
       "        0.00000000e+00,  2.54658516e-11,  1.09139364e-11,  1.27329258e-11,\n",
       "        2.18278728e-11,  2.18278728e-11, -7.27595761e-12,  1.09139364e-11,\n",
       "        1.18234311e-11,  3.63797881e-12,  0.00000000e+00,  0.00000000e+00,\n",
       "        3.63797881e-12,  0.00000000e+00,  2.72848411e-12,  3.63797881e-12,\n",
       "        2.04636308e-12,  2.13162821e-13, -4.61852778e-14,  0.00000000e+00,\n",
       "        0.00000000e+00,  0.00000000e+00, -4.61852778e-14, -7.10542736e-13,\n",
       "       -4.54747351e-12, -7.27595761e-12, -1.81898940e-12,  1.45519152e-11,\n",
       "        7.27595761e-12,  2.18278728e-11,  1.09139364e-11,  1.45519152e-11,\n",
       "        2.91038305e-11,  2.18278728e-11,  0.00000000e+00,  3.63797881e-12,\n",
       "        7.27595761e-12, -7.27595761e-12, -1.45519152e-11, -7.27595761e-12,\n",
       "        0.00000000e+00,  0.00000000e+00,  8.18545232e-12,  5.22959454e-12,\n",
       "        2.10320650e-12,  3.69482223e-13,  1.95399252e-14,  0.00000000e+00,\n",
       "        0.00000000e+00, -3.21964677e-15, -7.10542736e-14, -1.02318154e-12,\n",
       "       -4.77484718e-12, -9.09494702e-12,  0.00000000e+00,  7.27595761e-12,\n",
       "        2.18278728e-11,  2.54658516e-11,  1.50066626e-11,  2.18278728e-11,\n",
       "        0.00000000e+00, -7.27595761e-12,  7.27595761e-12,  1.34576794e-11,\n",
       "        1.81898940e-11,  2.91038305e-11,  7.27595761e-12, -2.18278728e-11,\n",
       "       -1.09139364e-11,  6.36646291e-12,  8.64019967e-12,  7.73070497e-12,\n",
       "        3.01270120e-12,  6.11066753e-13,  2.35367281e-14, -6.92224056e-14,\n",
       "        0.00000000e+00, -2.75335310e-14, -9.94759830e-14, -1.13686838e-12,\n",
       "       -5.22959454e-12, -1.09139364e-11,  3.63797881e-12,  2.54658516e-11,\n",
       "        0.00000000e+00,  3.63797881e-11,  1.45519152e-11,  2.18278728e-11,\n",
       "        0.00000000e+00, -3.63797881e-12,  2.72848411e-12,  8.78230821e-12,\n",
       "        1.09139364e-11,  0.00000000e+00,  1.45519152e-11,  0.00000000e+00,\n",
       "       -1.81898940e-11, -2.72848411e-12,  1.28466127e-11,  1.13686838e-11,\n",
       "        5.57065505e-12,  7.38964445e-13, -7.72715225e-14, -8.08242362e-14,\n",
       "        0.00000000e+00, -5.32907052e-14, -8.52651283e-14, -1.08002496e-12,\n",
       "       -4.54747351e-12, -3.63797881e-12,  1.45519152e-11,  1.45519152e-11,\n",
       "        4.36557457e-11,  2.36468622e-11,  0.00000000e+00, -7.27595761e-12,\n",
       "        7.27595761e-12, -1.81898940e-12, -1.81898940e-12, -1.36424205e-12,\n",
       "        3.63797881e-12,  1.45519152e-11,  5.45696821e-12,  8.64019967e-12,\n",
       "       -6.36646291e-12, -1.81898940e-12,  1.53477231e-11,  1.63709046e-11,\n",
       "        8.86757334e-12,  1.25055521e-12, -5.32907052e-15, -2.18991492e-14,\n",
       "        0.00000000e+00, -2.93098879e-14, -6.75015599e-14, -1.30739863e-12,\n",
       "       -4.09272616e-12, -5.45696821e-12,  1.45519152e-11,  1.45519152e-11,\n",
       "        4.00177669e-11,  3.00133252e-11, -7.27595761e-12, -9.09494702e-12,\n",
       "        7.27595761e-12, -5.00222086e-12,  7.16227078e-12,  3.08659764e-11,\n",
       "        4.18367563e-11,  2.18278728e-11,  5.45696821e-12,  1.90993887e-11,\n",
       "        1.81898940e-11,  5.45696821e-12,  1.81898940e-11,  1.79625204e-11,\n",
       "        1.13686838e-11,  1.47792889e-12,  7.10542736e-14,  0.00000000e+00,\n",
       "        0.00000000e+00, -1.44328993e-15, -2.84217094e-14, -7.95807864e-13,\n",
       "       -4.09272616e-12,  3.63797881e-12,  1.81898940e-11,  3.27418093e-11,\n",
       "        1.81898940e-11,  2.18278728e-11,  3.63797881e-12,  9.09494702e-12,\n",
       "        5.45696821e-12,  1.09139364e-11,  3.72892828e-11,  5.36601874e-11,\n",
       "        4.91127139e-11,  3.81987775e-11,  1.54614099e-11,  1.81898940e-11,\n",
       "        2.91038305e-11,  1.27329258e-11,  1.72803993e-11,  1.65982783e-11,\n",
       "        1.04591891e-11,  1.64845915e-12,  4.08562073e-14, -1.80411242e-16,\n",
       "        0.00000000e+00,  0.00000000e+00, -2.57571742e-14, -6.82121026e-13,\n",
       "       -1.36424205e-12,  5.45696821e-12,  3.27418093e-11,  4.18367563e-11,\n",
       "        2.81943358e-11,  2.18278728e-11,  1.81898940e-12,  4.54747351e-13,\n",
       "        1.22781785e-11,  1.54614099e-11,  2.27373675e-11,  3.63797881e-11,\n",
       "        2.54658516e-11,  2.54658516e-11,  6.36646291e-12, -7.27595761e-12,\n",
       "        2.91038305e-11,  1.81898940e-11,  1.90993887e-11,  1.19513288e-11,\n",
       "        6.93489710e-12,  1.81898940e-12,  0.00000000e+00, -4.99600361e-16,\n",
       "        0.00000000e+00,  0.00000000e+00, -3.73034936e-14, -3.69482223e-13,\n",
       "       -4.54747351e-13,  9.09494702e-12,  3.18323146e-11,  3.54702934e-11,\n",
       "        3.81987775e-11,  2.54658516e-11,  1.45519152e-11,  1.09139364e-11,\n",
       "        1.63709046e-11,  1.63709046e-11,  1.72803993e-11,  2.36468622e-11,\n",
       "        3.63797881e-11,  1.09139364e-11, -1.09139364e-11,  0.00000000e+00,\n",
       "        3.63797881e-12,  1.09139364e-11,  1.09139364e-11,  8.69349037e-12,\n",
       "        4.43378667e-12,  6.25277607e-13,  8.88178420e-15, -2.35922393e-16,\n",
       "        0.00000000e+00,  0.00000000e+00, -3.28626015e-14, -2.41584530e-13,\n",
       "       -1.70530257e-13,  3.18323146e-12,  1.62572178e-11,  4.00177669e-11,\n",
       "        4.72937245e-11,  1.45519152e-11, -7.27595761e-12, -1.45519152e-11,\n",
       "        3.63797881e-12,  1.45519152e-11,  2.63753464e-11,  3.63797881e-11,\n",
       "        3.27418093e-11,  1.36424205e-11,  7.27595761e-12, -3.63797881e-12,\n",
       "        3.63797881e-11,  2.00088834e-11,  2.06910045e-11,  1.01749720e-11,\n",
       "        2.21689334e-12,  4.68958206e-13,  6.97220059e-14, -2.42861287e-16,\n",
       "        0.00000000e+00,  0.00000000e+00, -3.55271368e-14, -1.70530257e-13,\n",
       "        2.84217094e-14,  2.75690581e-12,  1.13686838e-11,  2.72848411e-11,\n",
       "        4.36557457e-11,  2.91038305e-11, -2.18278728e-11,  7.27595761e-12,\n",
       "       -7.27595761e-12,  2.54658516e-11,  3.27418093e-11,  4.18367563e-11,\n",
       "        2.36468622e-11,  1.09139364e-11,  1.45519152e-11,  1.45519152e-11,\n",
       "        3.09228199e-11,  4.13820089e-11,  2.87130320e-11,  4.14956958e-12,\n",
       "        1.42108547e-13, -2.02504680e-13,  1.95399252e-14,  0.00000000e+00,\n",
       "        0.00000000e+00,  0.00000000e+00, -1.66533454e-14, -9.23705556e-14,\n",
       "       -1.70530257e-13,  6.82121026e-13,  5.45696821e-12,  1.36424205e-11,\n",
       "        3.27418093e-11,  5.09317033e-11,  2.18278728e-11,  4.36557457e-11,\n",
       "        7.27595761e-12,  7.27595761e-12,  3.63797881e-12,  1.81898940e-11,\n",
       "        0.00000000e+00, -3.63797881e-12, -1.81898940e-12,  2.72848411e-12,\n",
       "        9.94759830e-12,  6.70752343e-12,  2.95585778e-12, -1.13686838e-12,\n",
       "       -6.53699317e-13, -2.71782596e-13,  3.19744231e-14,  0.00000000e+00,\n",
       "        0.00000000e+00,  0.00000000e+00,  4.44089210e-15, -1.56055724e-14,\n",
       "       -7.46069873e-14, -2.84217094e-14,  1.47792889e-12,  5.91171556e-12,\n",
       "        1.45519152e-11,  2.18278728e-11,  2.18278728e-11,  7.27595761e-12,\n",
       "        0.00000000e+00,  3.63797881e-11,  4.00177669e-11,  1.81898940e-11,\n",
       "        1.45519152e-11,  4.77484718e-12,  2.72848411e-12, -3.63797881e-12,\n",
       "       -7.27595761e-12, -6.82121026e-12, -3.86535248e-12, -6.82121026e-13,\n",
       "       -4.83169060e-13, -7.10542736e-14,  3.37507799e-14,  0.00000000e+00,\n",
       "        0.00000000e+00,  0.00000000e+00,  0.00000000e+00,  0.00000000e+00,\n",
       "        0.00000000e+00, -1.50990331e-14, -1.93622895e-13, -5.68434189e-13,\n",
       "       -4.54747351e-13,  9.09494702e-13,  2.72848411e-12,  9.09494702e-12,\n",
       "        1.63709046e-11,  1.36424205e-11,  2.07478479e-11,  2.09183781e-11,\n",
       "        9.09494702e-12,  5.45696821e-12, -5.45696821e-12, -1.63709046e-11,\n",
       "       -1.45519152e-11, -8.64019967e-12, -3.18323146e-12, -1.13686838e-12,\n",
       "       -2.84217094e-13,  3.55271368e-14,  2.19962937e-14,  0.00000000e+00,\n",
       "        0.00000000e+00,  0.00000000e+00,  0.00000000e+00,  0.00000000e+00,\n",
       "        0.00000000e+00, -5.68434189e-14, -4.68958206e-13, -1.13686838e-12,\n",
       "       -1.59161573e-12,  2.27373675e-13,  4.54747351e-12,  2.72848411e-12,\n",
       "        7.27595761e-12,  1.09139364e-11,  1.45519152e-11,  1.09139364e-11,\n",
       "        0.00000000e+00, -3.63797881e-12, -1.45519152e-11, -1.45519152e-11,\n",
       "       -1.45519152e-11, -6.82121026e-12, -2.95585778e-12, -1.02318154e-12,\n",
       "       -2.27373675e-13,  3.90798505e-14,  1.33226763e-14,  0.00000000e+00,\n",
       "        0.00000000e+00,  0.00000000e+00,  0.00000000e+00,  0.00000000e+00,\n",
       "        0.00000000e+00, -6.75015599e-14, -3.83693077e-13, -5.96855898e-13,\n",
       "       -3.97903932e-13,  9.09494702e-13,  3.63797881e-12,  3.63797881e-12,\n",
       "        9.09494702e-12,  1.27329258e-11,  1.27329258e-11,  9.09494702e-12,\n",
       "        3.63797881e-12,  3.63797881e-12, -5.45696821e-12, -1.00044417e-11,\n",
       "       -3.63797881e-12, -4.54747351e-12, -2.38742359e-12, -6.82121026e-13,\n",
       "        0.00000000e+00,  1.06581410e-14,  0.00000000e+00,  0.00000000e+00,\n",
       "        0.00000000e+00,  0.00000000e+00,  0.00000000e+00,  0.00000000e+00,\n",
       "       -1.55431223e-15, -9.32587341e-15,  8.34887715e-14,  9.94759830e-14,\n",
       "        2.27373675e-13,  1.08002496e-12,  1.47792889e-12,  2.27373675e-12,\n",
       "        6.82121026e-13,  3.18323146e-12,  4.54747351e-12,  6.36646291e-12,\n",
       "        3.18323146e-12,  1.36424205e-12,  0.00000000e+00, -9.09494702e-13,\n",
       "       -1.02318154e-12, -5.11590770e-13, -4.26325641e-13, -1.27897692e-13,\n",
       "        3.55271368e-15,  0.00000000e+00,  0.00000000e+00,  0.00000000e+00,\n",
       "        0.00000000e+00,  0.00000000e+00,  0.00000000e+00,  0.00000000e+00,\n",
       "       -8.88178420e-16, -4.88498131e-15, -6.21724894e-15, -1.77635684e-15,\n",
       "        6.57252031e-14,  1.35003120e-13,  5.68434189e-14, -5.68434189e-14,\n",
       "        8.52651283e-14,  1.56319402e-13,  9.94759830e-14, -4.26325641e-14,\n",
       "        7.10542736e-14,  8.52651283e-14,  4.26325641e-14, -1.77635684e-14,\n",
       "       -1.82076576e-14,  0.00000000e+00,  4.44089210e-15,  1.15463195e-14,\n",
       "        3.33066907e-16,  0.00000000e+00,  0.00000000e+00,  0.00000000e+00,\n",
       "        0.00000000e+00,  0.00000000e+00,  0.00000000e+00,  0.00000000e+00,\n",
       "        0.00000000e+00,  0.00000000e+00,  0.00000000e+00,  0.00000000e+00,\n",
       "        0.00000000e+00,  0.00000000e+00,  0.00000000e+00,  0.00000000e+00,\n",
       "        0.00000000e+00,  0.00000000e+00,  0.00000000e+00,  0.00000000e+00,\n",
       "        0.00000000e+00,  0.00000000e+00,  0.00000000e+00,  0.00000000e+00,\n",
       "        0.00000000e+00,  0.00000000e+00,  0.00000000e+00,  0.00000000e+00,\n",
       "        0.00000000e+00,  0.00000000e+00,  0.00000000e+00,  0.00000000e+00])"
      ]
     },
     "execution_count": 88,
     "metadata": {},
     "output_type": "execute_result"
    }
   ],
   "source": [
    "#If the matrix product C.row is the same as λ[0]*row, this should evaluate to [0,0,0]\n",
    "np.dot(C, row) - (λ[0] * row) "
   ]
  },
  {
   "cell_type": "code",
   "execution_count": 89,
   "metadata": {},
   "outputs": [
    {
     "data": {
      "text/plain": [
       "True"
      ]
     },
     "execution_count": 89,
     "metadata": {},
     "output_type": "execute_result"
    }
   ],
   "source": [
    "np.allclose(np.dot(C, row), λ[0] * row)"
   ]
  },
  {
   "cell_type": "code",
   "execution_count": 90,
   "metadata": {},
   "outputs": [
    {
     "name": "stdout",
     "output_type": "stream",
     "text": [
      "P:\n",
      " [[ 6.03309205e+02  2.26390331e+02 -4.21300143e+02 ...  2.24120122e-11\n",
      "   3.71676191e-11  1.26069820e-11]\n",
      " [ 2.39051740e+02  5.82245730e+02  4.60734970e+02 ... -5.99532873e-12\n",
      "  -7.60648645e-12 -2.43040915e-12]\n",
      " [-6.53418586e+02 -3.53971534e+02  5.45637818e+02 ...  1.45772501e-11\n",
      "   2.00259418e-11  8.23792707e-12]\n",
      " ...\n",
      " [-3.37380176e+02  2.40863919e+02 -3.19887013e+02 ...  1.75143157e-11\n",
      "   2.62729544e-11  6.80987034e-12]\n",
      " [-5.91528141e+02  3.15607791e+02 -1.02154922e+02 ...  8.74378869e-12\n",
      "   1.58522029e-11  9.52155099e-12]\n",
      " [-4.84824060e+02  2.51227770e+02 -2.40387798e+02 ...  2.14732850e-12\n",
      "   4.60416623e-12 -5.96950312e-13]]\n",
      "R:\n",
      " [[0. 0. 0. ... 0. 0. 0.]\n",
      " [0. 0. 0. ... 0. 0. 0.]\n",
      " [0. 0. 0. ... 0. 0. 0.]\n",
      " ...\n",
      " [0. 0. 0. ... 0. 0. 0.]\n",
      " [0. 0. 0. ... 0. 0. 0.]\n",
      " [0. 0. 0. ... 0. 0. 0.]]\n",
      "Xrec:\n",
      " [[0. 0. 0. ... 0. 0. 0.]\n",
      " [0. 0. 0. ... 0. 0. 0.]\n",
      " [0. 0. 0. ... 0. 0. 0.]\n",
      " ...\n",
      " [0. 0. 0. ... 0. 0. 0.]\n",
      " [0. 0. 0. ... 0. 0. 0.]\n",
      " [0. 0. 0. ... 0. 0. 0.]]\n"
     ]
    }
   ],
   "source": [
    "# Principal components\n",
    "P = np.dot(Z, V.T)\n",
    "\n",
    "# Z is recovered since R-Z is seen to contain very small values\n",
    "R = np.dot(P, V) \n",
    "\n",
    "# X is recovered since Xrec-X is seen to contain very small values\n",
    "Xrec = R + mu \n",
    "\n",
    "\n",
    "print('P:\\n', P)\n",
    "print('R:\\n', R)\n",
    "print('Xrec:\\n', Xrec)"
   ]
  },
  {
   "cell_type": "markdown",
   "metadata": {},
   "source": [
    "# See covariance matrix"
   ]
  },
  {
   "cell_type": "code",
   "execution_count": 91,
   "metadata": {},
   "outputs": [
    {
     "data": {
      "image/png": "[encoded data removed]",
      "text/plain": [
       "<Figure size 432x288 with 1 Axes>"
      ]
     },
     "metadata": {
      "needs_background": "light"
     },
     "output_type": "display_data"
    }
   ],
   "source": [
    "vectortoimg(C, 784)"
   ]
  },
  {
   "cell_type": "markdown",
   "metadata": {},
   "source": [
    "# Check eigenvectors"
   ]
  },
  {
   "cell_type": "code",
   "execution_count": 92,
   "metadata": {},
   "outputs": [
    {
     "data": {
      "text/plain": [
       "[5.3660187404602766e-11, 5.4569682106375694e-11]"
      ]
     },
     "execution_count": 92,
     "metadata": {},
     "output_type": "execute_result"
    }
   ],
   "source": [
    "# Check to make sure λ and V are correct by verifying the matrx equation CV - λV = 0\n",
    "# Small values appear as expected\n",
    "[max(abs(np.dot(C, V[0, :]) - λ[0] * V[0, :])), max(abs(np.dot(C, V[1, :]) - λ[1] * V[1, :]))]"
   ]
  },
  {
   "cell_type": "code",
   "execution_count": 93,
   "metadata": {},
   "outputs": [
    {
     "data": {
      "text/plain": [
       "[1.0000000000000002, 1.0000000000000007]"
      ]
     },
     "execution_count": 93,
     "metadata": {},
     "output_type": "execute_result"
    }
   ],
   "source": [
    "# Make sure thte two eigenvectors are unit vectors\n",
    "[LA.norm(V[0, :]), LA.norm(V[1, :])]"
   ]
  },
  {
   "cell_type": "code",
   "execution_count": 94,
   "metadata": {},
   "outputs": [
    {
     "data": {
      "text/plain": [
       "2.0296264668928643e-16"
      ]
     },
     "execution_count": 94,
     "metadata": {},
     "output_type": "execute_result"
    }
   ],
   "source": [
    "# Make sure the two eigenvectors are orthogonal\n",
    "np.dot(V[0, :], V[1, :])"
   ]
  },
  {
   "cell_type": "code",
   "execution_count": 95,
   "metadata": {},
   "outputs": [
    {
     "data": {
      "image/png": "[encoded data removed]",
      "text/plain": [
       "<Figure size 720x432 with 1 Axes>"
      ]
     },
     "metadata": {
      "needs_background": "light"
     },
     "output_type": "display_data"
    }
   ],
   "source": [
    "plt.figure(figsize = (10, 6))\n",
    "plt.plot(np.arange(len(X[0])), np.cumsum(λ) / np.sum(λ))\n",
    "plt.title(\"Plot of explained variance\")\n",
    "plt.grid(True)\n",
    "plt.show()"
   ]
  },
  {
   "cell_type": "markdown",
   "metadata": {},
   "source": [
    "# Dimension reduction"
   ]
  },
  {
   "cell_type": "code",
   "execution_count": 96,
   "metadata": {},
   "outputs": [
    {
     "name": "stdout",
     "output_type": "stream",
     "text": [
      "[[0. 0. 0. ... 0. 0. 0.]\n",
      " [0. 0. 0. ... 0. 0. 0.]\n",
      " [0. 0. 0. ... 0. 0. 0.]\n",
      " ...\n",
      " [0. 0. 0. ... 0. 0. 0.]\n",
      " [0. 0. 0. ... 0. 0. 0.]\n",
      " [0. 0. 0. ... 0. 0. 0.]]\n"
     ]
    }
   ],
   "source": [
    "# Reconstruction using 1 component\n",
    "Xrec1 = (np.dot(P[:, 0:1], V[0:1, :])) + mu\n",
    "print(Xrec1)"
   ]
  },
  {
   "cell_type": "code",
   "execution_count": 97,
   "metadata": {},
   "outputs": [
    {
     "name": "stdout",
     "output_type": "stream",
     "text": [
      "[[0. 0. 0. ... 0. 0. 0.]\n",
      " [0. 0. 0. ... 0. 0. 0.]\n",
      " [0. 0. 0. ... 0. 0. 0.]\n",
      " ...\n",
      " [0. 0. 0. ... 0. 0. 0.]\n",
      " [0. 0. 0. ... 0. 0. 0.]\n",
      " [0. 0. 0. ... 0. 0. 0.]]\n"
     ]
    }
   ],
   "source": [
    "# Reconstruction using 2 component\n",
    "Xrec2 = (np.dot(P[:, 0:2], V[0:2, :])) + mu\n",
    "print(Xrec2)"
   ]
  },
  {
   "cell_type": "code",
   "execution_count": 98,
   "metadata": {},
   "outputs": [
    {
     "name": "stdout",
     "output_type": "stream",
     "text": [
      "[[0. 0. 0. ... 0. 0. 0.]\n",
      " [0. 0. 0. ... 0. 0. 0.]\n",
      " [0. 0. 0. ... 0. 0. 0.]\n",
      " ...\n",
      " [0. 0. 0. ... 0. 0. 0.]\n",
      " [0. 0. 0. ... 0. 0. 0.]\n",
      " [0. 0. 0. ... 0. 0. 0.]]\n"
     ]
    }
   ],
   "source": [
    "# Reconstruction using 3 component\n",
    "Xrec3 = (np.dot(P[:, 0:3], V[0:3, :])) + mu\n",
    "print(Xrec3)"
   ]
  },
  {
   "cell_type": "code",
   "execution_count": 99,
   "metadata": {},
   "outputs": [
    {
     "data": {
      "text/plain": [
       "(784,)"
      ]
     },
     "execution_count": 99,
     "metadata": {},
     "output_type": "execute_result"
    }
   ],
   "source": [
    "mu_T = mu.transpose()\n",
    "\n",
    "mu_T.shape"
   ]
  },
  {
   "cell_type": "markdown",
   "metadata": {},
   "source": [
    "# 2-D Dimension"
   ]
  },
  {
   "cell_type": "code",
   "execution_count": 100,
   "metadata": {},
   "outputs": [
    {
     "data": {
      "text/plain": [
       "(11760, 2)"
      ]
     },
     "execution_count": 100,
     "metadata": {},
     "output_type": "execute_result"
    }
   ],
   "source": [
    "P_2D = np.dot(Z, V.T)\n",
    "P_2D = P_2D[:, 0:2]\n",
    "P_2D.shape"
   ]
  },
  {
   "cell_type": "code",
   "execution_count": 101,
   "metadata": {},
   "outputs": [
    {
     "data": {
      "text/plain": [
       "array([-3.37870321e-14, -4.30458390e-14])"
      ]
     },
     "execution_count": 101,
     "metadata": {},
     "output_type": "execute_result"
    }
   ],
   "source": [
    "np.mean(P_2D, axis = 0)"
   ]
  },
  {
   "cell_type": "code",
   "execution_count": 102,
   "metadata": {},
   "outputs": [],
   "source": [
    "def count(x, count_n, count_p, label_n, label_p):\n",
    "    \n",
    "    for i in x:\n",
    "        if i == label_n:\n",
    "            count_n += 1\n",
    "        if i == label_p:\n",
    "            count_p += 1\n",
    "    \n",
    "    return [count_n, count_p]"
   ]
  },
  {
   "cell_type": "code",
   "execution_count": 103,
   "metadata": {},
   "outputs": [
    {
     "name": "stdout",
     "output_type": "stream",
     "text": [
      "label_n, label_p =  [5842, 5918]\n"
     ]
    }
   ],
   "source": [
    "count_label = count(T, 0, 0, label_n, label_p)\n",
    "print(\"label_n, label_p = \", count_label)"
   ]
  },
  {
   "cell_type": "code",
   "execution_count": 104,
   "metadata": {},
   "outputs": [],
   "source": [
    "def seperate(T, Y, Yn, Yp, N, label_n, label_p):\n",
    "    \n",
    "    for i in range(N):\n",
    "        if T[i] == label_n:\n",
    "            Yn.append(Y[i,:])\n",
    "        if T[i] == label_p:\n",
    "            Yp.append(Y[i,:])\n",
    "            \n",
    "    return Yn, Yp"
   ]
  },
  {
   "cell_type": "code",
   "execution_count": 105,
   "metadata": {},
   "outputs": [],
   "source": [
    "P_2Dn, P_2Dp = seperate(T, P_2D, [], [], label_n+label_p, label_n, label_p)"
   ]
  },
  {
   "cell_type": "code",
   "execution_count": 106,
   "metadata": {},
   "outputs": [
    {
     "name": "stdout",
     "output_type": "stream",
     "text": [
      "P_2Dn:\n",
      " [[ 603.30920521  226.39033072]\n",
      " [ 239.05173975  582.24573029]\n",
      " [ 811.39289129 -110.4093358 ]\n",
      " [ 597.17452339  603.37704536]\n",
      " [ -36.06307395  740.76913129]]\n",
      "P_2Dp:\n",
      " [[ -653.41858649  -353.97153439]\n",
      " [ -419.2385091    474.64477741]\n",
      " [ -560.34593296   -35.66165845]\n",
      " [-1089.42040303   209.59062875]\n",
      " [ -836.72481406  -103.68308296]]\n",
      "P_2Dn_mean, P_2Dp_mean:\n",
      " [442.97305713 408.47458037] [-711.82964913   38.18382607]\n"
     ]
    }
   ],
   "source": [
    "P_2Dn = np.asarray(P_2Dn)\n",
    "P_2Dp = np.asarray(P_2Dp)\n",
    "P_2Dn_mean = np.mean(P_2Dn, axis = 0)\n",
    "P_2Dp_mean = np.mean(P_2Dp, axis = 0)\n",
    "\n",
    "P_2Dn_cov = np.cov(P_2Dn, rowvar = False)\n",
    "P_2Dp_cov = np.cov(P_2Dp, rowvar = False)\n",
    "\n",
    "print('P_2Dn:\\n', P_2Dn)\n",
    "print('P_2Dp:\\n', P_2Dp)\n",
    "print('P_2Dn_mean, P_2Dp_mean:\\n', P_2Dn_mean, P_2Dp_mean)"
   ]
  },
  {
   "cell_type": "markdown",
   "metadata": {},
   "source": [
    "# Create and See Histograms"
   ]
  },
  {
   "cell_type": "code",
   "execution_count": 107,
   "metadata": {},
   "outputs": [],
   "source": [
    "preprocesscounts = lambda cn, cp: (label_n, cn/(cn + cp)) if cn > cp else ((label_p, cn/(cn + cp)) if cp > cn else (('Indeterminate', 0.5) if cp > 0 else ('Indeterminate', np.nan)))"
   ]
  },
  {
   "cell_type": "code",
   "execution_count": 108,
   "metadata": {},
   "outputs": [],
   "source": [
    "def Build2DHistogramClassifier(X, T, B, xmin, xmax, label_n, label_p):\n",
    "    \n",
    "    Hn = np.zeros([B, B]).astype('int32');\n",
    "    Hp = np.zeros([B, B]).astype('int32');\n",
    "    \n",
    "    binindices = (np.round(((B - 1) * (X - xmin) / (xmax - xmin)))).astype('int32');\n",
    "    for i, x in enumerate(binindices):\n",
    "        if T[i] == label_n:\n",
    "            Hn[x[0], x[1]] += 1;\n",
    "        else:\n",
    "            Hp[x[0], x[1]] += 1;\n",
    "            \n",
    "    return [Hn, Hp]"
   ]
  },
  {
   "cell_type": "code",
   "execution_count": 109,
   "metadata": {},
   "outputs": [],
   "source": [
    "def Apply2DHistogramClassifier(queries, Hn, Hp, xmin, xmax, label_n, label_p):\n",
    "    \n",
    "    B = np.alen(Hp);\n",
    "    binindices = (np.round(((B - 1) * (queries - xmin) / (xmax - xmin)))).astype('int32');\n",
    "    \n",
    "    count_n = Hp[binindices[:, 0], binindices[:, 1]];\n",
    "    count_p = Hn[binindices[:, 0], binindices[:, 1]];\n",
    "    \n",
    "    resultlabel = np.full(np.alen(binindices), \"Indeterminate\", dtype = object);\n",
    "    resultprob = np.full(np.alen(binindices), np.nan, dtype = object);\n",
    "    \n",
    "    indices_n = count_n > count_p;\n",
    "    indices_p = count_p > count_n;\n",
    "    resultlabel[indices_n] = label_n;\n",
    "    resultlabel[indices_p] = label_p;\n",
    "    \n",
    "    prob_n = count_n / (count_n + count_p);\n",
    "    prob_p = count_p / (count_n + count_p);\n",
    "    \n",
    "    resultprob[indices_n] = prob_n[indices_n];\n",
    "    resultprob[indices_p] = prob_p[indices_p];\n",
    "    \n",
    "    return [resultlabel, resultprob]"
   ]
  },
  {
   "cell_type": "code",
   "execution_count": 110,
   "metadata": {},
   "outputs": [
    {
     "data": {
      "image/png": "[encoded data removed]",
      "text/plain": [
       "<Figure size 432x288 with 1 Axes>"
      ]
     },
     "metadata": {
      "needs_background": "light"
     },
     "output_type": "display_data"
    },
    {
     "data": {
      "image/png": "[encoded data removed]",
      "text/plain": [
       "<Figure size 432x288 with 1 Axes>"
      ]
     },
     "metadata": {
      "needs_background": "light"
     },
     "output_type": "display_data"
    }
   ],
   "source": [
    "B = 32\n",
    "# Getting min and max from data\n",
    "xmin = np.amin(P_2D, axis = 0)\n",
    "xmax = np.amax(P_2D, axis = 0)\n",
    "[Hn, Hp] = Build2DHistogramClassifier(P_2D, T, B, xmin, xmax, label_n, label_p)\n",
    "\n",
    "vectortoimg(Hn, B)\n",
    "vectortoimg(Hp, B)"
   ]
  },
  {
   "cell_type": "code",
   "execution_count": null,
   "metadata": {},
   "outputs": [],
   "source": []
  },
  {
   "cell_type": "markdown",
   "metadata": {},
   "source": [
    "# Testing Data"
   ]
  },
  {
   "cell_type": "code",
   "execution_count": 111,
   "metadata": {},
   "outputs": [
    {
     "name": "stdout",
     "output_type": "stream",
     "text": [
      "magic_nr, size, rows, cols 2051 10000 28 28\n",
      "N 958\n"
     ]
    }
   ],
   "source": [
    "XP, TP = load_mnist(dataset = \"testing\", selecteddigits = [label_p])\n",
    "ZP = XP - mu\n",
    "PP = np.dot(ZP, V.T)\n",
    "PP = PP[:, 0:2]\n",
    "RP = np.dot(PP, V[0:2, :])\n",
    "XrecP = RP + mu"
   ]
  },
  {
   "cell_type": "code",
   "execution_count": 112,
   "metadata": {},
   "outputs": [
    {
     "name": "stdout",
     "output_type": "stream",
     "text": [
      "magic_nr, size, rows, cols 2051 10000 28 28\n",
      "N 982\n"
     ]
    }
   ],
   "source": [
    "XN, TN = load_mnist(dataset = \"testing\", selecteddigits = [label_n])\n",
    "ZN = XN - mu\n",
    "PN = np.dot(ZN, V.T)\n",
    "PN = PN[:, 0:2]\n",
    "RN = np.dot(PN, V[0:2, :])\n",
    "XrecN = RN + mu"
   ]
  },
  {
   "cell_type": "code",
   "execution_count": null,
   "metadata": {},
   "outputs": [],
   "source": []
  },
  {
   "cell_type": "markdown",
   "metadata": {},
   "source": [
    "# Apply Histogram Classifier"
   ]
  },
  {
   "cell_type": "code",
   "execution_count": 113,
   "metadata": {},
   "outputs": [
    {
     "name": "stdout",
     "output_type": "stream",
     "text": [
      "     0    1\n",
      "0  4.0  1.0\n",
      "     0         1\n",
      "0  6.0  0.583333\n"
     ]
    }
   ],
   "source": [
    "[resultlabelHp, resultprobHp] = Apply2DHistogramClassifier(PP[0:1, :], Hp, Hn, xmin, xmax, label_n, label_p)\n",
    "[resultlabelHn, resultprobHn] = Apply2DHistogramClassifier(PN[0:1, :], Hp, Hn, xmin, xmax, label_n, label_p)\n",
    "\n",
    "print(DataFrame([resultlabelHn, resultprobHn]).T)\n",
    "print(DataFrame([resultlabelHp, resultprobHp]).T)"
   ]
  },
  {
   "cell_type": "code",
   "execution_count": null,
   "metadata": {},
   "outputs": [],
   "source": []
  },
  {
   "cell_type": "markdown",
   "metadata": {},
   "source": [
    "# Baysian Classifier"
   ]
  },
  {
   "cell_type": "code",
   "execution_count": 114,
   "metadata": {},
   "outputs": [],
   "source": [
    "def Build2DBayesianClassifer(X, T, label_n, label_p):\n",
    "    \n",
    "    mu_n = np.mean(X[T == label_n],axis = 0)\n",
    "    mu_p = np.mean(X[T == label_p],axis = 0)\n",
    "    \n",
    "    sigma_n = np.cov(X[T == label_n], rowvar = False)\n",
    "    sigma_p = np.cov(X[T == label_p], rowvar = False)\n",
    "    \n",
    "    Nn = len(T[T == label_n])\n",
    "    Np = len(T[T == label_p])\n",
    "\n",
    "    return[[mu_n, sigma_n, Nn], [mu_p, sigma_p, Np]]"
   ]
  },
  {
   "cell_type": "code",
   "execution_count": 115,
   "metadata": {},
   "outputs": [],
   "source": [
    "def pdf(x, mu, sigma):\n",
    "    \n",
    "    d = np.alen(mu)\n",
    "    dfact1 = (2 * np.pi) ** d\n",
    "    dfact2 = np.linalg.det(sigma)\n",
    "    \n",
    "    fact = 1 / np.sqrt(dfact1 * dfact2)\n",
    "    \n",
    "    xc = x - mu\n",
    "    isigma = np.linalg.inv(sigma)\n",
    "    \n",
    "    return fact * np.exp(-0.5 * np.einsum('ij,jk,ik->i', xc, isigma, xc))"
   ]
  },
  {
   "cell_type": "code",
   "execution_count": 116,
   "metadata": {},
   "outputs": [],
   "source": [
    "def Apply2DBayesianClassifer(queries, mu_n, mu_p, sigma_n, sigma_p, Nn, Np, label_n, label_p):\n",
    "    \n",
    "    A = 1\n",
    "    \n",
    "    count_n = Nn * A * pdf(queries, mu_n, sigma_n)\n",
    "    count_p = Np * A * pdf(queries, mu_p, sigma_p)\n",
    "        \n",
    "    resultlabel = np.full(np.alen(queries), \"Indeterminate\", dtype = object);\n",
    "    \n",
    "    resultprob = np.full(np.alen(queries), np.nan, dtype = object);\n",
    "    \n",
    "    indices_n = count_n > count_p;\n",
    "    indices_p = count_p > count_n;\n",
    "    \n",
    "    resultlabel[indices_n] = label_n;   \n",
    "    resultlabel[indices_p] = label_p;\n",
    "    \n",
    "    prob_n = count_n / (count_p + count_n);\n",
    "    prob_p = count_p / (count_p + count_n);\n",
    "    \n",
    "    resultprob[indices_n] = prob_n[indices_n];\n",
    "    resultprob[indices_p] = prob_p[indices_p];\n",
    "    \n",
    "    return resultlabel, resultprob"
   ]
  },
  {
   "cell_type": "code",
   "execution_count": 117,
   "metadata": {},
   "outputs": [
    {
     "name": "stdout",
     "output_type": "stream",
     "text": [
      "     0         1\n",
      "0  4.0  0.976869\n",
      "\n",
      "     0    1\n",
      "0  6.0  1.0\n"
     ]
    }
   ],
   "source": [
    "[resultlabelBp, resultprobBp] = Apply2DBayesianClassifer(PP[0:1, :], P_2Dn_mean, P_2Dp_mean, P_2Dn_cov, P_2Dp_cov, count_label[0], count_label[1], label_p, label_n)\n",
    "[resultlabelBn, resultprobBn] = Apply2DBayesianClassifer(PN[0:1, :], P_2Dn_mean, P_2Dp_mean, P_2Dn_cov, P_2Dp_cov, count_label[0], count_label[1], label_p, label_n)\n",
    "\n",
    "print(DataFrame([resultlabelBp, resultprobBp]).T)\n",
    "print(\"\")\n",
    "print(DataFrame([resultlabelBn, resultprobBn]).T)\n"
   ]
  },
  {
   "cell_type": "code",
   "execution_count": null,
   "metadata": {},
   "outputs": [],
   "source": []
  },
  {
   "cell_type": "code",
   "execution_count": 118,
   "metadata": {},
   "outputs": [],
   "source": [
    "PP_test = PP[0:20, :]\n",
    "PN_test = PN[0:20, :]"
   ]
  },
  {
   "cell_type": "code",
   "execution_count": 119,
   "metadata": {},
   "outputs": [
    {
     "name": "stdout",
     "output_type": "stream",
     "text": [
      "                0         1\n",
      "0               4  0.583333\n",
      "1               4  0.833333\n",
      "2               4  0.583333\n",
      "3               4         1\n",
      "4               6  0.636364\n",
      "5               4  0.583333\n",
      "6               4         1\n",
      "7               4         1\n",
      "8               4         1\n",
      "9               4  0.888889\n",
      "10              4  0.666667\n",
      "11              4         1\n",
      "12              4         1\n",
      "13              4         1\n",
      "14              4         1\n",
      "15              4         1\n",
      "16              4  0.909091\n",
      "17              4         1\n",
      "18  Indeterminate       NaN\n",
      "19              4         1\n",
      "\n",
      "                0         1\n",
      "0               6         1\n",
      "1               6         1\n",
      "2               6         1\n",
      "3               6         1\n",
      "4               6         1\n",
      "5               4  0.928571\n",
      "6               6         1\n",
      "7               6         1\n",
      "8               6         1\n",
      "9               6         1\n",
      "10              6  0.958333\n",
      "11              6         1\n",
      "12              6         1\n",
      "13              6  0.842105\n",
      "14              6         1\n",
      "15              6  0.870968\n",
      "16              6  0.962963\n",
      "17              6         1\n",
      "18              6         1\n",
      "19  Indeterminate       NaN\n"
     ]
    }
   ],
   "source": [
    "[resultlabelHp1, resultprobHp1] = Apply2DHistogramClassifier(PP_test, Hp, Hn, xmin, xmax, label_p, label_n)\n",
    "[resultlabelHn1, resultprobHn1] = Apply2DHistogramClassifier(PN_test, Hp, Hn, xmin, xmax, label_p, label_n)\n",
    "\n",
    "print(DataFrame([resultlabelHp1, resultprobHp1]).T)\n",
    "print(\"\")\n",
    "print(DataFrame([resultlabelHn1, resultprobHn1]).T)\n",
    "\n"
   ]
  },
  {
   "cell_type": "code",
   "execution_count": null,
   "metadata": {},
   "outputs": [],
   "source": []
  },
  {
   "cell_type": "code",
   "execution_count": 120,
   "metadata": {},
   "outputs": [
    {
     "name": "stdout",
     "output_type": "stream",
     "text": [
      "[0.7916666666666667]\n"
     ]
    }
   ],
   "source": [
    "accuracyH = (resultprobHp + resultprobHn) / 2\n",
    "print(accuracyH)"
   ]
  },
  {
   "cell_type": "code",
   "execution_count": 121,
   "metadata": {},
   "outputs": [
    {
     "name": "stdout",
     "output_type": "stream",
     "text": [
      "[0.9884345518771094]\n"
     ]
    }
   ],
   "source": [
    "accuracyB = (resultprobBp + resultprobBn) / 2\n",
    "print(accuracyB)"
   ]
  },
  {
   "cell_type": "code",
   "execution_count": null,
   "metadata": {},
   "outputs": [],
   "source": []
  },
  {
   "cell_type": "code",
   "execution_count": 122,
   "metadata": {},
   "outputs": [
    {
     "data": {
      "image/png": "[encoded data removed]",
      "text/plain": [
       "<Figure size 720x720 with 1 Axes>"
      ]
     },
     "metadata": {
      "needs_background": "light"
     },
     "output_type": "display_data"
    }
   ],
   "source": [
    "randomorder = np.arange(len(T))\n",
    "# Set colors\n",
    "opacity = 0.25\n",
    "cols = np.zeros((len(T), 4))     # Initialize matrix to hold colors\n",
    "cols[T[ : ,0] == label_n] = [1, 0, 0, opacity] # Negative points are red (with opacity 0.25)\n",
    "cols[T[ : ,0] == label_p] = [0, 1, 0, opacity] # Positive points are green (with opacity 0.25)\n",
    "\n",
    "# Draw scatter plot\n",
    "fig = plt.figure(figsize = (10,10))\n",
    "ax = fig.add_subplot(111, facecolor = 'black')\n",
    "ax.scatter(P[randomorder, 1], P[randomorder, 0], s = 50, linewidths = 0, facecolors = cols[randomorder, :], marker = \"o\");\n",
    "ax.set_aspect('equal')\n",
    "\n",
    "plt.gca().invert_yaxis()\n",
    "plt.show()"
   ]
  },
  {
   "cell_type": "code",
   "execution_count": null,
   "metadata": {},
   "outputs": [],
   "source": []
  },
  {
   "cell_type": "markdown",
   "metadata": {},
   "source": [
    "# PCA using sklearn"
   ]
  },
  {
   "cell_type": "code",
   "execution_count": 123,
   "metadata": {},
   "outputs": [],
   "source": [
    "from sklearn.decomposition import PCA"
   ]
  },
  {
   "cell_type": "code",
   "execution_count": 124,
   "metadata": {},
   "outputs": [
    {
     "data": {
      "text/plain": [
       "(11760, 2)"
      ]
     },
     "execution_count": 124,
     "metadata": {},
     "output_type": "execute_result"
    }
   ],
   "source": [
    "pca = PCA(n_components = 2)\n",
    "Psk = pca.fit_transform(X)\n",
    "Psk.shape"
   ]
  },
  {
   "cell_type": "code",
   "execution_count": 125,
   "metadata": {},
   "outputs": [
    {
     "data": {
      "text/plain": [
       "(11760, 784)"
      ]
     },
     "execution_count": 125,
     "metadata": {},
     "output_type": "execute_result"
    }
   ],
   "source": [
    "Xrecsk = pca.inverse_transform(Psk)\n",
    "Xrecsk.shape"
   ]
  },
  {
   "cell_type": "code",
   "execution_count": 126,
   "metadata": {},
   "outputs": [
    {
     "data": {
      "image/png": "[encoded data removed]",
      "text/plain": [
       "<Figure size 432x288 with 1 Axes>"
      ]
     },
     "metadata": {
      "needs_background": "light"
     },
     "output_type": "display_data"
    },
    {
     "data": {
      "image/png": "[encoded data removed]",
      "text/plain": [
       "<Figure size 432x288 with 1 Axes>"
      ]
     },
     "metadata": {
      "needs_background": "light"
     },
     "output_type": "display_data"
    },
    {
     "data": {
      "image/png": "[encoded data removed]",
      "text/plain": [
       "<Figure size 432x288 with 1 Axes>"
      ]
     },
     "metadata": {
      "needs_background": "light"
     },
     "output_type": "display_data"
    },
    {
     "data": {
      "image/png": "[encoded data removed]",
      "text/plain": [
       "<Figure size 432x288 with 1 Axes>"
      ]
     },
     "metadata": {
      "needs_background": "light"
     },
     "output_type": "display_data"
    }
   ],
   "source": [
    "# From first principles\n",
    "vectortoimg(Xrec[0], 28)\n",
    "vectortoimg(Xrec[1], 28)\n",
    "vectortoimg(Xrec[-2], 28)\n",
    "vectortoimg(Xrec[-3], 28)"
   ]
  },
  {
   "cell_type": "code",
   "execution_count": 127,
   "metadata": {},
   "outputs": [
    {
     "data": {
      "image/png": "[encoded data removed]",
      "text/plain": [
       "<Figure size 432x288 with 1 Axes>"
      ]
     },
     "metadata": {
      "needs_background": "light"
     },
     "output_type": "display_data"
    },
    {
     "data": {
      "image/png": "[encoded data removed]",
      "text/plain": [
       "<Figure size 432x288 with 1 Axes>"
      ]
     },
     "metadata": {
      "needs_background": "light"
     },
     "output_type": "display_data"
    },
    {
     "data": {
      "image/png": "[encoded data removed]",
      "text/plain": [
       "<Figure size 432x288 with 1 Axes>"
      ]
     },
     "metadata": {
      "needs_background": "light"
     },
     "output_type": "display_data"
    },
    {
     "data": {
      "image/png": "[encoded data removed]",
      "text/plain": [
       "<Figure size 432x288 with 1 Axes>"
      ]
     },
     "metadata": {
      "needs_background": "light"
     },
     "output_type": "display_data"
    }
   ],
   "source": [
    "# Using sklearn\n",
    "vectortoimg(Xrecsk[0], 28)\n",
    "vectortoimg(Xrecsk[1], 28)\n",
    "vectortoimg(Xrecsk[-2], 28)\n",
    "vectortoimg(Xrecsk[-3], 28)"
   ]
  },
  {
   "cell_type": "code",
   "execution_count": 128,
   "metadata": {},
   "outputs": [
    {
     "data": {
      "image/png": "[encoded data removed]",
      "text/plain": [
       "<Figure size 720x432 with 1 Axes>"
      ]
     },
     "metadata": {
      "needs_background": "light"
     },
     "output_type": "display_data"
    }
   ],
   "source": [
    "pcafull = PCA()\n",
    "Pskfull = pcafull.fit_transform(X)\n",
    "λskfull = pcafull.explained_variance_\n",
    "plt.figure(figsize = (10, 6))\n",
    "plt.plot(np.arange(len(X[0])), np.cumsum(λskfull) / np.sum(λskfull))\n",
    "plt.title('Plot of explained variance using sklean')\n",
    "plt.grid(True)\n",
    "plt.show()"
   ]
  },
  {
   "cell_type": "code",
   "execution_count": null,
   "metadata": {},
   "outputs": [],
   "source": []
  },
  {
   "cell_type": "code",
   "execution_count": null,
   "metadata": {},
   "outputs": [],
   "source": []
  },
  {
   "cell_type": "code",
   "execution_count": null,
   "metadata": {},
   "outputs": [],
   "source": []
  }
 ],
 "metadata": {
  "kernelspec": {
   "display_name": "Python 3",
   "language": "python",
   "name": "python3"
  },
  "language_info": {
   "codemirror_mode": {
    "name": "ipython",
    "version": 3
   },
   "file_extension": ".py",
   "mimetype": "text/x-python",
   "name": "python",
   "nbconvert_exporter": "python",
   "pygments_lexer": "ipython3",
   "version": "3.7.4"
  }
 },
 "nbformat": 4,
 "nbformat_minor": 2
}
